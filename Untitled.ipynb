{
 "cells": [
  {
   "cell_type": "code",
   "execution_count": 1,
   "metadata": {},
   "outputs": [],
   "source": [
    "## Berkay Use correlations to indices\n",
    "import numpy as np\n",
    "import dask.array as da\n",
    "from sklearn.pipeline import Pipeline\n",
    "from sklearn.decomposition import PCA\n",
    "from sklearn.linear_model import LogisticRegression\n",
    "from pymks.fmks.correlations import FlattenTransformer, TwoPointcorrelation\n",
    "from pymks.fmks.data.cahn_hilliard import generate\n",
    "from pymks.fmks.bases.legendre import LegendreTransformer\n",
    "x0_phase, x1_phase = generate(shape=(50, 21, 21))\n"
   ]
  },
  {
   "cell_type": "code",
   "execution_count": 2,
   "metadata": {},
   "outputs": [],
   "source": [
    "a=LegendreTransformer(n_state=3, min_=-1.0, max_=1.0).transform(x0_phase).compute()"
   ]
  },
  {
   "cell_type": "code",
   "execution_count": 3,
   "metadata": {},
   "outputs": [
    {
     "data": {
      "text/plain": [
       "(50, 21, 21, 3)"
      ]
     },
     "execution_count": 3,
     "metadata": {},
     "output_type": "execute_result"
    }
   ],
   "source": [
    "a.shape"
   ]
  },
  {
   "cell_type": "code",
   "execution_count": 4,
   "metadata": {},
   "outputs": [],
   "source": [
    "from pymks.fmks.correlations import two_point_stats\n"
   ]
  },
  {
   "cell_type": "code",
   "execution_count": 5,
   "metadata": {},
   "outputs": [],
   "source": [
    "c=TwoPointcorrelation(periodic_boundary=True, cutoff=None, correlations1=1, correlations2=0).transform(a)"
   ]
  },
  {
   "cell_type": "code",
   "execution_count": 6,
   "metadata": {},
   "outputs": [
    {
     "data": {
      "text/plain": [
       "(50, 15, 15)"
      ]
     },
     "execution_count": 6,
     "metadata": {},
     "output_type": "execute_result"
    }
   ],
   "source": [
    "c.compute().shape"
   ]
  },
  {
   "cell_type": "code",
   "execution_count": 7,
   "metadata": {},
   "outputs": [],
   "source": [
    "correlations=[(0,0),(1,1)]"
   ]
  },
  {
   "cell_type": "code",
   "execution_count": 8,
   "metadata": {},
   "outputs": [],
   "source": [
    "from toolz.curried import curry\n",
    "from toolz.curried import map as map_\n",
    "from toolz import pipe"
   ]
  },
  {
   "cell_type": "code",
   "execution_count": 9,
   "metadata": {},
   "outputs": [],
   "source": [
    "@curry\n",
    "def add(i, x):\n",
    "    return i + x[0] + x[1]"
   ]
  },
  {
   "cell_type": "code",
   "execution_count": 14,
   "metadata": {},
   "outputs": [],
   "source": [
    "@curry\n",
    "def calc_corel(i, c):\n",
    "    return pipe(i,\n",
    "                lambda x: da.from_array(x, chunks=x.shape),\n",
    "                lambda x: (x[..., c[0]], x[..., c[1]]),\n",
    "                lambda x: two_point_stats(\n",
    "                    *x, periodic_boundary=True, cutoff=None),\n",
    "               )\n",
    "\n",
    "def calc(i, values):\n",
    "    return map(calc_corel(i), values)\n",
    "\n",
    "def compute_def(a):\n",
    "    return a.compute()\n"
   ]
  },
  {
   "cell_type": "code",
   "execution_count": 23,
   "metadata": {},
   "outputs": [
    {
     "data": {
      "text/plain": [
       "(50, 15, 15, 2)"
      ]
     },
     "execution_count": 23,
     "metadata": {},
     "output_type": "execute_result"
    }
   ],
   "source": [
    "pipe(a,\n",
    "    lambda x:calc(a,correlations),\n",
    "    lambda x:list(map(compute_def,x)),\n",
    "    lambda x:np.stack(x,axis=-1))"
   ]
  },
  {
   "cell_type": "code",
   "execution_count": 21,
   "metadata": {},
   "outputs": [
    {
     "data": {
      "text/plain": [
       "(50, 15, 15, 2)"
      ]
     },
     "execution_count": 21,
     "metadata": {},
     "output_type": "execute_result"
    }
   ],
   "source": [
    "aaaa=list(calc(a,correlations))\n",
    "bbbb=list(map(compute_def,aaaa))\n",
    "np.stack(bbbb, axis=-1).shape"
   ]
  },
  {
   "cell_type": "code",
   "execution_count": 12,
   "metadata": {},
   "outputs": [
    {
     "data": {
      "text/plain": [
       "array([[[ 0.03062945, -0.02266826,  0.01444869, ..., -0.00771177,\n",
       "         -0.05045073, -0.00016089],\n",
       "        [ 0.00028416,  0.07319376, -0.02597823, ..., -0.00228926,\n",
       "         -0.03885906,  0.03115983],\n",
       "        [ 0.00681252, -0.03113244, -0.07301884, ..., -0.01110017,\n",
       "          0.03233835,  0.03343131],\n",
       "        ...,\n",
       "        [-0.01991402, -0.02144627, -0.06061045, ..., -0.02330788,\n",
       "          0.06109132,  0.01303692],\n",
       "        [ 0.06690747, -0.01528481, -0.023689  , ..., -0.03564766,\n",
       "         -0.00563402,  0.06661445],\n",
       "        [ 0.01646452, -0.04488447, -0.04429063, ..., -0.01457739,\n",
       "          0.02902389, -0.01369834]],\n",
       "\n",
       "       [[ 0.0211036 , -0.01713468, -0.06950966, ...,  0.00234723,\n",
       "         -0.04720346,  0.01703265],\n",
       "        [-0.03809284,  0.02101509,  0.01123817, ..., -0.01500937,\n",
       "          0.05252665, -0.03919504],\n",
       "        [ 0.00905866,  0.03487068,  0.03446846, ..., -0.05184914,\n",
       "         -0.04008164,  0.00375003],\n",
       "        ...,\n",
       "        [-0.04803593, -0.05808769,  0.04544723, ...,  0.00990468,\n",
       "          0.02988138, -0.03686676],\n",
       "        [ 0.01563683, -0.02113154,  0.01018849, ..., -0.00970299,\n",
       "         -0.03635466,  0.02489119],\n",
       "        [-0.07412743, -0.01506419,  0.00011892, ...,  0.00165078,\n",
       "         -0.09974502,  0.00945482]],\n",
       "\n",
       "       [[ 0.01159722,  0.03529123,  0.01185053, ..., -0.02244372,\n",
       "         -0.03535224, -0.02221727],\n",
       "        [-0.03500232,  0.02656572, -0.07904866, ..., -0.01594852,\n",
       "          0.04111477, -0.02811887],\n",
       "        [-0.00656622, -0.00209501,  0.07951978, ..., -0.0280725 ,\n",
       "         -0.01030439,  0.03477365],\n",
       "        ...,\n",
       "        [-0.07355153, -0.06084325,  0.0478316 , ...,  0.00699784,\n",
       "         -0.08553553,  0.0126094 ],\n",
       "        [-0.02093666,  0.00309816,  0.03756287, ...,  0.02648591,\n",
       "          0.02495149, -0.03311915],\n",
       "        [ 0.00781188, -0.02550587, -0.02858834, ...,  0.10290114,\n",
       "         -0.00946563, -0.00659265]],\n",
       "\n",
       "       ...,\n",
       "\n",
       "       [[ 0.00965755,  0.04938859,  0.03607271, ...,  0.00872425,\n",
       "         -0.00488385,  0.02574624],\n",
       "        [ 0.05147706,  0.01990244, -0.03635733, ..., -0.018514  ,\n",
       "          0.00099891, -0.00268761],\n",
       "        [ 0.01623472,  0.03075115,  0.0335731 , ..., -0.05265406,\n",
       "         -0.00948154,  0.06435256],\n",
       "        ...,\n",
       "        [ 0.0427078 ,  0.00975517,  0.00307055, ..., -0.02078239,\n",
       "         -0.00860687, -0.06253866],\n",
       "        [ 0.01806148, -0.04167349, -0.01379589, ..., -0.01308263,\n",
       "         -0.0372742 ,  0.02503967],\n",
       "        [-0.00791598, -0.03008131, -0.00581178, ...,  0.00860078,\n",
       "         -0.04226815, -0.0195374 ]],\n",
       "\n",
       "       [[-0.01514137,  0.0245355 ,  0.03793364, ..., -0.05369763,\n",
       "         -0.00622804, -0.01340471],\n",
       "        [ 0.0110212 , -0.01571607,  0.03977215, ..., -0.05352386,\n",
       "          0.02804784,  0.01105448],\n",
       "        [ 0.0057256 , -0.06366286, -0.00857847, ..., -0.01856308,\n",
       "         -0.01956492,  0.00328738],\n",
       "        ...,\n",
       "        [ 0.00436068, -0.02076977, -0.03271841, ...,  0.01585996,\n",
       "          0.00142714, -0.01571671],\n",
       "        [-0.01239194, -0.0089471 ,  0.02018472, ..., -0.01213656,\n",
       "          0.0484369 , -0.06856771],\n",
       "        [ 0.0266358 ,  0.01911849,  0.04335856, ...,  0.05745332,\n",
       "          0.07685654,  0.00165   ]],\n",
       "\n",
       "       [[-0.00471372, -0.00114248, -0.06346692, ...,  0.02193504,\n",
       "         -0.0351651 , -0.02879759],\n",
       "        [ 0.01342558,  0.03789628,  0.004439  , ..., -0.01550124,\n",
       "          0.01168402, -0.06920934],\n",
       "        [ 0.0388285 ,  0.06520184, -0.03621324, ..., -0.03607873,\n",
       "          0.02081561, -0.06003138],\n",
       "        ...,\n",
       "        [ 0.07114625, -0.02828678, -0.01385915, ..., -0.00131133,\n",
       "         -0.03708481, -0.00876718],\n",
       "        [-0.04097454,  0.03731071,  0.03423556, ...,  0.03104766,\n",
       "          0.05719513, -0.00561192],\n",
       "        [ 0.0089029 , -0.03170586,  0.00962142, ..., -0.02266882,\n",
       "          0.03461152,  0.00724335]]])"
      ]
     },
     "execution_count": 12,
     "metadata": {},
     "output_type": "execute_result"
    }
   ],
   "source": [
    "calc_corel(a,correlations[1]).compute()"
   ]
  },
  {
   "cell_type": "code",
   "execution_count": 13,
   "metadata": {},
   "outputs": [
    {
     "data": {
      "text/plain": [
       "0"
      ]
     },
     "execution_count": 13,
     "metadata": {},
     "output_type": "execute_result"
    }
   ],
   "source": [
    "correlations[0][0]"
   ]
  },
  {
   "cell_type": "code",
   "execution_count": null,
   "metadata": {},
   "outputs": [],
   "source": []
  }
 ],
 "metadata": {
  "kernelspec": {
   "display_name": "Python 3",
   "language": "python",
   "name": "python3"
  },
  "language_info": {
   "codemirror_mode": {
    "name": "ipython",
    "version": 3
   },
   "file_extension": ".py",
   "mimetype": "text/x-python",
   "name": "python",
   "nbconvert_exporter": "python",
   "pygments_lexer": "ipython3",
   "version": "3.6.6"
  }
 },
 "nbformat": 4,
 "nbformat_minor": 2
}
