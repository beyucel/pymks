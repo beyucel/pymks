{
 "cells": [
  {
   "cell_type": "code",
   "execution_count": null,
   "metadata": {},
   "outputs": [],
   "source": []
  },
  {
   "cell_type": "code",
   "execution_count": 54,
   "metadata": {},
   "outputs": [],
   "source": [
    "from scipy.io import loadmat\n",
    "import tables \n",
    "import numpy as np\n",
    "filepath='/home/berkay/Desktop/Pymksdata/50_contrast_elastic_51_51_51_homogenization/microstructures/M_gaussian_1_1_1_vf_25_75.mat'\n",
    "\n",
    "file=tables.open_file(filepath)"
   ]
  },
  {
   "cell_type": "code",
   "execution_count": 99,
   "metadata": {},
   "outputs": [],
   "source": [
    "## Read The Microstructure Data\n",
    "import os\n",
    "files = []\n",
    "path='/home/berkay/Desktop/Pymksdata/50_contrast_elastic_51_51_51_homogenization/microstructures/'\n",
    "for i in os.listdir(path):\n",
    "    if i.endswith('.mat'):\n",
    "        files.append(i)\n",
    "files.sort()\n"
   ]
  },
  {
   "cell_type": "code",
   "execution_count": 100,
   "metadata": {},
   "outputs": [],
   "source": [
    "## Read The Effective Properties\n",
    "a=0\n",
    "files2=[]\n",
    "path='/home/berkay/Desktop/Pymksdata/50_contrast_elastic_51_51_51_homogenization/effective_C11//'\n",
    "for i in os.listdir(path):\n",
    "    if i.endswith('.mat'):\n",
    "        files2.append(i)\n",
    "files2.sort()\n"
   ]
  },
  {
   "cell_type": "code",
   "execution_count": 55,
   "metadata": {},
   "outputs": [
    {
     "data": {
      "text/plain": [
       "(50, 132651)"
      ]
     },
     "execution_count": 55,
     "metadata": {},
     "output_type": "execute_result"
    }
   ],
   "source": [
    "file.get_node('/M')[0:50].shape"
   ]
  },
  {
   "cell_type": "code",
   "execution_count": 57,
   "metadata": {},
   "outputs": [
    {
     "ename": "HDF5ExtError",
     "evalue": "HDF5 error back trace\n\n  File \"H5F.c\", line 509, in H5Fopen\n    unable to open file\n  File \"H5Fint.c\", line 1400, in H5F__open\n    unable to open file\n  File \"H5Fint.c\", line 1700, in H5F_open\n    unable to read superblock\n  File \"H5Fsuper.c\", line 411, in H5F__super_read\n    file signature not found\n\nEnd of HDF5 error back trace\n\nUnable to open/create file '/home/berkay/Desktop/Pymksdata/50_contrast_elastic_51_51_51_homogenization/effective_C11/Prop_M_gaussian_1_1_3_vf_25_75.mat'",
     "output_type": "error",
     "traceback": [
      "\u001b[0;31m---------------------------------------------------------------------------\u001b[0m",
      "\u001b[0;31mHDF5ExtError\u001b[0m                              Traceback (most recent call last)",
      "\u001b[0;32m<ipython-input-57-1c7b62ed29bd>\u001b[0m in \u001b[0;36m<module>\u001b[0;34m\u001b[0m\n\u001b[1;32m      2\u001b[0m \u001b[0;34m\u001b[0m\u001b[0m\n\u001b[1;32m      3\u001b[0m \u001b[0mfilepath2\u001b[0m\u001b[0;34m=\u001b[0m\u001b[0;34m'/home/berkay/Desktop/Pymksdata/50_contrast_elastic_51_51_51_homogenization/effective_C11/Prop_M_gaussian_1_1_3_vf_25_75.mat'\u001b[0m\u001b[0;34m\u001b[0m\u001b[0;34m\u001b[0m\u001b[0m\n\u001b[0;32m----> 4\u001b[0;31m \u001b[0mfile2\u001b[0m\u001b[0;34m=\u001b[0m\u001b[0mtables\u001b[0m\u001b[0;34m.\u001b[0m\u001b[0mopen_file\u001b[0m\u001b[0;34m(\u001b[0m\u001b[0mfilepath2\u001b[0m\u001b[0;34m)\u001b[0m\u001b[0;34m\u001b[0m\u001b[0;34m\u001b[0m\u001b[0m\n\u001b[0m",
      "\u001b[0;32m/nix/store/d8bnldkwm4pdbmcbj0lh5b7f9s32zi3b-python3.7-tables-3.4.4/lib/python3.7/site-packages/tables/file.py\u001b[0m in \u001b[0;36mopen_file\u001b[0;34m(filename, mode, title, root_uep, filters, **kwargs)\u001b[0m\n\u001b[1;32m    318\u001b[0m \u001b[0;34m\u001b[0m\u001b[0m\n\u001b[1;32m    319\u001b[0m     \u001b[0;31m# Finally, create the File instance, and return it\u001b[0m\u001b[0;34m\u001b[0m\u001b[0;34m\u001b[0m\u001b[0;34m\u001b[0m\u001b[0m\n\u001b[0;32m--> 320\u001b[0;31m     \u001b[0;32mreturn\u001b[0m \u001b[0mFile\u001b[0m\u001b[0;34m(\u001b[0m\u001b[0mfilename\u001b[0m\u001b[0;34m,\u001b[0m \u001b[0mmode\u001b[0m\u001b[0;34m,\u001b[0m \u001b[0mtitle\u001b[0m\u001b[0;34m,\u001b[0m \u001b[0mroot_uep\u001b[0m\u001b[0;34m,\u001b[0m \u001b[0mfilters\u001b[0m\u001b[0;34m,\u001b[0m \u001b[0;34m**\u001b[0m\u001b[0mkwargs\u001b[0m\u001b[0;34m)\u001b[0m\u001b[0;34m\u001b[0m\u001b[0;34m\u001b[0m\u001b[0m\n\u001b[0m\u001b[1;32m    321\u001b[0m \u001b[0;34m\u001b[0m\u001b[0m\n\u001b[1;32m    322\u001b[0m \u001b[0;34m\u001b[0m\u001b[0m\n",
      "\u001b[0;32m/nix/store/d8bnldkwm4pdbmcbj0lh5b7f9s32zi3b-python3.7-tables-3.4.4/lib/python3.7/site-packages/tables/file.py\u001b[0m in \u001b[0;36m__init__\u001b[0;34m(self, filename, mode, title, root_uep, filters, **kwargs)\u001b[0m\n\u001b[1;32m    782\u001b[0m \u001b[0;34m\u001b[0m\u001b[0m\n\u001b[1;32m    783\u001b[0m         \u001b[0;31m# Now, it is time to initialize the File extension\u001b[0m\u001b[0;34m\u001b[0m\u001b[0;34m\u001b[0m\u001b[0;34m\u001b[0m\u001b[0m\n\u001b[0;32m--> 784\u001b[0;31m         \u001b[0mself\u001b[0m\u001b[0;34m.\u001b[0m\u001b[0m_g_new\u001b[0m\u001b[0;34m(\u001b[0m\u001b[0mfilename\u001b[0m\u001b[0;34m,\u001b[0m \u001b[0mmode\u001b[0m\u001b[0;34m,\u001b[0m \u001b[0;34m**\u001b[0m\u001b[0mparams\u001b[0m\u001b[0;34m)\u001b[0m\u001b[0;34m\u001b[0m\u001b[0;34m\u001b[0m\u001b[0m\n\u001b[0m\u001b[1;32m    785\u001b[0m \u001b[0;34m\u001b[0m\u001b[0m\n\u001b[1;32m    786\u001b[0m         \u001b[0;31m# Check filters and set PyTables format version for new files.\u001b[0m\u001b[0;34m\u001b[0m\u001b[0;34m\u001b[0m\u001b[0;34m\u001b[0m\u001b[0m\n",
      "\u001b[0;32mtables/hdf5extension.pyx\u001b[0m in \u001b[0;36mtables.hdf5extension.File._g_new\u001b[0;34m()\u001b[0m\n",
      "\u001b[0;31mHDF5ExtError\u001b[0m: HDF5 error back trace\n\n  File \"H5F.c\", line 509, in H5Fopen\n    unable to open file\n  File \"H5Fint.c\", line 1400, in H5F__open\n    unable to open file\n  File \"H5Fint.c\", line 1700, in H5F_open\n    unable to read superblock\n  File \"H5Fsuper.c\", line 411, in H5F__super_read\n    file signature not found\n\nEnd of HDF5 error back trace\n\nUnable to open/create file '/home/berkay/Desktop/Pymksdata/50_contrast_elastic_51_51_51_homogenization/effective_C11/Prop_M_gaussian_1_1_3_vf_25_75.mat'"
     ]
    }
   ],
   "source": [
    "\n",
    "\n",
    "filepath2='/home/berkay/Desktop/Pymksdata/50_contrast_elastic_51_51_51_homogenization/effective_C11/Prop_M_gaussian_1_1_3_vf_25_75.mat'\n",
    "file2=tables.open_file(filepath2)\n",
    "\n",
    "\n"
   ]
  },
  {
   "cell_type": "code",
   "execution_count": 62,
   "metadata": {},
   "outputs": [],
   "source": [
    "from scipy.io import loadmat  # this is the SciPy module that loads mat-files\n",
    "\n",
    "d=loadmat(filepath2)\n"
   ]
  },
  {
   "cell_type": "code",
   "execution_count": 60,
   "metadata": {},
   "outputs": [
    {
     "data": {
      "text/plain": [
       "{'__header__': b'MATLAB 5.0 MAT-file, Platform: PCWIN64, Created on: Mon Oct 05 18:24:24 2015',\n",
       " '__version__': '1.0',\n",
       " '__globals__': [],\n",
       " 'Ceff': array([[67.77256491],\n",
       "        [63.94428034],\n",
       "        [61.72745624],\n",
       "        [61.21023313],\n",
       "        [57.5679072 ],\n",
       "        [55.13542691],\n",
       "        [51.69868308],\n",
       "        [49.54574116],\n",
       "        [47.66552853],\n",
       "        [46.54114774],\n",
       "        [44.6450128 ],\n",
       "        [40.99425189],\n",
       "        [40.75984088],\n",
       "        [39.750534  ],\n",
       "        [35.95417782],\n",
       "        [34.83308126],\n",
       "        [33.87994456],\n",
       "        [32.42852242],\n",
       "        [31.19895866],\n",
       "        [29.73880735],\n",
       "        [26.79647137],\n",
       "        [27.31311955],\n",
       "        [24.55809603],\n",
       "        [23.78211698],\n",
       "        [22.65814382],\n",
       "        [21.4071194 ],\n",
       "        [20.5585804 ],\n",
       "        [20.70046553],\n",
       "        [18.09579092],\n",
       "        [17.55872325],\n",
       "        [17.27452184],\n",
       "        [15.89317189],\n",
       "        [16.05545462],\n",
       "        [15.18048376],\n",
       "        [14.01636648],\n",
       "        [13.59944625],\n",
       "        [12.66807749],\n",
       "        [12.46595418],\n",
       "        [11.70819882],\n",
       "        [10.49620066],\n",
       "        [10.38620138],\n",
       "        [10.30217842],\n",
       "        [ 9.21956135],\n",
       "        [ 9.05034203],\n",
       "        [ 8.82335333],\n",
       "        [ 8.30443873],\n",
       "        [ 8.00345813],\n",
       "        [ 7.50302696],\n",
       "        [ 7.20896292],\n",
       "        [ 6.91770855]])}"
      ]
     },
     "execution_count": 60,
     "metadata": {},
     "output_type": "execute_result"
    }
   ],
   "source": [
    "dddd"
   ]
  },
  {
   "cell_type": "code",
   "execution_count": null,
   "metadata": {},
   "outputs": [],
   "source": []
  }
 ],
 "metadata": {
  "kernelspec": {
   "display_name": "Python 3",
   "language": "python",
   "name": "python3"
  },
  "language_info": {
   "codemirror_mode": {
    "name": "ipython",
    "version": 3
   },
   "file_extension": ".py",
   "mimetype": "text/x-python",
   "name": "python",
   "nbconvert_exporter": "python",
   "pygments_lexer": "ipython3",
   "version": "3.7.3"
  }
 },
 "nbformat": 4,
 "nbformat_minor": 2
}
