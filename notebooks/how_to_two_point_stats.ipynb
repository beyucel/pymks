{
 "cells": [
  {
   "cell_type": "markdown",
   "metadata": {},
   "source": [
    "# ToDO \n",
    "- Link to API\n",
    "- Remove compute!\n",
    "- plot_microstructures add axes / or remove it completely\n",
    "- Discuss the last part"
   ]
  },
  {
   "cell_type": "markdown",
   "metadata": {},
   "source": [
    "# Two Point Spatial Correlation Calculation"
   ]
  },
  {
   "cell_type": "markdown",
   "metadata": {},
   "source": [
    "In this notebook, we are demonstrating simple case studies for calculating 2-point spatial correlations on experimental microstructure and synthetic (generated) microstructures. First, we will demonstrate how to calculate spatial correlations for a single 2 phase experimental image. Then, we will demonstrate the most efficient way to calculate 2-point spatial correlations on multiple microstructures without using any for-loop. We will only use common python packages like `numpy`,`scikit-learn`, and `matplotlib` for this introductory notebook. For parallel (`dask`) and pipeline implementation please see the [Effective Stiffness of a Composite Material example](./stress.ipynb) and [Effective Stiffness of Fiber Composite](./fiber.ipynb) "
   ]
  },
  {
   "cell_type": "markdown",
   "metadata": {},
   "source": [
    "Importing necessary packages to perform 2-point spatial correlations calculations"
   ]
  },
  {
   "cell_type": "code",
   "execution_count": 54,
   "metadata": {},
   "outputs": [],
   "source": [
    "import warnings\n",
    "import os\n",
    "\n",
    "os.environ[\"OMP_NUM_THREADS\"] = \"1\"\n",
    "warnings.filterwarnings('ignore')\n",
    "\n",
    "import dask.array as da\n",
    "import numpy as np\n",
    "import matplotlib.pyplot as plt\n",
    "from sklearn.decomposition import PCA\n",
    "from mpl_toolkits.mplot3d import Axes3D\n",
    "\n",
    "from pymks import (\n",
    "    generate_multiphase,\n",
    "    plot_microstructures,\n",
    "    PrimitiveTransformer,\n",
    "    TwoPointCorrelation,\n",
    "    FlattenTransformer\n",
    ")"
   ]
  },
  {
   "cell_type": "code",
   "execution_count": 55,
   "metadata": {},
   "outputs": [
    {
     "name": "stdout",
     "output_type": "stream",
     "text": [
      "The autoreload extension is already loaded. To reload it, use:\n",
      "  %reload_ext autoreload\n"
     ]
    }
   ],
   "source": [
    "#PYTEST_VALIDATE_IGNORE_OUTPUT\n",
    "\n",
    "%matplotlib inline\n",
    "%load_ext autoreload\n",
    "%autoreload 2"
   ]
  },
  {
   "cell_type": "markdown",
   "metadata": {},
   "source": [
    "## Reading the Experimental Data\n"
   ]
  },
  {
   "cell_type": "markdown",
   "metadata": {},
   "source": [
    "Let's read and visualize the experimental microstructure! This example is a segmented optical image. To obtain the statistical representation of the grain morphology, grain interior and grain boundaries are the two different phases here[[1]](#References). \n"
   ]
  },
  {
   "cell_type": "code",
   "execution_count": 83,
   "metadata": {},
   "outputs": [
    {
     "name": "stdout",
     "output_type": "stream",
     "text": [
      "'Notebook for 2pt stats and PCA-Copy1.ipynb'   elasticity3d.ipynb\r\n",
      "'Notebook for 2pt stats and PCA.ipynb'         fiber.ipynb\r\n",
      " TwoPointStatsBasic.ipynb                      filter.ipynb\r\n",
      " Untitled.ipynb                                how_to_two_point_stats.ipynb\r\n",
      " cahn_hilliard.ipynb                           \u001b[0m\u001b[01;35mimage.tiff\u001b[0m\r\n",
      " cahn_hilliard_legendre.ipynb                  intro.ipynb\r\n",
      " checkerboard.ipynb                            multiphase.ipynb\r\n",
      " derivation.ipynb                              sanitize.cfg\r\n",
      " domain.vtk                                    stress.ipynb\r\n",
      " elasticity.ipynb                              tech_overview.ipynb\r\n"
     ]
    }
   ],
   "source": [
    "ls"
   ]
  },
  {
   "cell_type": "code",
   "execution_count": 87,
   "metadata": {},
   "outputs": [
    {
     "ename": "FileNotFoundError",
     "evalue": "[Errno 2] No such file or directory: 'pymks/datasets/image.tiff'",
     "output_type": "error",
     "traceback": [
      "\u001b[0;31m---------------------------------------------------------------------------\u001b[0m",
      "\u001b[0;31mFileNotFoundError\u001b[0m                         Traceback (most recent call last)",
      "\u001b[0;32m<ipython-input-87-4e62db58c8e2>\u001b[0m in \u001b[0;36m<module>\u001b[0;34m\u001b[0m\n\u001b[1;32m      1\u001b[0m \u001b[0;32mfrom\u001b[0m \u001b[0mPIL\u001b[0m \u001b[0;32mimport\u001b[0m \u001b[0mImage\u001b[0m\u001b[0;34m\u001b[0m\u001b[0;34m\u001b[0m\u001b[0m\n\u001b[0;32m----> 2\u001b[0;31m \u001b[0mim\u001b[0m \u001b[0;34m=\u001b[0m \u001b[0mImage\u001b[0m\u001b[0;34m.\u001b[0m\u001b[0mopen\u001b[0m\u001b[0;34m(\u001b[0m\u001b[0;34m'pymks/datasets/image.tiff'\u001b[0m\u001b[0;34m)\u001b[0m\u001b[0;34m\u001b[0m\u001b[0;34m\u001b[0m\u001b[0m\n\u001b[0m\u001b[1;32m      3\u001b[0m \u001b[0mplt\u001b[0m\u001b[0;34m.\u001b[0m\u001b[0mimshow\u001b[0m\u001b[0;34m(\u001b[0m\u001b[0mim\u001b[0m\u001b[0;34m,\u001b[0m\u001b[0mcmap\u001b[0m\u001b[0;34m=\u001b[0m\u001b[0;34m'gray'\u001b[0m\u001b[0;34m)\u001b[0m\u001b[0;34m\u001b[0m\u001b[0;34m\u001b[0m\u001b[0m\n\u001b[1;32m      4\u001b[0m \u001b[0mplt\u001b[0m\u001b[0;34m.\u001b[0m\u001b[0mtitle\u001b[0m\u001b[0;34m(\u001b[0m\u001b[0;34m\"2 Phase Segmented Experimental Image\"\u001b[0m\u001b[0;34m)\u001b[0m\u001b[0;34m\u001b[0m\u001b[0;34m\u001b[0m\u001b[0m\n\u001b[1;32m      5\u001b[0m \u001b[0mplt\u001b[0m\u001b[0;34m.\u001b[0m\u001b[0mshow\u001b[0m\u001b[0;34m(\u001b[0m\u001b[0;34m)\u001b[0m\u001b[0;34m\u001b[0m\u001b[0;34m\u001b[0m\u001b[0m\n",
      "\u001b[0;32m/nix/store/pg5vmlnms4s15d8hz0c65isliyljk0b2-python3.7-Pillow-6.2.1/lib/python3.7/site-packages/PIL/Image.py\u001b[0m in \u001b[0;36mopen\u001b[0;34m(fp, mode)\u001b[0m\n\u001b[1;32m   2764\u001b[0m \u001b[0;34m\u001b[0m\u001b[0m\n\u001b[1;32m   2765\u001b[0m     \u001b[0;32mif\u001b[0m \u001b[0mfilename\u001b[0m\u001b[0;34m:\u001b[0m\u001b[0;34m\u001b[0m\u001b[0;34m\u001b[0m\u001b[0m\n\u001b[0;32m-> 2766\u001b[0;31m         \u001b[0mfp\u001b[0m \u001b[0;34m=\u001b[0m \u001b[0mbuiltins\u001b[0m\u001b[0;34m.\u001b[0m\u001b[0mopen\u001b[0m\u001b[0;34m(\u001b[0m\u001b[0mfilename\u001b[0m\u001b[0;34m,\u001b[0m \u001b[0;34m\"rb\"\u001b[0m\u001b[0;34m)\u001b[0m\u001b[0;34m\u001b[0m\u001b[0;34m\u001b[0m\u001b[0m\n\u001b[0m\u001b[1;32m   2767\u001b[0m         \u001b[0mexclusive_fp\u001b[0m \u001b[0;34m=\u001b[0m \u001b[0;32mTrue\u001b[0m\u001b[0;34m\u001b[0m\u001b[0;34m\u001b[0m\u001b[0m\n\u001b[1;32m   2768\u001b[0m \u001b[0;34m\u001b[0m\u001b[0m\n",
      "\u001b[0;31mFileNotFoundError\u001b[0m: [Errno 2] No such file or directory: 'pymks/datasets/image.tiff'"
     ]
    }
   ],
   "source": [
    " from PIL import Image\n",
    "im = Image.open('pymks/datasets/image.tiff')\n",
    "plt.imshow(im,cmap='gray')\n",
    "plt.title(\"2 Phase Segmented Experimental Image\")\n",
    "plt.show()"
   ]
  },
  {
   "cell_type": "markdown",
   "metadata": {},
   "source": [
    "## Calculating the 2-point Stats"
   ]
  },
  {
   "cell_type": "markdown",
   "metadata": {},
   "source": [
    "PyMKS can handle both `numpy` and `dask` arrays. For simplicity, we will use `numpy` arrays for this notebook. Note that `PyMKS` require certain data shapes for proper 2-point spatial correlation calculation. For two-dimensional microstructure (2-D),` PyMKS` requires a 4-dimensional array. The first dimension is the sample axis, the second dimension is the x-axis, the third dimension is the y-axis, and the fourth dimension is the phase axis. In the phase axis, the specific phase gets '1's and the rest of the image gets '0's. For this example, we have a 2-phase segmented microstructure(986 x 1376) so we need to perform some array manipulations to obtain a 1 x 986 x 1376 x 2 array. "
   ]
  },
  {
   "cell_type": "markdown",
   "metadata": {},
   "source": [
    "Let's convert the image to a `numpy` array and add the sample axis by using `np.expand_dims`function. If you have multiple images you can simply stack them by using `numpy` data manipulation functions."
   ]
  },
  {
   "cell_type": "code",
   "execution_count": 57,
   "metadata": {},
   "outputs": [],
   "source": [
    "imarray = np.array(im)\n",
    "imarray = np.expand_dims(imarray,axis=0)"
   ]
  },
  {
   "cell_type": "code",
   "execution_count": 58,
   "metadata": {},
   "outputs": [
    {
     "data": {
      "text/plain": [
       "(1, 986, 1376)"
      ]
     },
     "execution_count": 58,
     "metadata": {},
     "output_type": "execute_result"
    }
   ],
   "source": [
    "imarray.shape"
   ]
  },
  {
   "cell_type": "markdown",
   "metadata": {},
   "source": [
    "Now let's add the phase axis. Since this is a binary microstructure, we can simply stack the inverted version of the image to the original image. However, we are going to demonstrate the `PrimitiveTransformer` that performs the same operation and this transformer can be used for more complex cases (higher number phases and continuous values for phase information)."
   ]
  },
  {
   "cell_type": "code",
   "execution_count": 59,
   "metadata": {},
   "outputs": [],
   "source": [
    "nx_data=PrimitiveTransformer(n_state=2, min_=0.0, max_=1.0).transform(imarray).compute()"
   ]
  },
  {
   "cell_type": "code",
   "execution_count": 60,
   "metadata": {},
   "outputs": [
    {
     "data": {
      "text/plain": [
       "(1, 986, 1376, 2)"
      ]
     },
     "execution_count": 60,
     "metadata": {},
     "output_type": "execute_result"
    }
   ],
   "source": [
    "nx_data.shape"
   ]
  },
  {
   "cell_type": "markdown",
   "metadata": {},
   "source": [
    "`PrimitiveTransformer` created the (1 x 986 x 1376 x 2) array where the last axis has the phase information. For this 2-phase 2D microstructure example, we have two 2D arrays where the first phase (grain interior) get `1's` at `[0,:,:,0]`, and the second phase (grain boundary) gets the `1's` at `[0,:,:,1]` "
   ]
  },
  {
   "cell_type": "code",
   "execution_count": 61,
   "metadata": {},
   "outputs": [
    {
     "data": {
      "image/png": "[encoded data removed]",
      "text/plain": [
       "<Figure size 648x216 with 2 Axes>"
      ]
     },
     "metadata": {
      "needs_background": "light"
     },
     "output_type": "display_data"
    }
   ],
   "source": [
    "fig, axs = plt.subplots(1, 2, figsize=(9, 3), sharey=True)\n",
    "axs[0].imshow(nx_data[0,:,:,0],cmap='gray')\n",
    "axs[0].title.set_text('First phase with ones')\n",
    "axs[1].imshow(nx_data[0,:,:,1],cmap='gray')\n",
    "axs[1].title.set_text('Second phase with ones')\n",
    "plt.show()"
   ]
  },
  {
   "cell_type": "markdown",
   "metadata": {},
   "source": [
    "After obtaining the data matrix with the desired shape, calculating two-point correlations are pretty straightforward. We just need to call the `TwoPointCorrelation` class and perform the `.transform` method. Parameters for the `TwoPointCorrelation` class:  `periodic_boundary` defines the boundary condition ( periodic or non-periodic boundary), `cutoff` defines the maximum correlation vector length, and `correlations` sets the interested autocorrelations and cross-correlations (i.e. `(0,0)` means autocorrelation of the first phase,`(0,1)` means crosscorrelation between the first phase and the second phase)"
   ]
  },
  {
   "cell_type": "code",
   "execution_count": 62,
   "metadata": {},
   "outputs": [],
   "source": [
    "TwoPt = TwoPointCorrelation(periodic_boundary=True, cutoff=25,correlations=[(0,0)])\n",
    "AutoCorrelation = TwoPt.transform(nx_data).compute()"
   ]
  },
  {
   "cell_type": "code",
   "execution_count": 63,
   "metadata": {},
   "outputs": [
    {
     "data": {
      "text/plain": [
       "(1, 51, 51, 1)"
      ]
     },
     "execution_count": 63,
     "metadata": {},
     "output_type": "execute_result"
    }
   ],
   "source": [
    "AutoCorrelation.shape"
   ]
  },
  {
   "cell_type": "markdown",
   "metadata": {},
   "source": [
    "There is also a built-in correlation visualization function (`plot_microstructures`) for Pymks. `matplotlib` functions can also be used for custom 2-pt stats visualization. The visualization of the grain interior autocorrelation is shown below. "
   ]
  },
  {
   "cell_type": "code",
   "execution_count": 64,
   "metadata": {},
   "outputs": [
    {
     "data": {
      "image/png": "[encoded data removed]",
      "text/plain": [
       "<Figure size 288x288 with 2 Axes>"
      ]
     },
     "metadata": {
      "needs_background": "light"
     },
     "output_type": "display_data"
    }
   ],
   "source": [
    "plot_microstructures(\n",
    "    AutoCorrelation[0, :, :, 0],\n",
    "    titles=['Correlation [0, 0]']\n",
    ")"
   ]
  },
  {
   "cell_type": "markdown",
   "metadata": {},
   "source": [
    "# Multiple Synthetic Microstructures"
   ]
  },
  {
   "cell_type": "markdown",
   "metadata": {},
   "source": [
    "In the previous section, we demonstrated a 2-point spatial correlation calculation for a single experimental image. Now we will demonstrate calculating 2-point correlations for multiple microstructure images without using any for loops. It is a similar procedure and we only need to create the input array where  the first dimension is the sample axis, the  second dimension is the x-axis, the third dimension is y-axis, and the fourth dimension is the phase axis\n",
    "\n",
    "\n",
    "Let's generate 40 different 2-phased   syntetic microstructures with `100x100` shape using `generate_multiphase`. [Effective Siffness of a Composite Material example](./stress.ipynb) notebook has detailed explanation for the `generate_multiphase` function. \n"
   ]
  },
  {
   "cell_type": "code",
   "execution_count": 80,
   "metadata": {},
   "outputs": [],
   "source": [
    "da.random.seed(10)\n",
    "np.random.seed(10)\n",
    "\n",
    "nx_data = da.concatenate([\n",
    "    generate_multiphase(shape=(10, 100, 100), grain_size=grain_size,\n",
    "        volume_fraction=volume_fraction,\n",
    "        percent_variance=0.2\n",
    "    )\n",
    "    for (grain_size, volume_fraction) in zip(\n",
    "        [(30, 2), (10, 20), (25, 25), (20, 10)],\n",
    "        [(0.7, 0.3), (0.6, 0.4), (0.3, 0.7), (0.4, 0.6)]\n",
    "    )\n",
    "]).persist()\n"
   ]
  },
  {
   "cell_type": "code",
   "execution_count": 81,
   "metadata": {},
   "outputs": [
    {
     "data": {
      "text/plain": [
       "(40, 100, 100)"
      ]
     },
     "execution_count": 81,
     "metadata": {},
     "output_type": "execute_result"
    }
   ],
   "source": [
    "nx_data.shape\n"
   ]
  },
  {
   "cell_type": "markdown",
   "metadata": {},
   "source": [
    "Let's visualize some synthetic microstructures."
   ]
  },
  {
   "cell_type": "code",
   "execution_count": 67,
   "metadata": {},
   "outputs": [
    {
     "data": {
      "image/png": "[encoded data removed]",
      "text/plain": [
       "<Figure size 1152x288 with 4 Axes>"
      ]
     },
     "metadata": {},
     "output_type": "display_data"
    }
   ],
   "source": [
    "plot_microstructures(*nx_data[::10], cmap='gray', colorbar=False)"
   ]
  },
  {
   "cell_type": "markdown",
   "metadata": {},
   "source": [
    "As performed in the previous case study, we need to create the 4-dimensional input array for 2-point spatial correlation calculation. `PrimitiveTransformer` can be used for multiple microstructure data as well."
   ]
  },
  {
   "cell_type": "code",
   "execution_count": 68,
   "metadata": {},
   "outputs": [],
   "source": [
    "nx_data=PrimitiveTransformer(n_state=2, min_=0.0, max_=1.0).transform(nx_data).compute()"
   ]
  },
  {
   "cell_type": "code",
   "execution_count": 69,
   "metadata": {},
   "outputs": [
    {
     "data": {
      "text/plain": [
       "(40, 100, 100, 2)"
      ]
     },
     "execution_count": 69,
     "metadata": {},
     "output_type": "execute_result"
    }
   ],
   "source": [
    "nx_data.shape"
   ]
  },
  {
   "cell_type": "markdown",
   "metadata": {},
   "source": [
    "Again, `PrimitiveTransformer` created the for dimensional array where the last axis has the phase information. Now we can simply use the `TwoPointCorrelation` class to calculate 2-point spatial correlations (`(0,0),(0,1)`) for all 40 microstructures."
   ]
  },
  {
   "cell_type": "code",
   "execution_count": 70,
   "metadata": {},
   "outputs": [],
   "source": [
    "TwoPt=TwoPointCorrelation(periodic_boundary=True, cutoff=25,correlations=[(0,0),(0,1)])\n",
    "AutoCorrelation=TwoPt.transform(nx_data).compute()"
   ]
  },
  {
   "cell_type": "code",
   "execution_count": 71,
   "metadata": {},
   "outputs": [
    {
     "data": {
      "text/plain": [
       "(40, 51, 51, 2)"
      ]
     },
     "execution_count": 71,
     "metadata": {},
     "output_type": "execute_result"
    }
   ],
   "source": [
    "AutoCorrelation.shape"
   ]
  },
  {
   "cell_type": "markdown",
   "metadata": {},
   "source": [
    "Last axis of the `AutoCorrelation` array contains the requested auto-correlations and cross-correlations (i.e. `[0,:,:,1]` is `(0,1)` cross-correlation of the first microstructure . \n",
    "\n",
    "Let's visualize some of the 2-point correlations.\n",
    "\n"
   ]
  },
  {
   "cell_type": "code",
   "execution_count": 72,
   "metadata": {},
   "outputs": [
    {
     "data": {
      "image/png": "[encoded data removed]",
      "text/plain": [
       "<Figure size 576x288 with 3 Axes>"
      ]
     },
     "metadata": {
      "needs_background": "light"
     },
     "output_type": "display_data"
    }
   ],
   "source": [
    "plot_microstructures(\n",
    "    AutoCorrelation[0, :, :, 0],\n",
    "    AutoCorrelation[0, :, :, 1],\n",
    "    titles=['1st Microstructure - Correlation [0, 0]', '1st Microstructure - Correlation [0, 1]']\n",
    ")"
   ]
  },
  {
   "cell_type": "markdown",
   "metadata": {},
   "source": [
    "# Do we want to include PCA?"
   ]
  },
  {
   "cell_type": "markdown",
   "metadata": {},
   "source": [
    "Then we flatten this data to use PCA"
   ]
  },
  {
   "cell_type": "code",
   "execution_count": 73,
   "metadata": {},
   "outputs": [],
   "source": [
    "flatten=FlattenTransformer().transform(AutoCorrelation)"
   ]
  },
  {
   "cell_type": "markdown",
   "metadata": {},
   "source": [
    "As you can see all the correlation information was flatten. Each row contains information for a single microstructure"
   ]
  },
  {
   "cell_type": "code",
   "execution_count": 74,
   "metadata": {},
   "outputs": [
    {
     "data": {
      "text/plain": [
       "(40, 5202)"
      ]
     },
     "execution_count": 74,
     "metadata": {},
     "output_type": "execute_result"
    }
   ],
   "source": [
    "flatten.shape"
   ]
  },
  {
   "cell_type": "markdown",
   "metadata": {},
   "source": [
    "Then we do the PCA."
   ]
  },
  {
   "cell_type": "code",
   "execution_count": 75,
   "metadata": {},
   "outputs": [],
   "source": [
    "PC_scores=PCA(svd_solver='full', n_components=5).fit(flatten).transform(flatten)"
   ]
  },
  {
   "cell_type": "markdown",
   "metadata": {},
   "source": [
    "Now we calculated the PC scores for each microstructure"
   ]
  },
  {
   "cell_type": "code",
   "execution_count": 76,
   "metadata": {},
   "outputs": [
    {
     "data": {
      "text/plain": [
       "array([[ 1.86850222e+01,  3.80953416e+00, -8.49110809e-02,\n",
       "        -2.79539142e-01,  1.01894214e-01],\n",
       "       [-1.24501424e+00, -1.80689696e+00,  1.20165740e+00,\n",
       "        -1.57114955e-01, -4.03899408e-01],\n",
       "       [ 1.43621867e+01,  2.06008941e+00,  2.44811650e-01,\n",
       "        -2.43813876e-01, -7.37556905e-02],\n",
       "       ...,\n",
       "       [-9.24016313e+00, -3.30094090e-01,  4.11078869e-01,\n",
       "        -1.94200814e-02,  2.46753458e-01],\n",
       "       [ 1.90160499e+00, -1.58892407e+00, -8.26380653e-03,\n",
       "        -2.90587937e-01,  6.04668132e-01],\n",
       "       [-2.32415345e+00, -1.83914995e+00,  6.00734108e-02,\n",
       "        -1.41905790e-01,  3.68007813e-01]])"
      ]
     },
     "execution_count": 76,
     "metadata": {},
     "output_type": "execute_result"
    }
   ],
   "source": [
    "PC_scores"
   ]
  },
  {
   "cell_type": "markdown",
   "metadata": {},
   "source": [
    "Finally lets visualize "
   ]
  },
  {
   "cell_type": "code",
   "execution_count": 79,
   "metadata": {},
   "outputs": [
    {
     "data": {
      "image/png": "[encoded data removed]",
      "text/plain": [
       "<Figure size 432x288 with 1 Axes>"
      ]
     },
     "metadata": {
      "needs_background": "light"
     },
     "output_type": "display_data"
    }
   ],
   "source": [
    "fig = plt.figure()\n",
    "ax = fig.add_subplot(111, projection='3d')\n",
    "ax.scatter(PC_scores[:,0], PC_scores[:,0], PC_scores[:,0], c='r', marker='o')\n",
    "plt.show()"
   ]
  },
  {
   "cell_type": "code",
   "execution_count": 78,
   "metadata": {},
   "outputs": [
    {
     "data": {
      "text/plain": [
       "(40, 3)"
      ]
     },
     "execution_count": 78,
     "metadata": {},
     "output_type": "execute_result"
    }
   ],
   "source": [
    "PC_scores[:,:3].shape"
   ]
  },
  {
   "cell_type": "markdown",
   "metadata": {},
   "source": [
    "# References"
   ]
  },
  {
   "cell_type": "markdown",
   "metadata": {},
   "source": [
    "[1]  Yucel, B., Yucel, S., Ray, A. et al. Mining the Correlations Between Optical Micrographs and Mechanical Properties of Cold-Rolled HSLA Steels Using Machine Learning Approaches. Integr Mater Manuf Innov 9, 240–256 (2020). https://doi.org/10.1007/s40192-020-00183-3"
   ]
  },
  {
   "cell_type": "code",
   "execution_count": null,
   "metadata": {},
   "outputs": [],
   "source": []
  }
 ],
 "metadata": {
  "kernelspec": {
   "display_name": "Python 3",
   "language": "python",
   "name": "python3"
  },
  "language_info": {
   "codemirror_mode": {
    "name": "ipython",
    "version": 3
   },
   "file_extension": ".py",
   "mimetype": "text/x-python",
   "name": "python",
   "nbconvert_exporter": "python",
   "pygments_lexer": "ipython3",
   "version": "3.7.6"
  }
 },
 "nbformat": 4,
 "nbformat_minor": 4
}
