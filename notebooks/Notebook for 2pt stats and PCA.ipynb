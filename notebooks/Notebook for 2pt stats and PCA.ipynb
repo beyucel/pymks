{
 "cells": [
  {
   "cell_type": "markdown",
   "metadata": {},
   "source": [
    "This line is for just importing packages. I just copied it from one of the notebooks (We actually dont need all the imported functions). "
   ]
  },
  {
   "cell_type": "code",
   "execution_count": 1,
   "metadata": {},
   "outputs": [],
   "source": [
    "import warnings\n",
    "warnings.filterwarnings('ignore')\n",
    "\n",
    "import os\n",
    "os.environ[\"OMP_NUM_THREADS\"] = \"1\"\n",
    "\n",
    "import numpy as np\n",
    "import dask.array as da\n",
    "import matplotlib.pyplot as plt\n",
    "from sklearn.pipeline import Pipeline\n",
    "# from dask_ml.decomposition import PCA\n",
    "from dask_ml.preprocessing import PolynomialFeatures\n",
    "from sklearn.linear_model import LinearRegression\n",
    "from sklearn.decomposition import PCA\n",
    "from mpl_toolkits.mplot3d import Axes3D\n",
    "\n",
    "from pymks import (\n",
    "    generate_multiphase,\n",
    "    generate_delta,\n",
    "    plot_microstructures,\n",
    "    PrimitiveTransformer,\n",
    "    FlattenTransformer,\n",
    "    solve_fe,\n",
    "    TwoPointCorrelation,\n",
    "    FlattenTransformer,\n",
    "    LocalizationRegressor\n",
    ")"
   ]
  },
  {
   "cell_type": "markdown",
   "metadata": {},
   "source": [
    "So you have your data. I am creating some random microstructures to show the procedure. `x_data` here will be your data (1x128x128). You don't need the code below."
   ]
  },
  {
   "cell_type": "code",
   "execution_count": 2,
   "metadata": {},
   "outputs": [],
   "source": [
    "da.random.seed(10)\n",
    "np.random.seed(10)\n",
    "\n",
    "x_data = da.concatenate([\n",
    "    generate_multiphase(shape=(1, 128, 128), grain_size=(25, 25), volume_fraction=(0.5, 0.5)),\n",
    "    \n",
    "]).persist()"
   ]
  },
  {
   "cell_type": "markdown",
   "metadata": {},
   "source": [
    "To visualize the data"
   ]
  },
  {
   "cell_type": "code",
   "execution_count": 3,
   "metadata": {},
   "outputs": [
    {
     "data": {
      "text/plain": [
       "<matplotlib.image.AxesImage at 0x21d6e6ba908>"
      ]
     },
     "execution_count": 3,
     "metadata": {},
     "output_type": "execute_result"
    },
    {
     "data": {
      "image/png": "[encoded data removed]",
      "text/plain": [
       "<Figure size 432x288 with 1 Axes>"
      ]
     },
     "metadata": {
      "needs_background": "light"
     },
     "output_type": "display_data"
    }
   ],
   "source": [
    "plt.imshow(x_data[0,:,:], cmap='gray')"
   ]
  },
  {
   "cell_type": "markdown",
   "metadata": {},
   "source": [
    "I created the (1 x 128 x 128 x 1) "
   ]
  },
  {
   "cell_type": "code",
   "execution_count": 4,
   "metadata": {},
   "outputs": [
    {
     "data": {
      "text/plain": [
       "(1, 128, 128, 1)"
      ]
     },
     "execution_count": 4,
     "metadata": {},
     "output_type": "execute_result"
    }
   ],
   "source": [
    "x_data=x_data.reshape((1,128,128,1))\n",
    "x_data.shape"
   ]
  },
  {
   "cell_type": "markdown",
   "metadata": {},
   "source": [
    "# You can start from here"
   ]
  },
  {
   "cell_type": "markdown",
   "metadata": {},
   "source": [
    "This is how you can calculate the Two point stats. Here `(0,0)` means autocorrelation for the first state ( currentlty I have 1 x 128 x 128 x 1 ,and I have only one phase but your case you have 5 of them as your array is 1 x 128 x 128 x 5) Lets say you want to have 1 autocorrealtion of first phase and 2 crosscorrelations with next two phase ( - x - x- x 1 and - x - x- x 2) , then use ` correlations=[(0,0) , (0,1),(0,2)]`"
   ]
  },
  {
   "cell_type": "code",
   "execution_count": 5,
   "metadata": {},
   "outputs": [],
   "source": [
    "TwoPt=TwoPointCorrelation(periodic_boundary=True, cutoff=25,correlations=[(0,0)])\n",
    "AutoCorrelation=TwoPt.transform(x_data.compute())"
   ]
  },
  {
   "cell_type": "code",
   "execution_count": null,
   "metadata": {},
   "outputs": [],
   "source": []
  },
  {
   "cell_type": "markdown",
   "metadata": {},
   "source": [
    "If you want to visualize it, we have a function in pymks but you can just use matplotlib as well."
   ]
  },
  {
   "cell_type": "code",
   "execution_count": 6,
   "metadata": {},
   "outputs": [
    {
     "data": {
      "image/png": "[encoded data removed]",
      "text/plain": [
       "<Figure size 288x288 with 2 Axes>"
      ]
     },
     "metadata": {
      "needs_background": "light"
     },
     "output_type": "display_data"
    }
   ],
   "source": [
    "plot_microstructures(\n",
    "    AutoCorrelation[0, :, :, 0],\n",
    "    titles=['Correlation [0, 0]']\n",
    ")"
   ]
  },
  {
   "cell_type": "markdown",
   "metadata": {},
   "source": [
    "This was for single microstructure. Lets do it for multiple microstructures. I am again generating my own data you don't need the code below\n"
   ]
  },
  {
   "cell_type": "code",
   "execution_count": 7,
   "metadata": {},
   "outputs": [],
   "source": [
    "da.random.seed(10)\n",
    "np.random.seed(10)\n",
    "\n",
    "nx_data = da.concatenate([\n",
    "    generate_multiphase(shape=(20, 128, 128), grain_size=(25, 25), volume_fraction=(0.5, 0.5)),\n",
    "    \n",
    "]).persist()\n",
    "nx_data=PrimitiveTransformer(n_state=2, min_=0.0, max_=1.0).transform(nx_data).compute()\n",
    "\n"
   ]
  },
  {
   "cell_type": "markdown",
   "metadata": {},
   "source": [
    "I created my microstructures and now I have (20 x 128 x 128 x 2). That means I have 20 microstructures ( all of them are 129 x 128 ) and I have 2 phases for each microstructure."
   ]
  },
  {
   "cell_type": "code",
   "execution_count": 8,
   "metadata": {},
   "outputs": [
    {
     "data": {
      "text/plain": [
       "(20, 128, 128, 2)"
      ]
     },
     "execution_count": 8,
     "metadata": {},
     "output_type": "execute_result"
    }
   ],
   "source": [
    "nx_data.shape"
   ]
  },
  {
   "cell_type": "markdown",
   "metadata": {},
   "source": [
    "I will use the same function but this time I will calculate `(0,0) and (0,1)`."
   ]
  },
  {
   "cell_type": "code",
   "execution_count": 9,
   "metadata": {},
   "outputs": [],
   "source": [
    "TwoPt=TwoPointCorrelation(periodic_boundary=True, cutoff=25,correlations=[(0,0),(0,1)])\n",
    "AutoCorrelation=TwoPt.transform(nx_data).compute()"
   ]
  },
  {
   "cell_type": "markdown",
   "metadata": {},
   "source": [
    "As you can see below I have correlations for all of my microstructures.- x - x - x 0 is (0,0) , - x - x - x 1 is (0,1)"
   ]
  },
  {
   "cell_type": "code",
   "execution_count": 10,
   "metadata": {},
   "outputs": [
    {
     "data": {
      "text/plain": [
       "(20, 51, 51, 2)"
      ]
     },
     "execution_count": 10,
     "metadata": {},
     "output_type": "execute_result"
    }
   ],
   "source": [
    "AutoCorrelation.shape"
   ]
  },
  {
   "cell_type": "markdown",
   "metadata": {},
   "source": [
    "Then we flatten this data to use PCA"
   ]
  },
  {
   "cell_type": "code",
   "execution_count": 11,
   "metadata": {},
   "outputs": [],
   "source": [
    "flatten=FlattenTransformer().transform(AutoCorrelation)"
   ]
  },
  {
   "cell_type": "markdown",
   "metadata": {},
   "source": [
    "As you can see all the correlation information was flatten. Each row contains information for a single microstructure"
   ]
  },
  {
   "cell_type": "code",
   "execution_count": 12,
   "metadata": {},
   "outputs": [
    {
     "data": {
      "text/plain": [
       "(20, 5202)"
      ]
     },
     "execution_count": 12,
     "metadata": {},
     "output_type": "execute_result"
    }
   ],
   "source": [
    "flatten.shape"
   ]
  },
  {
   "cell_type": "markdown",
   "metadata": {},
   "source": [
    "Then we do the PCA."
   ]
  },
  {
   "cell_type": "code",
   "execution_count": 13,
   "metadata": {},
   "outputs": [],
   "source": [
    "PC_scores=PCA(svd_solver='full', n_components=5).fit(flatten).transform(flatten)"
   ]
  },
  {
   "cell_type": "markdown",
   "metadata": {},
   "source": [
    "Now we calculated the PC scores for each microstructure"
   ]
  },
  {
   "cell_type": "code",
   "execution_count": 14,
   "metadata": {},
   "outputs": [
    {
     "data": {
      "text/plain": [
       "array([[-0.06434185, -0.14664027,  0.22749412,  0.04047964,  0.0784144 ],\n",
       "       [ 0.73447299, -0.23899686,  0.72259265, -0.40436187,  0.05611539],\n",
       "       [-0.11845725,  0.33319871,  0.14709364, -0.10812686, -0.09647473],\n",
       "       [-0.53464379, -0.10831666,  0.93845668,  0.1526426 ,  0.3080698 ],\n",
       "       [-0.96450664, -0.50638643, -0.32484683,  0.69522489, -0.01541403],\n",
       "       [-0.22341868, -0.6924235 , -0.25166085, -0.58555094, -0.17430349],\n",
       "       [-0.21256212,  0.0832417 ,  0.17696143, -0.08414717,  0.05320936],\n",
       "       [ 0.3696354 ,  0.02500941, -0.09125428, -0.29893808,  0.24534629],\n",
       "       [-0.36691261,  0.65731715, -0.01749438, -0.04046878, -0.46703295],\n",
       "       [-0.02541612,  0.33871871,  0.13449415, -0.05805418,  0.48224289],\n",
       "       [ 0.01577694,  0.40286758, -0.6549982 ,  0.02420367,  0.46493001],\n",
       "       [ 0.50081393, -0.1184354 , -0.05325768,  0.46147215, -0.22634153],\n",
       "       [-0.28806578, -0.59842922, -0.16191097,  0.26947099,  0.17907329],\n",
       "       [ 0.01932358,  0.14838255, -0.32715489,  0.31496869, -0.20868343],\n",
       "       [-0.16397687, -0.15399228, -0.6216501 , -0.35872933,  0.23765499],\n",
       "       [ 0.38421095, -0.73685032,  0.56875876,  0.21931569, -0.23680706],\n",
       "       [ 1.08281861, -0.33967612, -0.50406883, -0.01158232, -0.04846063],\n",
       "       [ 0.81855917,  0.51843496, -0.13834131,  0.20907769, -0.24089237],\n",
       "       [-0.07733351,  1.04566616,  0.29881482,  0.16779949,  0.02468893],\n",
       "       [-0.88597634,  0.08731012, -0.06802793, -0.60469597, -0.41533511]])"
      ]
     },
     "execution_count": 14,
     "metadata": {},
     "output_type": "execute_result"
    }
   ],
   "source": [
    "PC_scores"
   ]
  },
  {
   "cell_type": "markdown",
   "metadata": {},
   "source": [
    "Finally lets visualize "
   ]
  },
  {
   "cell_type": "code",
   "execution_count": 15,
   "metadata": {},
   "outputs": [
    {
     "data": {
      "text/plain": [
       "<mpl_toolkits.mplot3d.art3d.Path3DCollection at 0x21d7464b488>"
      ]
     },
     "execution_count": 15,
     "metadata": {},
     "output_type": "execute_result"
    },
    {
     "data": {
      "image/png": "[encoded data removed]",
      "text/plain": [
       "<Figure size 432x288 with 1 Axes>"
      ]
     },
     "metadata": {
      "needs_background": "light"
     },
     "output_type": "display_data"
    }
   ],
   "source": [
    "fig = plt.figure()\n",
    "ax = fig.add_subplot(111, projection='3d')\n",
    "ax.scatter(PC_scores[:,0], PC_scores[:,0], PC_scores[:,0], c='r', marker='o')"
   ]
  },
  {
   "cell_type": "code",
   "execution_count": 16,
   "metadata": {},
   "outputs": [
    {
     "data": {
      "text/plain": [
       "(20, 3)"
      ]
     },
     "execution_count": 16,
     "metadata": {},
     "output_type": "execute_result"
    }
   ],
   "source": [
    "PC_scores[:,:3].shape"
   ]
  }
 ],
 "metadata": {
  "kernelspec": {
   "display_name": "Python 3",
   "language": "python",
   "name": "python3"
  },
  "language_info": {
   "codemirror_mode": {
    "name": "ipython",
    "version": 3
   },
   "file_extension": ".py",
   "mimetype": "text/x-python",
   "name": "python",
   "nbconvert_exporter": "python",
   "pygments_lexer": "ipython3",
   "version": "3.7.6"
  }
 },
 "nbformat": 4,
 "nbformat_minor": 4
}
