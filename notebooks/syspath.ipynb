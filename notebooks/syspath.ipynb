{
 "cells": [
  {
   "cell_type": "code",
   "execution_count": 2,
   "metadata": {},
   "outputs": [
    {
     "name": "stdout",
     "output_type": "stream",
     "text": [
      "['/home/berkay/anaconda3/envs/conda-test1/lib/python36.zip', '/home/berkay/anaconda3/envs/conda-test1/lib/python3.6', '/home/berkay/anaconda3/envs/conda-test1/lib/python3.6/lib-dynload', '', '/home/berkay/anaconda3/envs/conda-test1/lib/python3.6/site-packages', '/home/berkay/anaconda3/envs/conda-test1/lib/python3.6/site-packages/pymks-0.3.4.dev189+ge4a11f2-py3.6.egg', '/home/berkay/anaconda3/envs/conda-test1/lib/python3.6/site-packages/IPython/extensions', '/home/berkay/.ipython']\n",
      "/home/berkay/anaconda3/envs/conda-test1/bin/python\n",
      "3.6.7 | packaged by conda-forge | (default, Feb 20 2019, 02:51:38) \n",
      "[GCC 7.3.0]\n",
      "sys.version_info(major=3, minor=6, micro=7, releaselevel='final', serial=0)\n"
     ]
    }
   ],
   "source": [
    "import sys\n",
    "print(sys.path)\n",
    "print(sys.executable)\n",
    "print(sys.version)\n",
    "print(sys.version_info)"
   ]
  },
  {
   "cell_type": "code",
   "execution_count": null,
   "metadata": {},
   "outputs": [],
   "source": []
  }
 ],
 "metadata": {
  "kernelspec": {
   "display_name": "Python 3",
   "language": "python",
   "name": "python3"
  },
  "language_info": {
   "codemirror_mode": {
    "name": "ipython",
    "version": 3
   },
   "file_extension": ".py",
   "mimetype": "text/x-python",
   "name": "python",
   "nbconvert_exporter": "python",
   "pygments_lexer": "ipython3",
   "version": "3.6.7"
  }
 },
 "nbformat": 4,
 "nbformat_minor": 2
}
