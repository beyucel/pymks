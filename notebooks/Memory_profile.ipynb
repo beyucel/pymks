{
 "cells": [
  {
   "cell_type": "code",
   "execution_count": null,
   "metadata": {},
   "outputs": [],
   "source": [
    "import dask.array as da\n",
    "import warnings\n",
    "\n",
    "import dask.array as da\n",
    "from sklearn.pipeline import Pipeline\n",
    "from dask_ml.model_selection import train_test_split\n",
    "from dask_ml.model_selection import GridSearchCV\n",
    "from dask_ml.decomposition import PCA\n",
    "from dask_ml.preprocessing import PolynomialFeatures\n",
    "from dask_ml.linear_model import LinearRegression\n",
    "import matplotlib.pyplot as plt\n",
    "import numpy as np\n",
    "import pandas\n",
    "from toolz.curried import groupby, valmap, pipe, pluck, merge_with, merge\n",
    "from toolz.curried import map as fmap\n",
    "\n",
    "from pymks.fmks.data.elastic_fe import solve\n",
    "from pymks.fmks.data.multiphase import generate\n",
    "\n",
    "from pymks.fmks.plot import plot_microstructures\n",
    "from pymks.fmks.bases.primitive import PrimitiveTransformer\n",
    "from pymks.fmks.correlations import TwoPointCorrelation, FlattenTransformer\n",
    "from dask.distributed import Client, progress\n",
    "import time\n",
    "from mpl_toolkits import mplot3d\n",
    "%matplotlib notebook\n",
    "%load_ext memory_profiler"
   ]
  },
  {
   "cell_type": "code",
   "execution_count": null,
   "metadata": {},
   "outputs": [],
   "source": [
    "warnings.filterwarnings('ignore')\n",
    "\n",
    "%matplotlib inline\n",
    "%load_ext autoreload\n",
    "%autoreload 2"
   ]
  },
  {
   "cell_type": "code",
   "execution_count": null,
   "metadata": {},
   "outputs": [],
   "source": [
    "da.random.seed(10)\n",
    "np.random.seed(10)\n",
    "\n",
    "tmp = [\n",
    "    generate(shape=(100, 101, 101,101), grain_size=x, volume_fraction=(0.5, 0.2,0.3), chunks=25, percent_variance=0.15)\n",
    "    for x in [(15, 2,2), (2,2, 15), (7,7, 7), (9, 9,3), (9,9, 9), (2, 2,2)]\n",
    "]\n",
    "x_data_gen = da.concatenate(tmp)"
   ]
  },
  {
   "cell_type": "code",
   "execution_count": null,
   "metadata": {},
   "outputs": [],
   "source": []
  },
  {
   "cell_type": "code",
   "execution_count": null,
   "metadata": {},
   "outputs": [],
   "source": [
    "@profile\n",
    "def HomogenizationPipeline(x):\n",
    "    a1=PrimitiveTransformer(n_state=2, min_=0.0, max_=1.0).transform(x)\n",
    "    a2=TwoPointCorrelation(periodic_boundary=True, cutoff=15,correlations=[(1,1)]).transform(a1)\n",
    "    a3=FlattenTransformer().transform(a2)\n",
    "    a4=PCA(n_components=3).fit_transform(a3)\n",
    "    return a4\n",
    "\n",
    "\n"
   ]
  },
  {
   "cell_type": "code",
   "execution_count": 3,
   "metadata": {},
   "outputs": [
    {
     "name": "stdout",
     "output_type": "stream",
     "text": [
      "Overwriting memory_try.py\n"
     ]
    }
   ],
   "source": [
    "%%file memory_try.py\n",
    "\n",
    "import dask.array as da\n",
    "import warnings\n",
    "\n",
    "import dask.array as da\n",
    "from sklearn.pipeline import Pipeline\n",
    "from dask_ml.model_selection import train_test_split\n",
    "from dask_ml.model_selection import GridSearchCV\n",
    "from dask_ml.decomposition import PCA\n",
    "from dask_ml.preprocessing import PolynomialFeatures\n",
    "from dask_ml.linear_model import LinearRegression\n",
    "import matplotlib.pyplot as plt\n",
    "import numpy as np\n",
    "import pandas\n",
    "from toolz.curried import groupby, valmap, pipe, pluck, merge_with, merge\n",
    "from toolz.curried import map as fmap\n",
    "\n",
    "from pymks.fmks.data.elastic_fe import solve\n",
    "from pymks.fmks.data.multiphase import generate\n",
    "\n",
    "from pymks.fmks.plot import plot_microstructures\n",
    "from pymks.fmks.bases.primitive import PrimitiveTransformer\n",
    "from pymks.fmks.correlations import TwoPointCorrelation, FlattenTransformer\n",
    "from dask.distributed import Client, progress\n",
    "import time\n",
    "from mpl_toolkits import mplot3d\n",
    "\n",
    "\n",
    "da.random.seed(10)\n",
    "np.random.seed(10)\n",
    "\n",
    "tmp = [\n",
    "    generate(shape=(100, 101, 101,101), grain_size=x, volume_fraction=(0.5, 0.2,0.3), chunks=25, percent_variance=0.15)\n",
    "    for x in [(15, 2,2), (2,2, 15), (7,7, 7), (9, 9,3), (9,9, 9), (2, 2,2)]\n",
    "]\n",
    "x_data_gen = da.concatenate(tmp)\n",
    "\n",
    "\n",
    "@profile\n",
    "def HomogenizationPipeline(x):\n",
    "    a1=PrimitiveTransformer(n_state=2, min_=0.0, max_=1.0).transform(x)\n",
    "    a2=TwoPointCorrelation(periodic_boundary=True, cutoff=15,correlations=[(1,1)]).transform(a1)\n",
    "    a3=FlattenTransformer().transform(a2)\n",
    "    a4=PCA(n_components=3).fit_transform(a3)\n",
    "    return a4\n",
    "\n",
    "HomogenizationPipeline(x_data_gen)\n"
   ]
  },
  {
   "cell_type": "code",
   "execution_count": 5,
   "metadata": {},
   "outputs": [
    {
     "name": "stdout",
     "output_type": "stream",
     "text": [
      "Writing memory_try2.py\n"
     ]
    }
   ],
   "source": [
    "%%file memory_try2.py\n",
    "\n",
    "import dask.array as da\n",
    "import warnings\n",
    "\n",
    "import dask.array as da\n",
    "from sklearn.pipeline import Pipeline\n",
    "from dask_ml.model_selection import train_test_split\n",
    "from dask_ml.model_selection import GridSearchCV\n",
    "from dask_ml.decomposition import PCA\n",
    "from dask_ml.preprocessing import PolynomialFeatures\n",
    "from dask_ml.linear_model import LinearRegression\n",
    "import matplotlib.pyplot as plt\n",
    "import numpy as np\n",
    "import pandas\n",
    "from toolz.curried import groupby, valmap, pipe, pluck, merge_with, merge\n",
    "from toolz.curried import map as fmap\n",
    "\n",
    "from pymks.fmks.data.elastic_fe import solve\n",
    "from pymks.fmks.data.multiphase import generate\n",
    "\n",
    "from pymks.fmks.plot import plot_microstructures\n",
    "from pymks.fmks.bases.primitive import PrimitiveTransformer\n",
    "from pymks.fmks.correlations import TwoPointCorrelation, FlattenTransformer\n",
    "from dask.distributed import Client, progress\n",
    "import time\n",
    "from mpl_toolkits import mplot3d\n",
    "\n",
    "\n",
    "da.random.seed(10)\n",
    "np.random.seed(10)\n",
    "\n",
    "tmp = [\n",
    "    generate(shape=(100, 101, 101,101), grain_size=x, volume_fraction=(0.5, 0.2,0.3), chunks=25, percent_variance=0.15)\n",
    "    for x in [(15, 2,2), (2,2, 15), (7,7, 7), (9, 9,3), (9,9, 9), (2, 2,2)]\n",
    "]\n",
    "x_data_gen = da.concatenate(tmp)\n",
    "\n",
    "\n",
    "@profile\n",
    "def HomogenizationPipeline(x):\n",
    "    a1=PrimitiveTransformer(n_state=2, min_=0.0, max_=1.0).transform(x).compute()\n",
    "    a2=TwoPointCorrelation(periodic_boundary=True, cutoff=15,correlations=[(1,1)]).transform(a1).compute()\n",
    "    a3=FlattenTransformer().transform(a2).compute()\n",
    "    a4=PCA(n_components=3).fit_transform(a3).compute()\n",
    "    return a4\n",
    "\n",
    "HomogenizationPipeline(x_data_gen)"
   ]
  },
  {
   "cell_type": "code",
   "execution_count": 4,
   "metadata": {},
   "outputs": [
    {
     "name": "stdout",
     "output_type": "stream",
     "text": [
      "Filename: memory_try.py\r\n",
      "\r\n",
      "Line #    Mem usage    Increment   Line Contents\r\n",
      "================================================\r\n",
      "    39  183.355 MiB  183.355 MiB   @profile\r\n",
      "    40                             def HomogenizationPipeline(x):\r\n",
      "    41  183.441 MiB    0.086 MiB       a1=PrimitiveTransformer(n_state=2, min_=0.0, max_=1.0).transform(x)\r\n",
      "    42  184.012 MiB    0.570 MiB       a2=TwoPointCorrelation(periodic_boundary=True, cutoff=15,correlations=[(1,1)]).transform(a1)\r\n",
      "    43  184.012 MiB    0.000 MiB       a3=FlattenTransformer().transform(a2)\r\n",
      "    44 9977.887 MiB 9793.875 MiB       a4=PCA(n_components=3).fit_transform(a3)\r\n",
      "    45 9977.887 MiB    0.000 MiB       return a4\r\n",
      "\r\n",
      "\r\n"
     ]
    }
   ],
   "source": [
    "!python -m memory_profiler memory_try.py"
   ]
  },
  {
   "cell_type": "code",
   "execution_count": null,
   "metadata": {},
   "outputs": [],
   "source": [
    "!python -m memory_profiler memory_try2.py"
   ]
  },
  {
   "cell_type": "code",
   "execution_count": null,
   "metadata": {},
   "outputs": [],
   "source": [
    "a1=PrimitiveTransformer(n_state=2, min_=0.0, max_=1.0).transform(x_data_gen)\n"
   ]
  },
  {
   "cell_type": "code",
   "execution_count": null,
   "metadata": {},
   "outputs": [],
   "source": [
    "a2=TwoPointCorrelation(periodic_boundary=True, cutoff=15,correlations=[(1,1)]).transform(a1)\n",
    "a2"
   ]
  },
  {
   "cell_type": "code",
   "execution_count": null,
   "metadata": {},
   "outputs": [],
   "source": [
    "a3=FlattenTransformer().transform(a2)\n",
    "a3"
   ]
  },
  {
   "cell_type": "code",
   "execution_count": null,
   "metadata": {},
   "outputs": [],
   "source": [
    "a4=PCA(n_components=3).transform(a3)"
   ]
  },
  {
   "cell_type": "code",
   "execution_count": null,
   "metadata": {},
   "outputs": [],
   "source": []
  },
  {
   "cell_type": "code",
   "execution_count": null,
   "metadata": {},
   "outputs": [],
   "source": [
    "# client = Client( threads_per_worker=2,\n",
    "#                 n_workers=2, memory_limit='8GB')\n",
    "# client"
   ]
  },
  {
   "cell_type": "code",
   "execution_count": null,
   "metadata": {},
   "outputs": [],
   "source": [
    "bl1 = Pipeline(steps=[\n",
    "    (\"discritize\",PrimitiveTransformer(n_state=2, min_=0.0, max_=1.0)),\n",
    "    (\"Correlations\",TwoPointCorrelation(periodic_boundary=True, cutoff=15,correlations=[(1,1)])),\n",
    "    ('flatten', FlattenTransformer()),  \n",
    "    ('reducer',PCA(n_components=3))])"
   ]
  },
  {
   "cell_type": "code",
   "execution_count": null,
   "metadata": {},
   "outputs": [],
   "source": []
  },
  {
   "cell_type": "code",
   "execution_count": null,
   "metadata": {},
   "outputs": [],
   "source": [
    "tic = time.time()\n",
    "%memit a=bl1.fit(x_data_gen)\n",
    "toc = time.time()\n",
    "print(tic-toc)"
   ]
  },
  {
   "cell_type": "code",
   "execution_count": null,
   "metadata": {},
   "outputs": [],
   "source": []
  },
  {
   "cell_type": "code",
   "execution_count": null,
   "metadata": {},
   "outputs": [],
   "source": [
    "tic = time.time()\n",
    "%memit b=bl1.transform(x_data_gen).compute()\n",
    "toc = time.time()\n",
    "print(tic-toc)\n",
    "print(b)"
   ]
  },
  {
   "cell_type": "code",
   "execution_count": null,
   "metadata": {},
   "outputs": [],
   "source": [
    "da.random.seed(10)\n",
    "np.random.seed(10)\n",
    "tmp2 = [\n",
    "    generate(shape=(100, 101, 101,101), grain_size=x, volume_fraction=(0.5, 0.2,0.3), chunks=20, percent_variance=0.15)\n",
    "    for x in [(15, 2,2), (2,2, 15), (7,7, 7), (9, 9,3), (9,9, 9), (2, 2,2)]\n",
    "]\n",
    "x_data_gen2 = da.concatenate(tmp2)"
   ]
  },
  {
   "cell_type": "code",
   "execution_count": null,
   "metadata": {},
   "outputs": [],
   "source": [
    "tic = time.time()\n",
    "%memit a2=bl1.fit(x_data_gen2)\n",
    "toc = time.time()\n",
    "print(tic-toc)"
   ]
  },
  {
   "cell_type": "code",
   "execution_count": null,
   "metadata": {},
   "outputs": [],
   "source": [
    "tic = time.time()\n",
    "%memit b2=bl1.transform(x_data_gen2).compute()\n",
    "toc = time.time()\n",
    "print(tic-toc)\n",
    "print(b2)"
   ]
  },
  {
   "cell_type": "code",
   "execution_count": null,
   "metadata": {},
   "outputs": [],
   "source": [
    "fig = plt.figure()\n",
    "ax = plt.axes(projection=\"3d\")\n",
    "\n",
    "# z_line = np.linspace(0, 15, 1000)\n",
    "# x_line = np.cos(z_line)\n",
    "# y_line = np.sin(z_line)\n",
    "# ax.plot3D(x_line, y_line, z_line, 'gray')\n",
    "\n",
    "z_points = b[:,2]\n",
    "x_points = b[:,0]\n",
    "y_points = b[:,1]\n",
    "ax.scatter3D(x_points, y_points, z_points, c=z_points, cmap='hsv');\n",
    "\n",
    "plt.show()"
   ]
  },
  {
   "cell_type": "code",
   "execution_count": null,
   "metadata": {},
   "outputs": [],
   "source": [
    "\n",
    "fig = plt.figure()\n",
    "ax = plt.axes(projection=\"3d\")\n",
    "\n",
    "# z_line = np.linspace(0, 15, 1000)\n",
    "# x_line = np.cos(z_line)\n",
    "# y_line = np.sin(z_line)\n",
    "# ax.plot3D(x_line, y_line, z_line, 'gray')\n",
    "\n",
    "z_points = b2[:,2]\n",
    "x_points = b2[:,0]\n",
    "y_points = b2[:,1]\n",
    "ax.scatter3D(x_points, y_points, z_points, c=z_points, cmap='hsv');\n",
    "\n",
    "plt.show()\n"
   ]
  },
  {
   "cell_type": "code",
   "execution_count": null,
   "metadata": {},
   "outputs": [],
   "source": []
  }
 ],
 "metadata": {
  "kernelspec": {
   "display_name": "Python 3",
   "language": "python",
   "name": "python3"
  },
  "language_info": {
   "codemirror_mode": {
    "name": "ipython",
    "version": 3
   },
   "file_extension": ".py",
   "mimetype": "text/x-python",
   "name": "python",
   "nbconvert_exporter": "python",
   "pygments_lexer": "ipython3",
   "version": "3.7.6"
  }
 },
 "nbformat": 4,
 "nbformat_minor": 4
}
