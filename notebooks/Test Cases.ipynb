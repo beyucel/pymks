{
 "cells": [
  {
   "cell_type": "markdown",
   "metadata": {},
   "source": [
    "# Test - Cutoff 1 (4x4 and 5x5)"
   ]
  },
  {
   "cell_type": "code",
   "execution_count": 68,
   "metadata": {},
   "outputs": [],
   "source": [
    "from sklearn.pipeline import Pipeline\n",
    "from pymks.fmks.bases.primitive import PrimitiveTransformer\n",
    "from pymks.fmks.correlations import TwoPointcorrelation,auto_correlation\n",
    "import numpy as np"
   ]
  },
  {
   "cell_type": "code",
   "execution_count": 69,
   "metadata": {},
   "outputs": [],
   "source": [
    "import dask.array as da"
   ]
  },
  {
   "cell_type": "code",
   "execution_count": 79,
   "metadata": {},
   "outputs": [],
   "source": [
    "    >>> x_data1 = np.asarray([[[1, 1, 0 ,1],\n",
    "    ...                       [0, 0, 1 ,0],\n",
    "    ...                       [1, 1, 0 ,1],\n",
    "    ...                       [1, 1, 0 ,1]]])\n",
    "    >>> x_data2 = np.asarray([[[1, 1, 0 ,1 ,1],\n",
    "    ...                       [0, 0, 1 ,0 ,0],\n",
    "    ...                       [1, 1, 0 ,1 ,1],\n",
    "    ...                       [1, 1, 0 ,1 ,0],\n",
    "                              [1, 1, 1 ,1 ,0]]])\n",
    "    >>> x_data3 = np.asarray([[[1, 1, 0 ,1 ,1],\n",
    "    ...                       [0, 0, 1 ,0 ,0],\n",
    "    ...                       [1, 1, 0 ,1 ,1],\n",
    "    ...                       [1, 1, 0 ,1 ,0]]])\n",
    "    >>> x_data4 = np.asarray([[[1, 1, 0 ,1 ],\n",
    "    ...                       [0, 0, 1 ,0 ],\n",
    "    ...                       [1, 1, 0 ,1 ],\n",
    "    ...                       [1, 1, 0 ,1 ],\n",
    "                              [1, 1, 1 ,1 ]]])\n",
    "    >>> x_data5 = np.repeat(x_data4[:,:,:,np.newaxis],4,axis=3)\n",
    "    "
   ]
  },
  {
   "cell_type": "code",
   "execution_count": 88,
   "metadata": {},
   "outputs": [
    {
     "name": "stdout",
     "output_type": "stream",
     "text": [
      "(1, 5, 4)\n"
     ]
    }
   ],
   "source": [
    "    >>> x_data6 = np.asarray([[[1, 1, 0 ,1],\n",
    "    ...                       [0, 0, 1 ,0 ],\n",
    "    ...                       [1, 1, 0 ,1 ],\n",
    "    ...                       [1, 1, 0 ,1 ],\n",
    "                              [1, 1, 1 ,1 ]]])\n",
    "    print(x_data6.shape)"
   ]
  },
  {
   "cell_type": "code",
   "execution_count": 80,
   "metadata": {},
   "outputs": [
    {
     "name": "stdout",
     "output_type": "stream",
     "text": [
      "(1, 4, 4)\n",
      "(1, 5, 5)\n",
      "(1, 4, 5)\n",
      "(1, 5, 4)\n",
      "(1, 5, 4, 4)\n"
     ]
    }
   ],
   "source": [
    "print(x_data1.shape)\n",
    "print(x_data2.shape)\n",
    "print(x_data3.shape)\n",
    "print(x_data4.shape)\n",
    "print(x_data5.shape)\n"
   ]
  },
  {
   "cell_type": "code",
   "execution_count": 37,
   "metadata": {},
   "outputs": [],
   "source": [
    "x_data=np.asanyarray([np.random.rand(10,10)])"
   ]
  },
  {
   "cell_type": "code",
   "execution_count": 38,
   "metadata": {},
   "outputs": [],
   "source": [
    "chunks = x_data.shape"
   ]
  },
  {
   "cell_type": "code",
   "execution_count": 39,
   "metadata": {},
   "outputs": [],
   "source": [
    "x_data = da.from_array(x_data, chunks=chunks)"
   ]
  },
  {
   "cell_type": "code",
   "execution_count": 40,
   "metadata": {},
   "outputs": [],
   "source": [
    "f_data = auto_correlation(x_data)"
   ]
  },
  {
   "cell_type": "code",
   "execution_count": 41,
   "metadata": {},
   "outputs": [
    {
     "data": {
      "text/plain": [
       "(1, 10, 10)"
      ]
     },
     "execution_count": 41,
     "metadata": {},
     "output_type": "execute_result"
    }
   ],
   "source": [
    "f_data.shape"
   ]
  },
  {
   "cell_type": "code",
   "execution_count": 50,
   "metadata": {},
   "outputs": [],
   "source": [
    "import matplotlib.pyplot as plt"
   ]
  },
  {
   "cell_type": "code",
   "execution_count": 51,
   "metadata": {},
   "outputs": [
    {
     "data": {
      "text/plain": [
       "<matplotlib.colorbar.Colorbar at 0x7fac100ab8d0>"
      ]
     },
     "execution_count": 51,
     "metadata": {},
     "output_type": "execute_result"
    },
    {
     "data": {
      "image/png": "[encoded data removed]",
      "text/plain": [
       "<Figure size 432x288 with 2 Axes>"
      ]
     },
     "metadata": {
      "needs_background": "light"
     },
     "output_type": "display_data"
    }
   ],
   "source": [
    "plt.imshow(f_data[0])\n",
    "plt.colorbar()"
   ]
  },
  {
   "cell_type": "code",
   "execution_count": null,
   "metadata": {},
   "outputs": [],
   "source": []
  }
 ],
 "metadata": {
  "kernelspec": {
   "display_name": "Python 3",
   "language": "python",
   "name": "python3"
  },
  "language_info": {
   "codemirror_mode": {
    "name": "ipython",
    "version": 3
   },
   "file_extension": ".py",
   "mimetype": "text/x-python",
   "name": "python",
   "nbconvert_exporter": "python",
   "pygments_lexer": "ipython3",
   "version": "3.7.3"
  }
 },
 "nbformat": 4,
 "nbformat_minor": 2
}
