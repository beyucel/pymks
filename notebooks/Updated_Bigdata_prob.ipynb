{
 "cells": [
  {
   "cell_type": "code",
   "execution_count": 1,
   "metadata": {},
   "outputs": [
    {
     "ename": "ModuleNotFoundError",
     "evalue": "No module named 'pymks.fmks.data.multiphase'",
     "output_type": "error",
     "traceback": [
      "\u001b[0;31m---------------------------------------------------------------------------\u001b[0m",
      "\u001b[0;31mModuleNotFoundError\u001b[0m                       Traceback (most recent call last)",
      "\u001b[0;32m<ipython-input-1-5f2a5e5d4db3>\u001b[0m in \u001b[0;36m<module>\u001b[0;34m\u001b[0m\n\u001b[1;32m     16\u001b[0m \u001b[0;34m\u001b[0m\u001b[0m\n\u001b[1;32m     17\u001b[0m \u001b[0;32mfrom\u001b[0m \u001b[0mpymks\u001b[0m\u001b[0;34m.\u001b[0m\u001b[0mfmks\u001b[0m\u001b[0;34m.\u001b[0m\u001b[0mdata\u001b[0m\u001b[0;34m.\u001b[0m\u001b[0melastic_fe\u001b[0m \u001b[0;32mimport\u001b[0m \u001b[0msolve\u001b[0m\u001b[0;34m\u001b[0m\u001b[0;34m\u001b[0m\u001b[0m\n\u001b[0;32m---> 18\u001b[0;31m \u001b[0;32mfrom\u001b[0m \u001b[0mpymks\u001b[0m\u001b[0;34m.\u001b[0m\u001b[0mfmks\u001b[0m\u001b[0;34m.\u001b[0m\u001b[0mdata\u001b[0m\u001b[0;34m.\u001b[0m\u001b[0mmultiphase\u001b[0m \u001b[0;32mimport\u001b[0m \u001b[0mgenerate\u001b[0m\u001b[0;34m\u001b[0m\u001b[0;34m\u001b[0m\u001b[0m\n\u001b[0m\u001b[1;32m     19\u001b[0m \u001b[0;32mfrom\u001b[0m \u001b[0mpymks\u001b[0m\u001b[0;34m.\u001b[0m\u001b[0mfmks\u001b[0m\u001b[0;34m.\u001b[0m\u001b[0mplot\u001b[0m \u001b[0;32mimport\u001b[0m \u001b[0mplot_microstructures\u001b[0m\u001b[0;34m\u001b[0m\u001b[0;34m\u001b[0m\u001b[0m\n\u001b[1;32m     20\u001b[0m \u001b[0;32mfrom\u001b[0m \u001b[0mpymks\u001b[0m\u001b[0;34m.\u001b[0m\u001b[0mfmks\u001b[0m\u001b[0;34m.\u001b[0m\u001b[0mbases\u001b[0m\u001b[0;34m.\u001b[0m\u001b[0mprimitive\u001b[0m \u001b[0;32mimport\u001b[0m \u001b[0mPrimitiveTransformer\u001b[0m\u001b[0;34m\u001b[0m\u001b[0;34m\u001b[0m\u001b[0m\n",
      "\u001b[0;31mModuleNotFoundError\u001b[0m: No module named 'pymks.fmks.data.multiphase'"
     ]
    }
   ],
   "source": [
    "import dask.array as da\n",
    "import warnings\n",
    "\n",
    "import dask.array as da\n",
    "from sklearn.pipeline import Pipeline\n",
    "from dask_ml.model_selection import train_test_split\n",
    "from dask_ml.model_selection import GridSearchCV\n",
    "from dask_ml.decomposition import PCA\n",
    "from dask_ml.preprocessing import PolynomialFeatures\n",
    "from dask_ml.linear_model import LinearRegression\n",
    "import matplotlib.pyplot as plt\n",
    "import numpy as np\n",
    "import pandas\n",
    "from toolz.curried import groupby, valmap, pipe, pluck, merge_with, merge\n",
    "from toolz.curried import map as fmap\n",
    "\n",
    "from pymks.fmks.data.elastic_fe import solve\n",
    "from pymks.fmks.data.multiphase import generate\n",
    "from pymks.fmks.plot import plot_microstructures\n",
    "from pymks.fmks.bases.primitive import PrimitiveTransformer\n",
    "from pymks.fmks.correlations import TwoPointCorrelation, FlattenTransformer"
   ]
  },
  {
   "cell_type": "code",
   "execution_count": null,
   "metadata": {},
   "outputs": [],
   "source": []
  }
 ],
 "metadata": {
  "kernelspec": {
   "display_name": "Python 3",
   "language": "python",
   "name": "python3"
  },
  "language_info": {
   "codemirror_mode": {
    "name": "ipython",
    "version": 3
   },
   "file_extension": ".py",
   "mimetype": "text/x-python",
   "name": "python",
   "nbconvert_exporter": "python",
   "pygments_lexer": "ipython3",
   "version": "3.7.6"
  }
 },
 "nbformat": 4,
 "nbformat_minor": 4
}
