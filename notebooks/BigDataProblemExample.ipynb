{
 "cells": [
  {
   "cell_type": "markdown",
   "metadata": {},
   "source": [
    "This is the large casestudy for the damage dataset. Data that we are reading is 64Gb and device that I have is 32 GB so technically I cannot play around with this data"
   ]
  },
  {
   "cell_type": "code",
   "execution_count": 15,
   "metadata": {},
   "outputs": [
    {
     "name": "stderr",
     "output_type": "stream",
     "text": [
      "/nix/store/02z0vx25y0x2arfvcp89pvy52a3q77wf-python3.7-distributed-2.9.1/lib/python3.7/site-packages/distributed/dashboard/core.py:72: UserWarning: \n",
      "Port 8787 is already in use. \n",
      "Perhaps you already have a cluster running?\n",
      "Hosting the diagnostics dashboard on a random port instead.\n",
      "  warnings.warn(\"\\n\" + msg)\n"
     ]
    },
    {
     "data": {
      "text/html": [
       "<table style=\"border: 2px solid white;\">\n",
       "<tr>\n",
       "<td style=\"vertical-align: top; border: 0px solid white\">\n",
       "<h3 style=\"text-align: left;\">Client</h3>\n",
       "<ul style=\"text-align: left; list-style: none; margin: 0; padding: 0;\">\n",
       "  <li><b>Scheduler: </b>tcp://127.0.0.1:40021</li>\n",
       "  <li><b>Dashboard: </b><a href='http://127.0.0.1:35185/status' target='_blank'>http://127.0.0.1:35185/status</a>\n",
       "</ul>\n",
       "</td>\n",
       "<td style=\"vertical-align: top; border: 0px solid white\">\n",
       "<h3 style=\"text-align: left;\">Cluster</h3>\n",
       "<ul style=\"text-align: left; list-style:none; margin: 0; padding: 0;\">\n",
       "  <li><b>Workers: </b>4</li>\n",
       "  <li><b>Cores: </b>8</li>\n",
       "  <li><b>Memory: </b>33.59 GB</li>\n",
       "</ul>\n",
       "</td>\n",
       "</tr>\n",
       "</table>"
      ],
      "text/plain": [
       "<Client: 'tcp://127.0.0.1:40021' processes=4 threads=8, memory=33.59 GB>"
      ]
     },
     "execution_count": 15,
     "metadata": {},
     "output_type": "execute_result"
    }
   ],
   "source": [
    "from dask.distributed import Client, progress\n",
    "import tables\n",
    "import numpy as np\n",
    "Client()"
   ]
  },
  {
   "cell_type": "code",
   "execution_count": 6,
   "metadata": {},
   "outputs": [],
   "source": [
    "import dask.array as da"
   ]
  },
  {
   "cell_type": "code",
   "execution_count": 9,
   "metadata": {},
   "outputs": [],
   "source": [
    "path=\"/home/berkay/Projects/pymks/data/ms_copy_data.hdf5\"\n"
   ]
  },
  {
   "cell_type": "code",
   "execution_count": 10,
   "metadata": {},
   "outputs": [],
   "source": [
    "tps_hdf5_file = tables.open_file(path, mode='r')\n"
   ]
  },
  {
   "cell_type": "code",
   "execution_count": 11,
   "metadata": {},
   "outputs": [],
   "source": [
    "ms_data=tps_hdf5_file.root.ms_data"
   ]
  },
  {
   "cell_type": "code",
   "execution_count": 13,
   "metadata": {},
   "outputs": [
    {
     "data": {
      "text/plain": [
       "/ms_data (EArray(130000, 257651), shuffle, blosc(5)) ''\n",
       "  atom := Float32Atom(shape=(), dflt=0.0)\n",
       "  maindim := 0\n",
       "  flavor := 'numpy'\n",
       "  byteorder := 'little'\n",
       "  chunkshape := (2, 257651)"
      ]
     },
     "execution_count": 13,
     "metadata": {},
     "output_type": "execute_result"
    }
   ],
   "source": [
    "ms_data\n",
    "# Actually it has a chunk shape (from pytables) as well  maybe it could be an issue too"
   ]
  },
  {
   "cell_type": "markdown",
   "metadata": {},
   "source": [
    "# Data Construction\n",
    "Creating the Large Dask Array From HDF file:<br/>\n",
    "Target Data is n* 51* 51*51<br/>\n",
    "So I will first read as NP array then will construct the dask array. Basically , we are stitching them together."
   ]
  },
  {
   "cell_type": "code",
   "execution_count": 23,
   "metadata": {},
   "outputs": [
    {
     "name": "stdout",
     "output_type": "stream",
     "text": [
      "1 Chunks completed\n",
      "2 Chunks completed\n",
      "3 Chunks completed\n",
      "4 Chunks completed\n",
      "5 Chunks completed\n"
     ]
    }
   ],
   "source": [
    "# I guess I dont need to do that\n",
    "chunksize=1300\n",
    "dask_arrays = []\n",
    "for i in range(5):\n",
    "#     ms_chunk=np.array(ms_data[i*chunksize:(i+1)*chunksize])\n",
    "#     ms_chunk=ms_chunk[:,0:51**3]\n",
    "#     ms_chunk=ms_chunk.reshape((chunksize,51,51,51))\n",
    "    ms_chunk=da.from_array(np.array(ms_data[i*chunksize:(i+1)*chunksize,0:51**3]).reshape(chunksize,51,51,51),chunks=(chunksize,51,51,51))\n",
    "    print(\"%d Chunks completed\"%(i+1))\n",
    "    dask_arrays.append(ms_chunk)"
   ]
  },
  {
   "cell_type": "code",
   "execution_count": null,
   "metadata": {},
   "outputs": [],
   "source": []
  },
  {
   "cell_type": "code",
   "execution_count": null,
   "metadata": {},
   "outputs": [],
   "source": [
    "# ms_data.shape[0]//chunksize\n",
    "x = da.concatenate(dask_arrays, axis=0)  # concatenate arrays along first axis"
   ]
  },
  {
   "cell_type": "code",
   "execution_count": null,
   "metadata": {},
   "outputs": [],
   "source": [
    "x"
   ]
  },
  {
   "cell_type": "code",
   "execution_count": null,
   "metadata": {},
   "outputs": [],
   "source": [
    "type(x)"
   ]
  },
  {
   "cell_type": "markdown",
   "metadata": {},
   "source": [
    "Save the small chunk of the data with pytables"
   ]
  },
  {
   "cell_type": "code",
   "execution_count": null,
   "metadata": {},
   "outputs": [],
   "source": [
    "h5file = tables.open_file(\"new_sample.h5\", \"w\", driver=\"H5FD_CORE\")\n",
    "a = h5file.create_array(h5file.root, \"array\",ms_data[0:500,0:51**3])\n",
    "h5file.close()"
   ]
  },
  {
   "cell_type": "markdown",
   "metadata": {},
   "source": [
    "# Start from Here\n",
    "Unpack the data with pytables"
   ]
  },
  {
   "cell_type": "code",
   "execution_count": 9,
   "metadata": {},
   "outputs": [],
   "source": [
    "import dask.array as da\n",
    "import numpy as np"
   ]
  },
  {
   "cell_type": "code",
   "execution_count": 10,
   "metadata": {},
   "outputs": [],
   "source": [
    "import tables\n",
    "import dask.array as da\n",
    "\n",
    "h5file = tables.open_file(\"new_sample.h5\", \"r\", driver=\"H5FD_CORE\",driver_core_backing_store=0)"
   ]
  },
  {
   "cell_type": "code",
   "execution_count": 11,
   "metadata": {},
   "outputs": [],
   "source": [
    "data=h5file.root.array"
   ]
  },
  {
   "cell_type": "code",
   "execution_count": 12,
   "metadata": {},
   "outputs": [],
   "source": [
    "data=da.from_array(np.array(data).reshape(500,51,51,51),chunks=(100,51,51,51))\n"
   ]
  },
  {
   "cell_type": "code",
   "execution_count": 13,
   "metadata": {
    "scrolled": true
   },
   "outputs": [
    {
     "data": {
      "text/html": [
       "<table>\n",
       "<tr>\n",
       "<td>\n",
       "<table>\n",
       "  <thead>\n",
       "    <tr><td> </td><th> Array </th><th> Chunk </th></tr>\n",
       "  </thead>\n",
       "  <tbody>\n",
       "    <tr><th> Bytes </th><td> 265.30 MB </td> <td> 53.06 MB </td></tr>\n",
       "    <tr><th> Shape </th><td> (500, 51, 51, 51) </td> <td> (100, 51, 51, 51) </td></tr>\n",
       "    <tr><th> Count </th><td> 6 Tasks </td><td> 5 Chunks </td></tr>\n",
       "    <tr><th> Type </th><td> float32 </td><td> numpy.ndarray </td></tr>\n",
       "  </tbody>\n",
       "</table>\n",
       "</td>\n",
       "<td>\n",
       "<svg width=\"491\" height=\"111\" style=\"stroke:rgb(0,0,0);stroke-width:1\" >\n",
       "\n",
       "  <!-- Horizontal lines -->\n",
       "  <line x1=\"0\" y1=\"0\" x2=\"120\" y2=\"0\" style=\"stroke-width:2\" />\n",
       "  <line x1=\"0\" y1=\"25\" x2=\"120\" y2=\"25\" style=\"stroke-width:2\" />\n",
       "\n",
       "  <!-- Vertical lines -->\n",
       "  <line x1=\"0\" y1=\"0\" x2=\"0\" y2=\"25\" style=\"stroke-width:2\" />\n",
       "  <line x1=\"24\" y1=\"0\" x2=\"24\" y2=\"25\" />\n",
       "  <line x1=\"48\" y1=\"0\" x2=\"48\" y2=\"25\" />\n",
       "  <line x1=\"72\" y1=\"0\" x2=\"72\" y2=\"25\" />\n",
       "  <line x1=\"96\" y1=\"0\" x2=\"96\" y2=\"25\" />\n",
       "  <line x1=\"120\" y1=\"0\" x2=\"120\" y2=\"25\" style=\"stroke-width:2\" />\n",
       "\n",
       "  <!-- Colored Rectangle -->\n",
       "  <polygon points=\"0.000000,0.000000 120.000000,0.000000 120.000000,25.412617 0.000000,25.412617\" style=\"fill:#ECB172A0;stroke-width:0\"/>\n",
       "\n",
       "  <!-- Text -->\n",
       "  <text x=\"60.000000\" y=\"45.412617\" font-size=\"1.0rem\" font-weight=\"100\" text-anchor=\"middle\" >500</text>\n",
       "  <text x=\"140.000000\" y=\"12.706308\" font-size=\"1.0rem\" font-weight=\"100\" text-anchor=\"middle\" transform=\"rotate(0,140.000000,12.706308)\">1</text>\n",
       "\n",
       "\n",
       "  <!-- Horizontal lines -->\n",
       "  <line x1=\"190\" y1=\"0\" x2=\"212\" y2=\"22\" style=\"stroke-width:2\" />\n",
       "  <line x1=\"190\" y1=\"38\" x2=\"212\" y2=\"61\" style=\"stroke-width:2\" />\n",
       "\n",
       "  <!-- Vertical lines -->\n",
       "  <line x1=\"190\" y1=\"0\" x2=\"190\" y2=\"38\" style=\"stroke-width:2\" />\n",
       "  <line x1=\"212\" y1=\"22\" x2=\"212\" y2=\"61\" style=\"stroke-width:2\" />\n",
       "\n",
       "  <!-- Colored Rectangle -->\n",
       "  <polygon points=\"190.000000,0.000000 212.768423,22.768423 212.768423,61.474743 190.000000,38.706320\" style=\"fill:#ECB172A0;stroke-width:0\"/>\n",
       "\n",
       "  <!-- Horizontal lines -->\n",
       "  <line x1=\"190\" y1=\"0\" x2=\"228\" y2=\"0\" style=\"stroke-width:2\" />\n",
       "  <line x1=\"212\" y1=\"22\" x2=\"251\" y2=\"22\" style=\"stroke-width:2\" />\n",
       "\n",
       "  <!-- Vertical lines -->\n",
       "  <line x1=\"190\" y1=\"0\" x2=\"212\" y2=\"22\" style=\"stroke-width:2\" />\n",
       "  <line x1=\"228\" y1=\"0\" x2=\"251\" y2=\"22\" style=\"stroke-width:2\" />\n",
       "\n",
       "  <!-- Colored Rectangle -->\n",
       "  <polygon points=\"190.000000,0.000000 228.706320,0.000000 251.474743,22.768423 212.768423,22.768423\" style=\"fill:#ECB172A0;stroke-width:0\"/>\n",
       "\n",
       "  <!-- Horizontal lines -->\n",
       "  <line x1=\"212\" y1=\"22\" x2=\"251\" y2=\"22\" style=\"stroke-width:2\" />\n",
       "  <line x1=\"212\" y1=\"61\" x2=\"251\" y2=\"61\" style=\"stroke-width:2\" />\n",
       "\n",
       "  <!-- Vertical lines -->\n",
       "  <line x1=\"212\" y1=\"22\" x2=\"212\" y2=\"61\" style=\"stroke-width:2\" />\n",
       "  <line x1=\"251\" y1=\"22\" x2=\"251\" y2=\"61\" style=\"stroke-width:2\" />\n",
       "\n",
       "  <!-- Colored Rectangle -->\n",
       "  <polygon points=\"212.768423,22.768423 251.474743,22.768423 251.474743,61.474743 212.768423,61.474743\" style=\"fill:#ECB172A0;stroke-width:0\"/>\n",
       "\n",
       "  <!-- Text -->\n",
       "  <text x=\"232.121583\" y=\"81.474743\" font-size=\"1.0rem\" font-weight=\"100\" text-anchor=\"middle\" >51</text>\n",
       "  <text x=\"271.474743\" y=\"42.121583\" font-size=\"1.0rem\" font-weight=\"100\" text-anchor=\"middle\" transform=\"rotate(0,271.474743,42.121583)\">51</text>\n",
       "  <text x=\"191.384212\" y=\"70.090531\" font-size=\"1.0rem\" font-weight=\"100\" text-anchor=\"middle\" transform=\"rotate(45,191.384212,70.090531)\">51</text>\n",
       "</svg>\n",
       "</td>\n",
       "</tr>\n",
       "</table>"
      ],
      "text/plain": [
       "dask.array<array, shape=(500, 51, 51, 51), dtype=float32, chunksize=(100, 51, 51, 51), chunktype=numpy.ndarray>"
      ]
     },
     "execution_count": 13,
     "metadata": {},
     "output_type": "execute_result"
    }
   ],
   "source": [
    "data"
   ]
  },
  {
   "cell_type": "code",
   "execution_count": 14,
   "metadata": {},
   "outputs": [],
   "source": [
    "from pymks.fmks.bases.primitive import PrimitiveTransformer\n",
    "from pymks.fmks.correlations import TwoPointCorrelation,FlattenTransformer\n",
    "from dask_ml.decomposition import PCA\n",
    "from sklearn.pipeline import Pipeline"
   ]
  },
  {
   "cell_type": "code",
   "execution_count": 15,
   "metadata": {},
   "outputs": [],
   "source": [
    "bl = Pipeline(steps=[\n",
    "    (\"discritize\",PrimitiveTransformer(n_state=2, min_=0.0, max_=1.0)),\n",
    "    (\"Correlations\",TwoPointCorrelation(periodic_boundary=True, cutoff=15,correlations=[(1,1)]))])\n",
    "\n",
    "# There is an issue "
   ]
  },
  {
   "cell_type": "code",
   "execution_count": 16,
   "metadata": {},
   "outputs": [
    {
     "data": {
      "text/html": [
       "<table>\n",
       "<tr>\n",
       "<td>\n",
       "<table>\n",
       "  <thead>\n",
       "    <tr><td> </td><th> Array </th><th> Chunk </th></tr>\n",
       "  </thead>\n",
       "  <tbody>\n",
       "    <tr><th> Bytes </th><td> 119.16 MB </td> <td> 119.16 MB </td></tr>\n",
       "    <tr><th> Shape </th><td> (500, 31, 31, 31, 1) </td> <td> (500, 31, 31, 31, 1) </td></tr>\n",
       "    <tr><th> Count </th><td> 70 Tasks </td><td> 1 Chunks </td></tr>\n",
       "    <tr><th> Type </th><td> float64 </td><td> numpy.ndarray </td></tr>\n",
       "  </tbody>\n",
       "</table>\n",
       "</td>\n",
       "<td>\n",
       "<svg width=\"306\" height=\"170\" style=\"stroke:rgb(0,0,0);stroke-width:1\" >\n",
       "\n",
       "  <!-- Horizontal lines -->\n",
       "  <line x1=\"0\" y1=\"0\" x2=\"35\" y2=\"0\" style=\"stroke-width:2\" />\n",
       "  <line x1=\"0\" y1=\"120\" x2=\"35\" y2=\"120\" style=\"stroke-width:2\" />\n",
       "\n",
       "  <!-- Vertical lines -->\n",
       "  <line x1=\"0\" y1=\"0\" x2=\"0\" y2=\"120\" style=\"stroke-width:2\" />\n",
       "  <line x1=\"35\" y1=\"0\" x2=\"35\" y2=\"120\" style=\"stroke-width:2\" />\n",
       "\n",
       "  <!-- Colored Rectangle -->\n",
       "  <polygon points=\"0.000000,0.000000 35.811037,0.000000 35.811037,120.000000 0.000000,120.000000\" style=\"fill:#ECB172A0;stroke-width:0\"/>\n",
       "\n",
       "  <!-- Text -->\n",
       "  <text x=\"17.905518\" y=\"140.000000\" font-size=\"1.0rem\" font-weight=\"100\" text-anchor=\"middle\" >31</text>\n",
       "  <text x=\"55.811037\" y=\"60.000000\" font-size=\"1.0rem\" font-weight=\"100\" text-anchor=\"middle\" transform=\"rotate(-90,55.811037,60.000000)\">500</text>\n",
       "\n",
       "\n",
       "  <!-- Horizontal lines -->\n",
       "  <line x1=\"105\" y1=\"0\" x2=\"126\" y2=\"21\" style=\"stroke-width:2\" />\n",
       "  <line x1=\"105\" y1=\"35\" x2=\"126\" y2=\"56\" style=\"stroke-width:2\" />\n",
       "\n",
       "  <!-- Vertical lines -->\n",
       "  <line x1=\"105\" y1=\"0\" x2=\"105\" y2=\"35\" style=\"stroke-width:2\" />\n",
       "  <line x1=\"126\" y1=\"21\" x2=\"126\" y2=\"56\" style=\"stroke-width:2\" />\n",
       "\n",
       "  <!-- Colored Rectangle -->\n",
       "  <polygon points=\"105.000000,0.000000 126.065316,21.065316 126.065316,56.876353 105.000000,35.811037\" style=\"fill:#ECB172A0;stroke-width:0\"/>\n",
       "\n",
       "  <!-- Horizontal lines -->\n",
       "  <line x1=\"105\" y1=\"0\" x2=\"130\" y2=\"0\" style=\"stroke-width:2\" />\n",
       "  <line x1=\"126\" y1=\"21\" x2=\"151\" y2=\"21\" style=\"stroke-width:2\" />\n",
       "\n",
       "  <!-- Vertical lines -->\n",
       "  <line x1=\"105\" y1=\"0\" x2=\"126\" y2=\"21\" style=\"stroke-width:2\" />\n",
       "  <line x1=\"130\" y1=\"0\" x2=\"151\" y2=\"21\" style=\"stroke-width:2\" />\n",
       "\n",
       "  <!-- Colored Rectangle -->\n",
       "  <polygon points=\"105.000000,0.000000 130.412617,0.000000 151.477932,21.065316 126.065316,21.065316\" style=\"fill:#ECB172A0;stroke-width:0\"/>\n",
       "\n",
       "  <!-- Horizontal lines -->\n",
       "  <line x1=\"126\" y1=\"21\" x2=\"151\" y2=\"21\" style=\"stroke-width:2\" />\n",
       "  <line x1=\"126\" y1=\"56\" x2=\"151\" y2=\"56\" style=\"stroke-width:2\" />\n",
       "\n",
       "  <!-- Vertical lines -->\n",
       "  <line x1=\"126\" y1=\"21\" x2=\"126\" y2=\"56\" style=\"stroke-width:2\" />\n",
       "  <line x1=\"151\" y1=\"21\" x2=\"151\" y2=\"56\" style=\"stroke-width:2\" />\n",
       "\n",
       "  <!-- Colored Rectangle -->\n",
       "  <polygon points=\"126.065316,21.065316 151.477932,21.065316 151.477932,56.876353 126.065316,56.876353\" style=\"fill:#ECB172A0;stroke-width:0\"/>\n",
       "\n",
       "  <!-- Text -->\n",
       "  <text x=\"138.771624\" y=\"76.876353\" font-size=\"1.0rem\" font-weight=\"100\" text-anchor=\"middle\" >1</text>\n",
       "  <text x=\"171.477932\" y=\"38.970834\" font-size=\"1.0rem\" font-weight=\"100\" text-anchor=\"middle\" transform=\"rotate(0,171.477932,38.970834)\">31</text>\n",
       "  <text x=\"105.532658\" y=\"66.343695\" font-size=\"1.0rem\" font-weight=\"100\" text-anchor=\"middle\" transform=\"rotate(45,105.532658,66.343695)\">31</text>\n",
       "</svg>\n",
       "</td>\n",
       "</tr>\n",
       "</table>"
      ],
      "text/plain": [
       "dask.array<stack, shape=(500, 31, 31, 31, 1), dtype=float64, chunksize=(500, 31, 31, 31, 1), chunktype=numpy.ndarray>"
      ]
     },
     "execution_count": 16,
     "metadata": {},
     "output_type": "execute_result"
    }
   ],
   "source": [
    "bl.transform(data)"
   ]
  },
  {
   "cell_type": "code",
   "execution_count": 17,
   "metadata": {},
   "outputs": [
    {
     "data": {
      "text/html": [
       "<table>\n",
       "<tr>\n",
       "<td>\n",
       "<table>\n",
       "  <thead>\n",
       "    <tr><td> </td><th> Array </th><th> Chunk </th></tr>\n",
       "  </thead>\n",
       "  <tbody>\n",
       "    <tr><th> Bytes </th><td> 238.33 kB </td> <td> 238.33 kB </td></tr>\n",
       "    <tr><th> Shape </th><td> (31, 31, 31, 1) </td> <td> (31, 31, 31, 1) </td></tr>\n",
       "    <tr><th> Count </th><td> 71 Tasks </td><td> 1 Chunks </td></tr>\n",
       "    <tr><th> Type </th><td> float64 </td><td> numpy.ndarray </td></tr>\n",
       "  </tbody>\n",
       "</table>\n",
       "</td>\n",
       "<td>\n",
       "<svg width=\"532\" height=\"240\" style=\"stroke:rgb(0,0,0);stroke-width:1\" >\n",
       "\n",
       "  <!-- Horizontal lines -->\n",
       "  <line x1=\"0\" y1=\"0\" x2=\"120\" y2=\"0\" style=\"stroke-width:2\" />\n",
       "  <line x1=\"0\" y1=\"31\" x2=\"120\" y2=\"31\" style=\"stroke-width:2\" />\n",
       "\n",
       "  <!-- Vertical lines -->\n",
       "  <line x1=\"0\" y1=\"0\" x2=\"0\" y2=\"31\" style=\"stroke-width:2\" />\n",
       "  <line x1=\"120\" y1=\"0\" x2=\"120\" y2=\"31\" style=\"stroke-width:2\" />\n",
       "\n",
       "  <!-- Colored Rectangle -->\n",
       "  <polygon points=\"0.000000,0.000000 120.000000,0.000000 120.000000,31.826360 0.000000,31.826360\" style=\"fill:#ECB172A0;stroke-width:0\"/>\n",
       "\n",
       "  <!-- Text -->\n",
       "  <text x=\"60.000000\" y=\"51.826360\" font-size=\"1.0rem\" font-weight=\"100\" text-anchor=\"middle\" >31</text>\n",
       "  <text x=\"140.000000\" y=\"15.913180\" font-size=\"1.0rem\" font-weight=\"100\" text-anchor=\"middle\" transform=\"rotate(0,140.000000,15.913180)\">1</text>\n",
       "\n",
       "\n",
       "  <!-- Horizontal lines -->\n",
       "  <line x1=\"190\" y1=\"0\" x2=\"260\" y2=\"70\" style=\"stroke-width:2\" />\n",
       "  <line x1=\"190\" y1=\"120\" x2=\"260\" y2=\"190\" style=\"stroke-width:2\" />\n",
       "\n",
       "  <!-- Vertical lines -->\n",
       "  <line x1=\"190\" y1=\"0\" x2=\"190\" y2=\"120\" style=\"stroke-width:2\" />\n",
       "  <line x1=\"260\" y1=\"70\" x2=\"260\" y2=\"190\" style=\"stroke-width:2\" />\n",
       "\n",
       "  <!-- Colored Rectangle -->\n",
       "  <polygon points=\"190.000000,0.000000 260.588235,70.588235 260.588235,190.588235 190.000000,120.000000\" style=\"fill:#ECB172A0;stroke-width:0\"/>\n",
       "\n",
       "  <!-- Horizontal lines -->\n",
       "  <line x1=\"190\" y1=\"0\" x2=\"221\" y2=\"0\" style=\"stroke-width:2\" />\n",
       "  <line x1=\"260\" y1=\"70\" x2=\"292\" y2=\"70\" style=\"stroke-width:2\" />\n",
       "\n",
       "  <!-- Vertical lines -->\n",
       "  <line x1=\"190\" y1=\"0\" x2=\"260\" y2=\"70\" style=\"stroke-width:2\" />\n",
       "  <line x1=\"221\" y1=\"0\" x2=\"292\" y2=\"70\" style=\"stroke-width:2\" />\n",
       "\n",
       "  <!-- Colored Rectangle -->\n",
       "  <polygon points=\"190.000000,0.000000 221.826360,0.000000 292.414595,70.588235 260.588235,70.588235\" style=\"fill:#ECB172A0;stroke-width:0\"/>\n",
       "\n",
       "  <!-- Horizontal lines -->\n",
       "  <line x1=\"260\" y1=\"70\" x2=\"292\" y2=\"70\" style=\"stroke-width:2\" />\n",
       "  <line x1=\"260\" y1=\"190\" x2=\"292\" y2=\"190\" style=\"stroke-width:2\" />\n",
       "\n",
       "  <!-- Vertical lines -->\n",
       "  <line x1=\"260\" y1=\"70\" x2=\"260\" y2=\"190\" style=\"stroke-width:2\" />\n",
       "  <line x1=\"292\" y1=\"70\" x2=\"292\" y2=\"190\" style=\"stroke-width:2\" />\n",
       "\n",
       "  <!-- Colored Rectangle -->\n",
       "  <polygon points=\"260.588235,70.588235 292.414595,70.588235 292.414595,190.588235 260.588235,190.588235\" style=\"fill:#ECB172A0;stroke-width:0\"/>\n",
       "\n",
       "  <!-- Text -->\n",
       "  <text x=\"276.501415\" y=\"210.588235\" font-size=\"1.0rem\" font-weight=\"100\" text-anchor=\"middle\" >1</text>\n",
       "  <text x=\"312.414595\" y=\"130.588235\" font-size=\"1.0rem\" font-weight=\"100\" text-anchor=\"middle\" transform=\"rotate(0,312.414595,130.588235)\">31</text>\n",
       "  <text x=\"215.294118\" y=\"175.294118\" font-size=\"1.0rem\" font-weight=\"100\" text-anchor=\"middle\" transform=\"rotate(45,215.294118,175.294118)\">31</text>\n",
       "</svg>\n",
       "</td>\n",
       "</tr>\n",
       "</table>"
      ],
      "text/plain": [
       "dask.array<getitem, shape=(31, 31, 31, 1), dtype=float64, chunksize=(31, 31, 31, 1), chunktype=numpy.ndarray>"
      ]
     },
     "execution_count": 17,
     "metadata": {},
     "output_type": "execute_result"
    }
   ],
   "source": [
    "bl.transform(data)[0]"
   ]
  },
  {
   "cell_type": "code",
   "execution_count": 18,
   "metadata": {},
   "outputs": [
    {
     "data": {
      "text/plain": [
       "array([[[[0.21717137],\n",
       "         [0.21635721],\n",
       "         [0.21636475],\n",
       "         ...,\n",
       "         [0.22320978],\n",
       "         [0.22164175],\n",
       "         [0.22084266]],\n",
       "\n",
       "        [[0.2144801 ],\n",
       "         [0.21472134],\n",
       "         [0.21613859],\n",
       "         ...,\n",
       "         [0.22396363],\n",
       "         [0.2223353 ],\n",
       "         [0.22059389]],\n",
       "\n",
       "        [[0.21501534],\n",
       "         [0.21558827],\n",
       "         [0.21800062],\n",
       "         ...,\n",
       "         [0.22435564],\n",
       "         [0.22271977],\n",
       "         [0.22110651]],\n",
       "\n",
       "        ...,\n",
       "\n",
       "        [[0.22944418],\n",
       "         [0.22883356],\n",
       "         [0.22844155],\n",
       "         ...,\n",
       "         [0.22231269],\n",
       "         [0.2214759 ],\n",
       "         [0.22198853]],\n",
       "\n",
       "        [[0.22934618],\n",
       "         [0.22906725],\n",
       "         [0.22876571],\n",
       "         ...,\n",
       "         [0.22150606],\n",
       "         [0.2216116 ],\n",
       "         [0.22274238]],\n",
       "\n",
       "        [[0.22914264],\n",
       "         [0.22957988],\n",
       "         [0.22977588],\n",
       "         ...,\n",
       "         [0.22284792],\n",
       "         [0.22415964],\n",
       "         [0.22547135]]],\n",
       "\n",
       "\n",
       "       [[[0.21759353],\n",
       "         [0.21660598],\n",
       "         [0.21604059],\n",
       "         ...,\n",
       "         [0.22170206],\n",
       "         [0.2206542 ],\n",
       "         [0.22015665]],\n",
       "\n",
       "        [[0.21540735],\n",
       "         [0.2150078 ],\n",
       "         [0.21579181],\n",
       "         ...,\n",
       "         [0.22255392],\n",
       "         [0.22180006],\n",
       "         [0.2211819 ]],\n",
       "\n",
       "        [[0.21493242],\n",
       "         [0.2155732 ],\n",
       "         [0.21716384],\n",
       "         ...,\n",
       "         [0.22414456],\n",
       "         [0.22331532],\n",
       "         [0.22238053]],\n",
       "\n",
       "        ...,\n",
       "\n",
       "        [[0.22881848],\n",
       "         [0.22804954],\n",
       "         [0.22782339],\n",
       "         ...,\n",
       "         [0.22435564],\n",
       "         [0.22314947],\n",
       "         [0.22208653]],\n",
       "\n",
       "        [[0.22897679],\n",
       "         [0.22875063],\n",
       "         [0.22831339],\n",
       "         ...,\n",
       "         [0.22363194],\n",
       "         [0.22297608],\n",
       "         [0.22303639]],\n",
       "\n",
       "        [[0.22937633],\n",
       "         [0.22930095],\n",
       "         [0.22902202],\n",
       "         ...,\n",
       "         [0.22436318],\n",
       "         [0.22565981],\n",
       "         [0.22633829]]],\n",
       "\n",
       "\n",
       "       [[[0.21972695],\n",
       "         [0.21794031],\n",
       "         [0.21677937],\n",
       "         ...,\n",
       "         [0.22045066],\n",
       "         [0.22028481],\n",
       "         [0.22078989]],\n",
       "\n",
       "        [[0.21738245],\n",
       "         [0.21658337],\n",
       "         [0.21661352],\n",
       "         ...,\n",
       "         [0.2219056 ],\n",
       "         [0.22211668],\n",
       "         [0.22250869]],\n",
       "\n",
       "        [[0.2165306 ],\n",
       "         [0.21696783],\n",
       "         [0.21755584],\n",
       "         ...,\n",
       "         [0.22322485],\n",
       "         [0.22346609],\n",
       "         [0.22374502]],\n",
       "\n",
       "        ...,\n",
       "\n",
       "        [[0.22812493],\n",
       "         [0.22713738],\n",
       "         [0.22697907],\n",
       "         ...,\n",
       "         [0.22694891],\n",
       "         [0.22528289],\n",
       "         [0.22269715]],\n",
       "\n",
       "        [[0.22810231],\n",
       "         [0.22801939],\n",
       "         [0.227552  ],\n",
       "         ...,\n",
       "         [0.22660214],\n",
       "         [0.22539596],\n",
       "         [0.2235867 ]],\n",
       "\n",
       "        [[0.22881848],\n",
       "         [0.22874309],\n",
       "         [0.22810985],\n",
       "         ...,\n",
       "         [0.22639859],\n",
       "         [0.22713738],\n",
       "         [0.22674537]]],\n",
       "\n",
       "\n",
       "       ...,\n",
       "\n",
       "\n",
       "       [[[0.22674537],\n",
       "         [0.22713738],\n",
       "         [0.22639859],\n",
       "         ...,\n",
       "         [0.22810985],\n",
       "         [0.22874309],\n",
       "         [0.22881848]],\n",
       "\n",
       "        [[0.2235867 ],\n",
       "         [0.22539596],\n",
       "         [0.22660214],\n",
       "         ...,\n",
       "         [0.227552  ],\n",
       "         [0.22801939],\n",
       "         [0.22810231]],\n",
       "\n",
       "        [[0.22269715],\n",
       "         [0.22528289],\n",
       "         [0.22694891],\n",
       "         ...,\n",
       "         [0.22697907],\n",
       "         [0.22713738],\n",
       "         [0.22812493]],\n",
       "\n",
       "        ...,\n",
       "\n",
       "        [[0.22374502],\n",
       "         [0.22346609],\n",
       "         [0.22322485],\n",
       "         ...,\n",
       "         [0.21755584],\n",
       "         [0.21696783],\n",
       "         [0.2165306 ]],\n",
       "\n",
       "        [[0.22250869],\n",
       "         [0.22211668],\n",
       "         [0.2219056 ],\n",
       "         ...,\n",
       "         [0.21661352],\n",
       "         [0.21658337],\n",
       "         [0.21738245]],\n",
       "\n",
       "        [[0.22078989],\n",
       "         [0.22028481],\n",
       "         [0.22045066],\n",
       "         ...,\n",
       "         [0.21677937],\n",
       "         [0.21794031],\n",
       "         [0.21972695]]],\n",
       "\n",
       "\n",
       "       [[[0.22633829],\n",
       "         [0.22565981],\n",
       "         [0.22436318],\n",
       "         ...,\n",
       "         [0.22902202],\n",
       "         [0.22930095],\n",
       "         [0.22937633]],\n",
       "\n",
       "        [[0.22303639],\n",
       "         [0.22297608],\n",
       "         [0.22363194],\n",
       "         ...,\n",
       "         [0.22831339],\n",
       "         [0.22875063],\n",
       "         [0.22897679]],\n",
       "\n",
       "        [[0.22208653],\n",
       "         [0.22314947],\n",
       "         [0.22435564],\n",
       "         ...,\n",
       "         [0.22782339],\n",
       "         [0.22804954],\n",
       "         [0.22881848]],\n",
       "\n",
       "        ...,\n",
       "\n",
       "        [[0.22238053],\n",
       "         [0.22331532],\n",
       "         [0.22414456],\n",
       "         ...,\n",
       "         [0.21716384],\n",
       "         [0.2155732 ],\n",
       "         [0.21493242]],\n",
       "\n",
       "        [[0.2211819 ],\n",
       "         [0.22180006],\n",
       "         [0.22255392],\n",
       "         ...,\n",
       "         [0.21579181],\n",
       "         [0.2150078 ],\n",
       "         [0.21540735]],\n",
       "\n",
       "        [[0.22015665],\n",
       "         [0.2206542 ],\n",
       "         [0.22170206],\n",
       "         ...,\n",
       "         [0.21604059],\n",
       "         [0.21660598],\n",
       "         [0.21759353]]],\n",
       "\n",
       "\n",
       "       [[[0.22547135],\n",
       "         [0.22415964],\n",
       "         [0.22284792],\n",
       "         ...,\n",
       "         [0.22977588],\n",
       "         [0.22957988],\n",
       "         [0.22914264]],\n",
       "\n",
       "        [[0.22274238],\n",
       "         [0.2216116 ],\n",
       "         [0.22150606],\n",
       "         ...,\n",
       "         [0.22876571],\n",
       "         [0.22906725],\n",
       "         [0.22934618]],\n",
       "\n",
       "        [[0.22198853],\n",
       "         [0.2214759 ],\n",
       "         [0.22231269],\n",
       "         ...,\n",
       "         [0.22844155],\n",
       "         [0.22883356],\n",
       "         [0.22944418]],\n",
       "\n",
       "        ...,\n",
       "\n",
       "        [[0.22110651],\n",
       "         [0.22271977],\n",
       "         [0.22435564],\n",
       "         ...,\n",
       "         [0.21800062],\n",
       "         [0.21558827],\n",
       "         [0.21501534]],\n",
       "\n",
       "        [[0.22059389],\n",
       "         [0.2223353 ],\n",
       "         [0.22396363],\n",
       "         ...,\n",
       "         [0.21613859],\n",
       "         [0.21472134],\n",
       "         [0.2144801 ]],\n",
       "\n",
       "        [[0.22084266],\n",
       "         [0.22164175],\n",
       "         [0.22320978],\n",
       "         ...,\n",
       "         [0.21636475],\n",
       "         [0.21635721],\n",
       "         [0.21717137]]]])"
      ]
     },
     "execution_count": 18,
     "metadata": {},
     "output_type": "execute_result"
    }
   ],
   "source": [
    "bl.transform(data)[0].compute()"
   ]
  },
  {
   "cell_type": "markdown",
   "metadata": {},
   "source": [
    "This does not give a memory issue but for big data it crashes"
   ]
  },
  {
   "cell_type": "code",
   "execution_count": 2,
   "metadata": {},
   "outputs": [],
   "source": []
  },
  {
   "cell_type": "code",
   "execution_count": null,
   "metadata": {},
   "outputs": [],
   "source": []
  },
  {
   "cell_type": "code",
   "execution_count": null,
   "metadata": {},
   "outputs": [],
   "source": []
  },
  {
   "cell_type": "code",
   "execution_count": null,
   "metadata": {},
   "outputs": [],
   "source": []
  },
  {
   "cell_type": "code",
   "execution_count": null,
   "metadata": {},
   "outputs": [],
   "source": []
  },
  {
   "cell_type": "code",
   "execution_count": 3,
   "metadata": {},
   "outputs": [],
   "source": []
  },
  {
   "cell_type": "code",
   "execution_count": null,
   "metadata": {},
   "outputs": [],
   "source": []
  },
  {
   "cell_type": "code",
   "execution_count": null,
   "metadata": {},
   "outputs": [],
   "source": []
  },
  {
   "cell_type": "code",
   "execution_count": null,
   "metadata": {},
   "outputs": [],
   "source": []
  },
  {
   "cell_type": "code",
   "execution_count": null,
   "metadata": {},
   "outputs": [],
   "source": []
  },
  {
   "cell_type": "code",
   "execution_count": null,
   "metadata": {},
   "outputs": [],
   "source": []
  },
  {
   "cell_type": "code",
   "execution_count": null,
   "metadata": {},
   "outputs": [],
   "source": []
  },
  {
   "cell_type": "code",
   "execution_count": null,
   "metadata": {},
   "outputs": [],
   "source": []
  },
  {
   "cell_type": "code",
   "execution_count": null,
   "metadata": {},
   "outputs": [],
   "source": [
    "\n"
   ]
  },
  {
   "cell_type": "code",
   "execution_count": null,
   "metadata": {},
   "outputs": [],
   "source": []
  },
  {
   "cell_type": "code",
   "execution_count": null,
   "metadata": {},
   "outputs": [],
   "source": []
  }
 ],
 "metadata": {
  "kernelspec": {
   "display_name": "Python 3",
   "language": "python",
   "name": "python3"
  },
  "language_info": {
   "codemirror_mode": {
    "name": "ipython",
    "version": 3
   },
   "file_extension": ".py",
   "mimetype": "text/x-python",
   "name": "python",
   "nbconvert_exporter": "python",
   "pygments_lexer": "ipython3",
   "version": "3.7.6"
  }
 },
 "nbformat": 4,
 "nbformat_minor": 4
}
