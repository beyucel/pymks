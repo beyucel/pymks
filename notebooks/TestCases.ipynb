{
 "cells": [
  {
   "cell_type": "markdown",
   "metadata": {},
   "source": [
    "# Test - Cutoff 1 (4x4 and 5x5)"
   ]
  },
  {
   "cell_type": "code",
   "execution_count": 4,
   "metadata": {},
   "outputs": [
    {
     "ename": "SyntaxError",
     "evalue": "invalid syntax (func.py, line 2)",
     "output_type": "error",
     "traceback": [
      "Traceback \u001b[0;36m(most recent call last)\u001b[0m:\n",
      "  File \u001b[1;32m\"/nix/store/l82bgwgzhyc6sls20g9kf0r6as3i6zzs-python3.7-ipython-7.10.2/lib/python3.7/site-packages/IPython/core/interactiveshell.py\"\u001b[0m, line \u001b[1;32m3319\u001b[0m, in \u001b[1;35mrun_code\u001b[0m\n    exec(code_obj, self.user_global_ns, self.user_ns)\n",
      "  File \u001b[1;32m\"<ipython-input-4-ebd4dfcf73e6>\"\u001b[0m, line \u001b[1;32m2\u001b[0m, in \u001b[1;35m<module>\u001b[0m\n    from pymks.fmks.bases.primitive import PrimitiveTransformer\n",
      "\u001b[0;36m  File \u001b[0;32m\"/home/berkay/Projects/pymks/pymks/fmks/bases/primitive.py\"\u001b[0;36m, line \u001b[0;32m64\u001b[0;36m, in \u001b[0;35m<module>\u001b[0;36m\u001b[0m\n\u001b[0;31m    from ..func import curry\u001b[0m\n",
      "\u001b[0;36m  File \u001b[0;32m\"/home/berkay/Projects/pymks/pymks/fmks/func.py\"\u001b[0;36m, line \u001b[0;32m2\u001b[0m\n\u001b[0;31m    \"\"\"\u001b[0m\n\u001b[0m       \n^\u001b[0m\n\u001b[0;31mSyntaxError\u001b[0m\u001b[0;31m:\u001b[0m invalid syntax\n"
     ]
    }
   ],
   "source": [
    "from sklearn.pipeline import Pipeline\n",
    "from pymks.fmks.bases.primitive import PrimitiveTransformer\n",
    "from pymks.fmks.correlations import TwoPointcorrelation,auto_correlation\n",
    "import numpy as np"
   ]
  },
  {
   "cell_type": "code",
   "execution_count": null,
   "metadata": {},
   "outputs": [],
   "source": [
    "import dask.array as da"
   ]
  },
  {
   "cell_type": "code",
   "execution_count": null,
   "metadata": {},
   "outputs": [],
   "source": [
    "    >>> x_data1 = np.asarray([[[1, 1, 0 ,1],\n",
    "    ...                       [0, 0, 1 ,0],\n",
    "    ...                       [1, 1, 0 ,1],\n",
    "    ...                       [1, 1, 0 ,1]]])\n",
    "    >>> x_data2 = np.asarray([[[1, 1, 0 ,1 ,1],\n",
    "    ...                       [0, 0, 1 ,0 ,0],\n",
    "    ...                       [1, 1, 0 ,1 ,1],\n",
    "    ...                       [1, 1, 0 ,1 ,0],\n",
    "                              [1, 1, 1 ,1 ,0]]])\n",
    "    >>> x_data3 = np.asarray([[[1, 1, 0 ,1 ,1],\n",
    "    ...                       [0, 0, 1 ,0 ,0],\n",
    "    ...                       [1, 1, 0 ,1 ,1],\n",
    "    ...                       [1, 1, 0 ,1 ,0]]])\n",
    "    >>> x_data4 = np.asarray([[[1, 1, 0 ,1 ],\n",
    "    ...                       [0, 0, 1 ,0 ],\n",
    "    ...                       [1, 1, 0 ,1 ],\n",
    "    ...                       [1, 1, 0 ,1 ],\n",
    "                              [1, 1, 1 ,1 ]]])\n",
    "    >>> x_data5 = np.repeat(x_data4[:,:,:,np.newaxis],4,axis=3)\n",
    "    "
   ]
  },
  {
   "cell_type": "code",
   "execution_count": null,
   "metadata": {},
   "outputs": [],
   "source": [
    "    >>> x_data6 = np.asarray([[[1, 1, 0 ,1],\n",
    "    ...                       [0, 0, 1 ,0 ],\n",
    "    ...                       [1, 1, 0 ,1 ],\n",
    "    ...                       [1, 1, 0 ,1 ],\n",
    "                              [1, 1, 1 ,1 ]]])\n",
    "    print(x_data6.shape)"
   ]
  },
  {
   "cell_type": "code",
   "execution_count": null,
   "metadata": {},
   "outputs": [],
   "source": [
    "print(x_data1.shape)\n",
    "print(x_data2.shape)\n",
    "print(x_data3.shape)\n",
    "print(x_data4.shape)\n",
    "print(x_data5.shape)\n"
   ]
  },
  {
   "cell_type": "code",
   "execution_count": null,
   "metadata": {},
   "outputs": [],
   "source": [
    "x_data=np.asanyarray([np.random.rand(10,10)])"
   ]
  },
  {
   "cell_type": "code",
   "execution_count": null,
   "metadata": {},
   "outputs": [],
   "source": [
    "chunks = x_data.shape"
   ]
  },
  {
   "cell_type": "code",
   "execution_count": null,
   "metadata": {},
   "outputs": [],
   "source": [
    "x_data = da.from_array(x_data, chunks=chunks)"
   ]
  },
  {
   "cell_type": "code",
   "execution_count": null,
   "metadata": {},
   "outputs": [],
   "source": [
    "f_data = auto_correlation(x_data)"
   ]
  },
  {
   "cell_type": "code",
   "execution_count": null,
   "metadata": {},
   "outputs": [],
   "source": [
    "type(f_data.shape)"
   ]
  },
  {
   "cell_type": "code",
   "execution_count": null,
   "metadata": {},
   "outputs": [],
   "source": [
    "import matplotlib.pyplot as plt"
   ]
  },
  {
   "cell_type": "code",
   "execution_count": null,
   "metadata": {},
   "outputs": [],
   "source": [
    "plt.imshow(f_data[0])\n",
    "plt.colorbar()"
   ]
  },
  {
   "cell_type": "code",
   "execution_count": null,
   "metadata": {},
   "outputs": [],
   "source": []
  }
 ],
 "metadata": {
  "kernelspec": {
   "display_name": "Python 3",
   "language": "python",
   "name": "python3"
  },
  "language_info": {
   "codemirror_mode": {
    "name": "ipython",
    "version": 3
   },
   "file_extension": ".py",
   "mimetype": "text/x-python",
   "name": "python",
   "nbconvert_exporter": "python",
   "pygments_lexer": "ipython3",
   "version": "3.7.6"
  }
 },
 "nbformat": 4,
 "nbformat_minor": 2
}
