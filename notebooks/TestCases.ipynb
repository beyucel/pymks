{
 "cells": [
  {
   "cell_type": "markdown",
   "metadata": {},
   "source": [
    "# Test - Cutoff 1 (4x4 and 5x5)"
   ]
  },
  {
   "cell_type": "code",
   "execution_count": 1,
   "metadata": {},
   "outputs": [],
   "source": [
    "from sklearn.pipeline import Pipeline\n",
    "from pymks.fmks.bases.primitive import PrimitiveTransformer\n",
    "from pymks.fmks.correlations import TwoPointcorrelation,auto_correlation,correlations_multiple,center_slice,two_point_stats\n",
    "import numpy as np"
   ]
  },
  {
   "cell_type": "code",
   "execution_count": 2,
   "metadata": {},
   "outputs": [],
   "source": [
    "import dask.array as da"
   ]
  },
  {
   "cell_type": "code",
   "execution_count": 3,
   "metadata": {},
   "outputs": [],
   "source": [
    "    >>> x_data1 = np.asarray([[[1, 1, 0 ,1],\n",
    "    ...                       [0, 0, 1 ,0],\n",
    "    ...                       [1, 1, 0 ,1],\n",
    "    ...                       [1, 1, 0 ,1]]])\n",
    "    >>> x_data2 = np.asarray([[[1, 1, 0 ,1 ,1],\n",
    "    ...                       [0, 0, 1 ,0 ,0],\n",
    "    ...                       [1, 1, 0 ,1 ,1],\n",
    "    ...                       [1, 1, 0 ,1 ,0],\n",
    "                              [1, 1, 1 ,1 ,0]]])\n",
    "    >>> x_data3 = np.asarray([[[1, 1, 0 ,1 ,1],\n",
    "    ...                       [0, 0, 1 ,0 ,0],\n",
    "    ...                       [1, 1, 0 ,1 ,1],\n",
    "    ...                       [1, 1, 0 ,1 ,0]]])\n",
    "    >>> x_data4 = np.asarray([[[1, 1, 0 ,1 ],\n",
    "    ...                       [0, 0, 1 ,0 ],\n",
    "    ...                       [1, 1, 0 ,1 ],\n",
    "    ...                       [1, 1, 0 ,1 ],\n",
    "                              [1, 1, 1 ,1 ]]])\n",
    "    >>> x_data5 = np.repeat(x_data4[:,:,:,np.newaxis],4,axis=3)\n",
    "    "
   ]
  },
  {
   "cell_type": "code",
   "execution_count": 4,
   "metadata": {},
   "outputs": [
    {
     "name": "stdout",
     "output_type": "stream",
     "text": [
      "(1, 5, 4)\n"
     ]
    }
   ],
   "source": [
    "    >>> x_data6 = np.asarray([[[1, 1, 0 ,1],\n",
    "    ...                       [0, 0, 1 ,0 ],\n",
    "    ...                       [1, 1, 0 ,1 ],\n",
    "    ...                       [1, 1, 0 ,1 ],\n",
    "                              [1, 1, 1 ,1 ]]])\n",
    "    print(x_data6.shape)"
   ]
  },
  {
   "cell_type": "code",
   "execution_count": 5,
   "metadata": {},
   "outputs": [
    {
     "name": "stdout",
     "output_type": "stream",
     "text": [
      "(1, 4, 4)\n",
      "(1, 5, 5)\n",
      "(1, 4, 5)\n",
      "(1, 5, 4)\n",
      "(1, 5, 4, 4)\n"
     ]
    }
   ],
   "source": [
    "print(x_data1.shape)\n",
    "print(x_data2.shape)\n",
    "print(x_data3.shape)\n",
    "print(x_data4.shape)\n",
    "print(x_data5.shape)\n"
   ]
  },
  {
   "cell_type": "code",
   "execution_count": 6,
   "metadata": {},
   "outputs": [],
   "source": [
    "x_data=np.asanyarray([np.random.rand(10,10)])"
   ]
  },
  {
   "cell_type": "code",
   "execution_count": 7,
   "metadata": {},
   "outputs": [],
   "source": [
    "chunks = x_data.shape"
   ]
  },
  {
   "cell_type": "code",
   "execution_count": 8,
   "metadata": {},
   "outputs": [],
   "source": [
    "x_data = da.from_array(x_data, chunks=chunks)"
   ]
  },
  {
   "cell_type": "code",
   "execution_count": 9,
   "metadata": {},
   "outputs": [],
   "source": [
    "f_data = auto_correlation(x_data)"
   ]
  },
  {
   "cell_type": "code",
   "execution_count": 10,
   "metadata": {},
   "outputs": [
    {
     "data": {
      "text/plain": [
       "array([[0.20678155, 0.21624149, 0.20011817],\n",
       "       [0.22471161, 0.30434314, 0.22471161],\n",
       "       [0.20011817, 0.21624149, 0.20678155]])"
      ]
     },
     "execution_count": 10,
     "metadata": {},
     "output_type": "execute_result"
    }
   ],
   "source": [
    "center_slice(f_data,1)[0].compute()\n"
   ]
  },
  {
   "cell_type": "code",
   "execution_count": 11,
   "metadata": {},
   "outputs": [
    {
     "data": {
      "text/plain": [
       "<matplotlib.colorbar.Colorbar at 0x7fc705139bd0>"
      ]
     },
     "execution_count": 11,
     "metadata": {},
     "output_type": "execute_result"
    },
    {
     "data": {
      "image/png": "[encoded data removed]",
      "text/plain": [
       "<Figure size 432x288 with 2 Axes>"
      ]
     },
     "metadata": {
      "needs_background": "light"
     },
     "output_type": "display_data"
    }
   ],
   "source": [
    "import matplotlib.pyplot as plt\n",
    "plt.imshow(f_data[0])\n",
    "plt.colorbar()"
   ]
  },
  {
   "cell_type": "code",
   "execution_count": 21,
   "metadata": {},
   "outputs": [
    {
     "name": "stdout",
     "output_type": "stream",
     "text": [
      "dask.array<getitem, shape=(1, 4, 4), dtype=float64, chunksize=(1, 4, 4), chunktype=numpy.ndarray>\n"
     ]
    },
    {
     "data": {
      "text/plain": [
       "<matplotlib.colorbar.Colorbar at 0x7fc6f5d67710>"
      ]
     },
     "execution_count": 21,
     "metadata": {},
     "output_type": "execute_result"
    },
    {
     "data": {
      "image/png": "[encoded data removed]",
      "text/plain": [
       "<Figure size 432x288 with 2 Axes>"
      ]
     },
     "metadata": {
      "needs_background": "light"
     },
     "output_type": "display_data"
    }
   ],
   "source": [
    "stats=two_point_stats(x_data,x_data,cutoff=9)\n",
    "\n",
    "print(stats)\n",
    "plt.imshow(stats[0])\n",
    "plt.colorbar()\n"
   ]
  },
  {
   "cell_type": "code",
   "execution_count": 13,
   "metadata": {},
   "outputs": [
    {
     "name": "stdout",
     "output_type": "stream",
     "text": [
      "(1, 10, 10)\n"
     ]
    },
    {
     "data": {
      "text/plain": [
       "<matplotlib.colorbar.Colorbar at 0x7fc704f98c10>"
      ]
     },
     "execution_count": 13,
     "metadata": {},
     "output_type": "execute_result"
    },
    {
     "data": {
      "image/png": "[encoded data removed]",
      "text/plain": [
       "<Figure size 432x288 with 2 Axes>"
      ]
     },
     "metadata": {
      "needs_background": "light"
     },
     "output_type": "display_data"
    }
   ],
   "source": [
    "print(x_data.shape)\n",
    "conj=1-x_data\n",
    "arrays=[x_data,conj]\n",
    "data=np.stack(arrays,axis=3)\n",
    "stats=correlations_multiple(data,correlations=[[0,0]], cutoff=4)\n",
    "\n",
    "\n",
    "plt.imshow(stats[0,:,:,0])\n",
    "plt.colorbar()"
   ]
  },
  {
   "cell_type": "code",
   "execution_count": 14,
   "metadata": {},
   "outputs": [],
   "source": [
    "Sez=x_data1\n",
    "chunks2 = x_data1.shape\n",
    "x_data1 = da.from_array(x_data1, chunks=chunks2)"
   ]
  },
  {
   "cell_type": "code",
   "execution_count": 15,
   "metadata": {},
   "outputs": [],
   "source": [
    "import matplotlib.pyplot as plt\n",
    "stats=two_point_stats(x_data1,x_data1, cutoff=2)\n",
    "\n",
    "\n"
   ]
  },
  {
   "cell_type": "code",
   "execution_count": null,
   "metadata": {},
   "outputs": [],
   "source": []
  },
  {
   "cell_type": "code",
   "execution_count": 16,
   "metadata": {},
   "outputs": [
    {
     "name": "stdout",
     "output_type": "stream",
     "text": [
      "[[[0.375 0.375 0.375 0.375]\n",
      "  [0.375 0.375 0.375 0.375]\n",
      "  [0.375 0.375 0.625 0.375]\n",
      "  [0.375 0.375 0.375 0.375]]]\n"
     ]
    },
    {
     "data": {
      "text/plain": [
       "array([[[1, 1, 0, 1],\n",
       "        [0, 0, 1, 0],\n",
       "        [1, 1, 0, 1],\n",
       "        [1, 1, 0, 1]]])"
      ]
     },
     "execution_count": 16,
     "metadata": {},
     "output_type": "execute_result"
    }
   ],
   "source": [
    "print(stats.compute())\n",
    "Sez"
   ]
  },
  {
   "cell_type": "code",
   "execution_count": 17,
   "metadata": {},
   "outputs": [
    {
     "data": {
      "text/plain": [
       "array([[0.20678155, 0.21624149, 0.20011817],\n",
       "       [0.22471161, 0.30434314, 0.22471161],\n",
       "       [0.20011817, 0.21624149, 0.20678155]])"
      ]
     },
     "execution_count": 17,
     "metadata": {},
     "output_type": "execute_result"
    }
   ],
   "source": [
    "center_slice(f_data,1)[0].compute()"
   ]
  },
  {
   "cell_type": "code",
   "execution_count": 18,
   "metadata": {},
   "outputs": [
    {
     "data": {
      "text/plain": [
       "<matplotlib.colorbar.Colorbar at 0x7fc704e61c10>"
      ]
     },
     "execution_count": 18,
     "metadata": {},
     "output_type": "execute_result"
    },
    {
     "data": {
      "image/png": "[encoded data removed]",
      "text/plain": [
       "<Figure size 432x288 with 2 Axes>"
      ]
     },
     "metadata": {
      "needs_background": "light"
     },
     "output_type": "display_data"
    }
   ],
   "source": [
    "plt.imshow(f_data[0])\n",
    "plt.colorbar()"
   ]
  },
  {
   "cell_type": "code",
   "execution_count": 19,
   "metadata": {},
   "outputs": [
    {
     "data": {
      "text/plain": [
       "<function matplotlib.pyplot.colorbar(mappable=None, cax=None, ax=None, **kw)>"
      ]
     },
     "execution_count": 19,
     "metadata": {},
     "output_type": "execute_result"
    },
    {
     "data": {
      "image/png": "[encoded data removed]",
      "text/plain": [
       "<Figure size 432x288 with 1 Axes>"
      ]
     },
     "metadata": {
      "needs_background": "light"
     },
     "output_type": "display_data"
    }
   ],
   "source": [
    "plt.imshow(center_slice(f_data,2)[0])\n",
    "plt.colorbar"
   ]
  },
  {
   "cell_type": "code",
   "execution_count": 20,
   "metadata": {},
   "outputs": [
    {
     "name": "stdout",
     "output_type": "stream",
     "text": [
      "(1, 4, 4)\n"
     ]
    }
   ],
   "source": [
    "    >>> a = np.arange(16).reshape(1, 4, 4)\n",
    "    >>> print(center_slice(a, 2).shape)"
   ]
  },
  {
   "cell_type": "markdown",
   "metadata": {},
   "source": [
    "# Tasks\n",
    "* Odd check\n",
    "* Even Check\n",
    "* 1D Check\n",
    "* 2D Check\n",
    "* 3D Check "
   ]
  },
  {
   "cell_type": "code",
   "execution_count": null,
   "metadata": {},
   "outputs": [],
   "source": []
  }
 ],
 "metadata": {
  "kernelspec": {
   "display_name": "Python 3",
   "language": "python",
   "name": "python3"
  },
  "language_info": {
   "codemirror_mode": {
    "name": "ipython",
    "version": 3
   },
   "file_extension": ".py",
   "mimetype": "text/x-python",
   "name": "python",
   "nbconvert_exporter": "python",
   "pygments_lexer": "ipython3",
   "version": "3.7.6"
  }
 },
 "nbformat": 4,
 "nbformat_minor": 2
}
