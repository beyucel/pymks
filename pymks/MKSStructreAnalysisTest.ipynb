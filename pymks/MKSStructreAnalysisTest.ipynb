{
 "cells": [
  {
   "cell_type": "code",
   "execution_count": 1,
   "metadata": {},
   "outputs": [],
   "source": [
    "from pymks.mks_structure_analysis import *"
   ]
  },
  {
   "cell_type": "code",
   "execution_count": 2,
   "metadata": {},
   "outputs": [
    {
     "name": "stdout",
     "output_type": "stream",
     "text": [
      "[(0, 0), (0, 1)] [0 1]\n",
      "[[ 0.5 -0.5 -0.5]\n",
      " [ 0.5  0.5  0.5]\n",
      " [-0.5 -0.5  0.5]\n",
      " [-0.5  0.5 -0.5]]\n"
     ]
    }
   ],
   "source": [
    "    >>> from pymks.datasets import make_microstructure\n",
    "    >>> from pymks.bases import PrimitiveBasis\n",
    "    >>> from sklearn.decomposition import FastICA\n",
    "\n",
    "    >>> leg_basis = PrimitiveBasis(n_states=2, domain=[0, 1])\n",
    "    >>> reducer = FastICA(n_components=3)\n",
    "    >>> analyzer = MKSStructureAnalysis(basis=leg_basis, mean_center=False,\n",
    "    ...                                 dimension_reducer=reducer)\n",
    "\n",
    "    >>> X = make_microstructure(n_samples=4, size=(13, 13), grain_size=(3, 3))\n",
    "    >>> print(analyzer.fit_transform(X)) # doctest: +ELLIPSIS\n"
   ]
  },
  {
   "cell_type": "code",
   "execution_count": null,
   "metadata": {},
   "outputs": [],
   "source": []
  },
  {
   "cell_type": "code",
   "execution_count": 3,
   "metadata": {},
   "outputs": [
    {
     "name": "stdout",
     "output_type": "stream",
     "text": [
      "(0, 1)\n",
      "(0,)\n",
      "((0, 1, 0), (0, 1, 1))\n"
     ]
    }
   ],
   "source": [
    "    >>> from pymks import PrimitiveBasis\n",
    "    >>> prim_basis = PrimitiveBasis(2, [0, 1])\n",
    "    >>>\n",
    "    >>> np.random.seed(0)\n",
    "    >>> X = np.random.randint(2, size=(1, 3))\n",
    "    >>> X_corr = correlate(X, prim_basis)\n",
    "    >>> X_result = np.array([[0, 0.5, 0],\n",
    "    ...                      [1 / 3., 2 / 3., 0],\n",
    "    ...                      [0, 0.5, 0.5]])\n",
    "    >>> assert np.allclose(X_corr, X_result)"
   ]
  },
  {
   "cell_type": "code",
   "execution_count": 4,
   "metadata": {},
   "outputs": [
    {
     "data": {
      "text/plain": [
       "array([[0, 1, 1]])"
      ]
     },
     "execution_count": 4,
     "metadata": {},
     "output_type": "execute_result"
    }
   ],
   "source": [
    "X"
   ]
  },
  {
   "cell_type": "code",
   "execution_count": null,
   "metadata": {},
   "outputs": [],
   "source": []
  }
 ],
 "metadata": {
  "kernelspec": {
   "display_name": "Python 3",
   "language": "python",
   "name": "python3"
  },
  "language_info": {
   "codemirror_mode": {
    "name": "ipython",
    "version": 3
   },
   "file_extension": ".py",
   "mimetype": "text/x-python",
   "name": "python",
   "nbconvert_exporter": "python",
   "pygments_lexer": "ipython3",
   "version": "3.6.4"
  }
 },
 "nbformat": 4,
 "nbformat_minor": 2
}
