{
 "cells": [
  {
   "cell_type": "code",
   "execution_count": 2,
   "metadata": {},
   "outputs": [],
   "source": [
    "import numpy as np\n",
    ">>> x_data = np.array([[[1, 1, 0],\n",
    "...                     [1, 0 ,2],\n",
    "...                     [0, 1, 0]]])\n",
    ">>> assert(x_data.shape == (1, 3, 3))\n"
   ]
  },
  {
   "cell_type": "code",
   "execution_count": 3,
   "metadata": {},
   "outputs": [],
   "source": [
    ">>> x_test = np.array([[[[0, 1, 0],\n",
    "...                      [0, 1, 0],\n",
    "...                      [1, 0, 0]],\n",
    "...                     [[0, 1, 0],\n",
    "...                      [1, 0, 0],\n",
    "...                      [0, 0, 1]],\n",
    "...                     [[1, 0, 0],\n",
    "...                      [0, 1, 0],\n",
    "...                      [1, 0, 0]]]])"
   ]
  },
  {
   "cell_type": "code",
   "execution_count": 6,
   "metadata": {},
   "outputs": [
    {
     "data": {
      "text/plain": [
       "(1, 3, 3, 3)"
      ]
     },
     "execution_count": 6,
     "metadata": {},
     "output_type": "execute_result"
    }
   ],
   "source": [
    "x_test.shape"
   ]
  },
  {
   "cell_type": "code",
   "execution_count": null,
   "metadata": {},
   "outputs": [],
   "source": []
  }
 ],
 "metadata": {
  "kernelspec": {
   "display_name": "Python 3",
   "language": "python",
   "name": "python3"
  },
  "language_info": {
   "codemirror_mode": {
    "name": "ipython",
    "version": 3
   },
   "file_extension": ".py",
   "mimetype": "text/x-python",
   "name": "python",
   "nbconvert_exporter": "python",
   "pygments_lexer": "ipython3",
   "version": "3.6.4"
  }
 },
 "nbformat": 4,
 "nbformat_minor": 2
}
