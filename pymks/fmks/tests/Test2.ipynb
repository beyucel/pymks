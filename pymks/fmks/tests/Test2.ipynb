{
 "cells": [
  {
   "cell_type": "code",
   "execution_count": 17,
   "metadata": {},
   "outputs": [],
   "source": [
    "import numpy as np\n",
    "from sklearn.manifold import LocallyLinearEmbedding\n",
    "from sklearn.linear_model import BayesianRidge\n",
    "from pymks.bases import PrimitiveBasis\n"
   ]
  },
  {
   "cell_type": "code",
   "execution_count": 20,
   "metadata": {},
   "outputs": [],
   "source": [
    "## rewmove all this\n",
    "from sklearn.linear_model import LinearRegression\n",
    "from sklearn.preprocessing import PolynomialFeatures\n",
    "from sklearn.pipeline import Pipeline\n",
    "import numpy as np\n",
    "from pymks import MKSHomogenizationModel"
   ]
  },
  {
   "cell_type": "code",
   "execution_count": 21,
   "metadata": {},
   "outputs": [],
   "source": [
    "np.random.seed(1)\n",
    "X = np.random.randint(2, size=(50, 100))\n",
    "y = np.random.random(50)\n",
    "reducer = LocallyLinearEmbedding()\n",
    "linker = BayesianRidge()\n",
    "prim_basis = PrimitiveBasis(2, domain=[0, 1])"
   ]
  },
  {
   "cell_type": "code",
   "execution_count": 22,
   "metadata": {},
   "outputs": [
    {
     "name": "stdout",
     "output_type": "stream",
     "text": [
      "[(0, 0), (0, 1)] [0 1]\n"
     ]
    }
   ],
   "source": [
    "model = MKSHomogenizationModel(prim_basis, n_components=2,dimension_reducer=reducer,property_linker=linker)\n",
    "model.fit(X, y)\n",
    "X_test = np.random.randint(2, size=(1, 100))\n",
    "\n",
    "\n",
    "y_pred = model.predict(X_test)\n",
    "\n",
    "        #Predict with spatial correlations\n",
    "\n",
    "from pymks.stats import correlate\n",
    "model.compute_correlations = False\n",
    "X_corr = correlate(X, prim_basis, correlations=[(0, 0)])\n",
    "model.fit(X_corr, y)\n",
    "X_corr_test = correlate(X_test, prim_basis,correlations=[(0, 0)])\n",
    "y_pred_stats = model.predict(X_corr_test)\n",
    "assert np.allclose(y_pred_stats, y_pred, atol=1e-3)\n"
   ]
  },
  {
   "cell_type": "code",
   "execution_count": 26,
   "metadata": {},
   "outputs": [
    {
     "data": {
      "text/plain": [
       "(1,)"
      ]
     },
     "execution_count": 26,
     "metadata": {},
     "output_type": "execute_result"
    }
   ],
   "source": [
    "y_pred.shape"
   ]
  },
  {
   "cell_type": "code",
   "execution_count": 29,
   "metadata": {},
   "outputs": [
    {
     "data": {
      "text/plain": [
       "array([[1, 1, 0, ..., 1, 0, 1],\n",
       "       [1, 1, 1, ..., 1, 1, 0],\n",
       "       [0, 0, 0, ..., 0, 0, 1],\n",
       "       ...,\n",
       "       [0, 0, 1, ..., 0, 1, 1],\n",
       "       [0, 1, 0, ..., 0, 0, 1],\n",
       "       [0, 0, 0, ..., 0, 1, 0]])"
      ]
     },
     "execution_count": 29,
     "metadata": {},
     "output_type": "execute_result"
    }
   ],
   "source": [
    "X"
   ]
  },
  {
   "cell_type": "code",
   "execution_count": null,
   "metadata": {},
   "outputs": [],
   "source": []
  }
 ],
 "metadata": {
  "kernelspec": {
   "display_name": "Python 3",
   "language": "python",
   "name": "python3"
  },
  "language_info": {
   "codemirror_mode": {
    "name": "ipython",
    "version": 3
   },
   "file_extension": ".py",
   "mimetype": "text/x-python",
   "name": "python",
   "nbconvert_exporter": "python",
   "pygments_lexer": "ipython3",
   "version": "3.6.6"
  }
 },
 "nbformat": 4,
 "nbformat_minor": 2
}
