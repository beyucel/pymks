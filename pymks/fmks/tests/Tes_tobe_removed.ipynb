{
 "cells": [
  {
   "cell_type": "code",
   "execution_count": 1,
   "metadata": {},
   "outputs": [],
   "source": [
    "import numpy as np\n",
    "import dask.array as da\n",
    "from pymks.fmks.correlations import *\n",
    "from pymks.datasets import make_cahn_hilliard\n"
   ]
  },
  {
   "cell_type": "code",
   "execution_count": 5,
   "metadata": {},
   "outputs": [],
   "source": [
    "import numpy as np\n",
    "from pymks.fmks.bases.legendre import *\n",
    "from sklearn.pipeline import Pipeline\n"
   ]
  },
  {
   "cell_type": "code",
   "execution_count": 6,
   "metadata": {},
   "outputs": [],
   "source": [
    "n_states = 3\n",
    "domain = [-1, 1]\n",
    "from sklearn.decomposition import PCA\n",
    "from sklearn.linear_model import LogisticRegression\n",
    "reducer = PCA(n_components=3)\n",
    "linker = LogisticRegression()\n"
   ]
  },
  {
   "cell_type": "code",
   "execution_count": 10,
   "metadata": {},
   "outputs": [],
   "source": [
    "HomogenizationPipeline=Pipeline(steps=[\n",
    "    (\"discretize\",LegendreTransformer(n_state=3, min_=-1.0, max_=1.0) ),\n",
    "    ('Correlations',TwoPointcorrelation(boundary=\"periodic\", cutoff=10, correlations=[1,1])),\n",
    "    ('flatten', FlattenTransformer()),  \n",
    "    ('reducer',reducer),\n",
    "    ('connector',linker)\n",
    "])\n"
   ]
  },
  {
   "cell_type": "code",
   "execution_count": 11,
   "metadata": {},
   "outputs": [
    {
     "data": {
      "text/plain": [
       "(100,)"
      ]
     },
     "execution_count": 11,
     "metadata": {},
     "output_type": "execute_result"
    }
   ],
   "source": [
    "X0, X1 = make_cahn_hilliard(n_samples=50)\n",
    "y0 = np.zeros(X0.shape[0])\n",
    "y1 = np.ones(X1.shape[0])\n",
    "X = np.concatenate((X0, X1))\n",
    "y = np.concatenate((y0, y1))\n",
    "\n",
    "y.shape"
   ]
  },
  {
   "cell_type": "code",
   "execution_count": 12,
   "metadata": {},
   "outputs": [
    {
     "name": "stdout",
     "output_type": "stream",
     "text": [
      "(21, 21)\n",
      "[10 10]\n",
      "<class 'numpy.ndarray'>\n"
     ]
    },
    {
     "data": {
      "text/plain": [
       "Pipeline(memory=None,\n",
       "     steps=[('discretize', LegendreTransformer(chunks=None, max_=1.0, min_=-1.0, n_state=3)), ('Correlations', TwoPointcorrelation(boundary='periodic', correlations=None, cutoff=10)), ('flatten', FlattenTransformer()), ('reducer', PCA(copy=True, iterated_power='auto', n_components=3, random_state=None,\n",
       " ...ty='l2', random_state=None, solver='liblinear', tol=0.0001,\n",
       "          verbose=0, warm_start=False))])"
      ]
     },
     "execution_count": 12,
     "metadata": {},
     "output_type": "execute_result"
    }
   ],
   "source": [
    "HomogenizationPipeline.fit(X,y)"
   ]
  },
  {
   "cell_type": "code",
   "execution_count": 13,
   "metadata": {},
   "outputs": [],
   "source": [
    "X0_test, X1_test = make_cahn_hilliard(n_samples=3)\n"
   ]
  },
  {
   "cell_type": "code",
   "execution_count": 14,
   "metadata": {},
   "outputs": [
    {
     "name": "stdout",
     "output_type": "stream",
     "text": [
      "(21, 21)\n",
      "[10 10]\n",
      "<class 'numpy.ndarray'>\n",
      "(21, 21)\n",
      "[10 10]\n",
      "<class 'numpy.ndarray'>\n",
      "[1. 1. 1.]\n",
      "[0. 0. 0.]\n"
     ]
    }
   ],
   "source": [
    "y1_test = HomogenizationPipeline.predict(X1_test)\n",
    "y0_test = HomogenizationPipeline.predict(X0_test)\n",
    "print(y1_test)\n",
    "print(y0_test)"
   ]
  },
  {
   "cell_type": "code",
   "execution_count": 305,
   "metadata": {},
   "outputs": [
    {
     "data": {
      "text/plain": [
       "(100, 21, 21, 3)"
      ]
     },
     "execution_count": 305,
     "metadata": {},
     "output_type": "execute_result"
    }
   ],
   "source": [
    "Xn=LegendreTransformer(n_state=3, min_=-1.0, max_=1.0).transform(X)\n",
    "Xn.shape\n"
   ]
  },
  {
   "cell_type": "code",
   "execution_count": null,
   "metadata": {},
   "outputs": [],
   "source": []
  },
  {
   "cell_type": "code",
   "execution_count": 306,
   "metadata": {},
   "outputs": [
    {
     "data": {
      "text/plain": [
       "(100, 21, 21)"
      ]
     },
     "execution_count": 306,
     "metadata": {},
     "output_type": "execute_result"
    }
   ],
   "source": [
    "Xn=TwoPointcorrelation(boundary=\"periodic\", cutoff=None, correlations=[1,1]).transform(Xn)\n",
    "Xn.shape"
   ]
  },
  {
   "cell_type": "code",
   "execution_count": null,
   "metadata": {},
   "outputs": [],
   "source": []
  },
  {
   "cell_type": "code",
   "execution_count": 307,
   "metadata": {},
   "outputs": [
    {
     "data": {
      "text/plain": [
       "(100, 441)"
      ]
     },
     "execution_count": 307,
     "metadata": {},
     "output_type": "execute_result"
    }
   ],
   "source": [
    "Xn3=FlattenTransformer().transform(Xn)\n",
    "Xn3.shape"
   ]
  },
  {
   "cell_type": "code",
   "execution_count": 308,
   "metadata": {},
   "outputs": [],
   "source": [
    "Xn4=reducer.fit_transform(Xn3)\n"
   ]
  },
  {
   "cell_type": "code",
   "execution_count": 309,
   "metadata": {},
   "outputs": [],
   "source": [
    "mm=linker.fit(Xn4,y)"
   ]
  },
  {
   "cell_type": "code",
   "execution_count": 310,
   "metadata": {},
   "outputs": [],
   "source": [
    "X0_test, X1_test = make_cahn_hilliard(n_samples=3)\n"
   ]
  },
  {
   "cell_type": "code",
   "execution_count": 311,
   "metadata": {},
   "outputs": [
    {
     "data": {
      "text/plain": [
       "(3, 21, 21, 3)"
      ]
     },
     "execution_count": 311,
     "metadata": {},
     "output_type": "execute_result"
    }
   ],
   "source": [
    "X0_test=LegendreTransformer(n_state=3, min_=-1.0, max_=1.0).transform(X0_test)\n",
    "X0_test.shape"
   ]
  },
  {
   "cell_type": "code",
   "execution_count": 312,
   "metadata": {},
   "outputs": [],
   "source": [
    "X0_test=TwoPointcorrelation(boundary=\"periodic\", cutoff=42, correlations=[1,1]).transform(X0_test)"
   ]
  },
  {
   "cell_type": "code",
   "execution_count": 313,
   "metadata": {},
   "outputs": [
    {
     "data": {
      "text/plain": [
       "(3, 21, 21)"
      ]
     },
     "execution_count": 313,
     "metadata": {},
     "output_type": "execute_result"
    }
   ],
   "source": [
    "X0_test.shape"
   ]
  },
  {
   "cell_type": "code",
   "execution_count": 314,
   "metadata": {},
   "outputs": [
    {
     "data": {
      "text/plain": [
       "array([[[-4.44633777e-02,  1.85612981e-02,  1.14788446e-02, ...,\n",
       "         -4.09794473e-02, -1.31280829e-02, -1.81747210e-02],\n",
       "        [-5.10342059e-02,  2.82880898e-03, -9.43960334e-03, ...,\n",
       "          3.51803262e-02, -5.49298493e-03,  5.87344510e-02],\n",
       "        [-3.71436212e-03,  2.65434562e-02, -3.62102060e-02, ...,\n",
       "          1.26140200e-02, -2.44926588e-02,  1.22358841e-02],\n",
       "        ...,\n",
       "        [ 1.22358841e-02, -2.44926588e-02,  1.26140200e-02, ...,\n",
       "         -3.62102060e-02,  2.65434562e-02, -3.71436212e-03],\n",
       "        [ 5.87344510e-02, -5.49298493e-03,  3.51803262e-02, ...,\n",
       "         -9.43960334e-03,  2.82880898e-03, -5.10342059e-02],\n",
       "        [-1.81747210e-02, -1.31280829e-02, -4.09794473e-02, ...,\n",
       "          1.14788446e-02,  1.85612981e-02, -4.44633777e-02]],\n",
       "\n",
       "       [[ 3.12790677e-02,  2.45743862e-02,  1.10686115e-02, ...,\n",
       "         -2.85505343e-02, -7.14115324e-03, -4.66923696e-02],\n",
       "        [-2.77342311e-04,  1.31033506e-02,  4.42521807e-02, ...,\n",
       "         -1.93181412e-02,  7.12810914e-02,  3.55062055e-02],\n",
       "        [ 2.57910443e-02,  4.84574087e-02, -2.01244597e-02, ...,\n",
       "         -1.61066754e-02, -3.39093680e-02,  1.46929922e-02],\n",
       "        ...,\n",
       "        [ 1.46929922e-02, -3.39093680e-02, -1.61066754e-02, ...,\n",
       "         -2.01244597e-02,  4.84574087e-02,  2.57910443e-02],\n",
       "        [ 3.55062055e-02,  7.12810914e-02, -1.93181412e-02, ...,\n",
       "          4.42521807e-02,  1.31033506e-02, -2.77342311e-04],\n",
       "        [-4.66923696e-02, -7.14115324e-03, -2.85505343e-02, ...,\n",
       "          1.10686115e-02,  2.45743862e-02,  3.12790677e-02]],\n",
       "\n",
       "       [[-2.52051603e-02,  5.51850270e-02, -6.60409766e-02, ...,\n",
       "         -1.28390820e-02, -6.29182956e-02, -2.19715691e-02],\n",
       "        [ 6.85901950e-02,  6.58691976e-03,  5.62677104e-05, ...,\n",
       "         -4.46797631e-02, -1.91079647e-02,  5.31530159e-02],\n",
       "        [-5.33649303e-02, -4.75587012e-03, -4.45189507e-02, ...,\n",
       "          5.03078671e-02, -3.58877777e-02, -1.68738566e-02],\n",
       "        ...,\n",
       "        [-1.68738566e-02, -3.58877777e-02,  5.03078671e-02, ...,\n",
       "         -4.45189507e-02, -4.75587012e-03, -5.33649303e-02],\n",
       "        [ 5.31530159e-02, -1.91079647e-02, -4.46797631e-02, ...,\n",
       "          5.62677104e-05,  6.58691976e-03,  6.85901950e-02],\n",
       "        [-2.19715691e-02, -6.29182956e-02, -1.28390820e-02, ...,\n",
       "         -6.60409766e-02,  5.51850270e-02, -2.52051603e-02]]])"
      ]
     },
     "execution_count": 314,
     "metadata": {},
     "output_type": "execute_result"
    }
   ],
   "source": [
    "X0_test"
   ]
  },
  {
   "cell_type": "code",
   "execution_count": 315,
   "metadata": {},
   "outputs": [],
   "source": [
    "X0_test, X1_test = make_cahn_hilliard(n_samples=3)\n"
   ]
  },
  {
   "cell_type": "code",
   "execution_count": 316,
   "metadata": {},
   "outputs": [
    {
     "data": {
      "text/plain": [
       "(3, 21, 21)"
      ]
     },
     "execution_count": 316,
     "metadata": {},
     "output_type": "execute_result"
    }
   ],
   "source": [
    "X0_test.shape"
   ]
  },
  {
   "cell_type": "code",
   "execution_count": 317,
   "metadata": {
    "scrolled": true
   },
   "outputs": [],
   "source": [
    "y0_test = HomogenizationPipeline.predict(X0_test)"
   ]
  },
  {
   "cell_type": "code",
   "execution_count": 318,
   "metadata": {},
   "outputs": [],
   "source": [
    "from pymks.fmks.bases.legendre import *"
   ]
  },
  {
   "cell_type": "code",
   "execution_count": 319,
   "metadata": {},
   "outputs": [],
   "source": [
    "aaa=LegendreTransformer(n_state=2, min_=-1.0, max_=1.0).transform(X)"
   ]
  },
  {
   "cell_type": "code",
   "execution_count": null,
   "metadata": {},
   "outputs": [],
   "source": []
  },
  {
   "cell_type": "code",
   "execution_count": 320,
   "metadata": {},
   "outputs": [
    {
     "data": {
      "text/plain": [
       "array([0., 0., 0.])"
      ]
     },
     "execution_count": 320,
     "metadata": {},
     "output_type": "execute_result"
    }
   ],
   "source": [
    "y0_test"
   ]
  },
  {
   "cell_type": "code",
   "execution_count": 321,
   "metadata": {},
   "outputs": [],
   "source": [
    "y1_test = HomogenizationPipeline.predict(X1_test)"
   ]
  },
  {
   "cell_type": "code",
   "execution_count": 322,
   "metadata": {},
   "outputs": [
    {
     "data": {
      "text/plain": [
       "array([1., 1., 1.])"
      ]
     },
     "execution_count": 322,
     "metadata": {},
     "output_type": "execute_result"
    }
   ],
   "source": [
    "y1_test"
   ]
  },
  {
   "cell_type": "code",
   "execution_count": null,
   "metadata": {},
   "outputs": [],
   "source": []
  },
  {
   "cell_type": "code",
   "execution_count": null,
   "metadata": {},
   "outputs": [],
   "source": []
  },
  {
   "cell_type": "code",
   "execution_count": null,
   "metadata": {},
   "outputs": [],
   "source": []
  }
 ],
 "metadata": {
  "kernelspec": {
   "display_name": "Python 3",
   "language": "python",
   "name": "python3"
  },
  "language_info": {
   "codemirror_mode": {
    "name": "ipython",
    "version": 3
   },
   "file_extension": ".py",
   "mimetype": "text/x-python",
   "name": "python",
   "nbconvert_exporter": "python",
   "pygments_lexer": "ipython3",
   "version": "3.6.6"
  }
 },
 "nbformat": 4,
 "nbformat_minor": 2
}
