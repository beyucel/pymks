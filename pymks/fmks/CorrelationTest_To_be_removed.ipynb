{
 "cells": [
  {
   "cell_type": "code",
   "execution_count": 1,
   "metadata": {},
   "outputs": [],
   "source": [
    "from pymks.fmks.correlations import *"
   ]
  },
  {
   "cell_type": "code",
   "execution_count": 2,
   "metadata": {},
   "outputs": [
    {
     "name": "stdout",
     "output_type": "stream",
     "text": [
      "((2, 2, 2, 1), (5,), (5,))\n"
     ]
    }
   ],
   "source": [
    "    >>> import dask.array as da\n",
    "    >>> x_data = np.asarray([[[1, 1, 0],\n",
    "    ...                       [0, 0, 1],\n",
    "    ...                       [1, 1, 0]]])\n",
    "    >>> chunks = x_data.shape\n",
    "    >>> x_data = da.from_array(x_data, chunks=chunks)\n",
    "    >>> f_data = auto_correlation(x_data)\n",
    "    >>> gg = [[[3/9, 2/9, 3/9],\n",
    "    ...        [2/9, 5/9, 2/9],\n",
    "    ...        [3/9, 2/9, 3/9]]]\n",
    "    >>> assert np.allclose(f_data.compute(), gg)\n",
    "    >>> shape = (7, 5, 5)\n",
    "    >>> chunks = (2, 5, 5)\n",
    "    >>> da.random.seed(42)\n",
    "    >>> x_data = da.random.random(shape, chunks=chunks)\n",
    "    >>> f_data = auto_correlation(x_data)\n",
    "    >>> assert x_data.chunks == f_data.chunks\n",
    "    >>> print(f_data.chunks)"
   ]
  },
  {
   "cell_type": "code",
   "execution_count": 3,
   "metadata": {},
   "outputs": [],
   "source": [
    "Micr=np.random.rand(100,100)"
   ]
  },
  {
   "cell_type": "code",
   "execution_count": 4,
   "metadata": {},
   "outputs": [],
   "source": [
    "from pymks.fmks.bases.primitive import *"
   ]
  },
  {
   "cell_type": "code",
   "execution_count": 5,
   "metadata": {},
   "outputs": [],
   "source": [
    "a=PrimitiveTransformer().fit().transform(Micr)"
   ]
  },
  {
   "cell_type": "code",
   "execution_count": 6,
   "metadata": {},
   "outputs": [],
   "source": [
    "Micr[Micr<=0.5]=0\n",
    "Micr[Micr>0.5]=1"
   ]
  },
  {
   "cell_type": "markdown",
   "metadata": {},
   "source": [
    "How happend"
   ]
  },
  {
   "cell_type": "code",
   "execution_count": 7,
   "metadata": {},
   "outputs": [],
   "source": [
    "import matplotlib.pyplot as plt"
   ]
  },
  {
   "cell_type": "code",
   "execution_count": 8,
   "metadata": {},
   "outputs": [
    {
     "data": {
      "text/plain": [
       "<matplotlib.image.AxesImage at 0x7f6b1af63ba8>"
      ]
     },
     "execution_count": 8,
     "metadata": {},
     "output_type": "execute_result"
    },
    {
     "data": {
      "image/png": "[encoded data removed]",
      "text/plain": [
       "<Figure size 432x288 with 1 Axes>"
      ]
     },
     "metadata": {},
     "output_type": "display_data"
    }
   ],
   "source": [
    "plt.imshow(Micr)"
   ]
  },
  {
   "cell_type": "code",
   "execution_count": 9,
   "metadata": {},
   "outputs": [],
   "source": [
    "NewMic=np.expand_dims(Micr,2)\n",
    "NewMic=np.expand_dims(NewMic,0)"
   ]
  },
  {
   "cell_type": "code",
   "execution_count": 10,
   "metadata": {},
   "outputs": [],
   "source": [
    "twopoint=TwoPointcorrelation(boundary=\"periodic\", cutoff=15, correlations=[0,0]).transform(NewMic)"
   ]
  },
  {
   "cell_type": "code",
   "execution_count": 11,
   "metadata": {},
   "outputs": [
    {
     "data": {
      "text/plain": [
       "<matplotlib.image.AxesImage at 0x7f6b1ae79d30>"
      ]
     },
     "execution_count": 11,
     "metadata": {},
     "output_type": "execute_result"
    },
    {
     "data": {
      "image/png": "[encoded data removed]",
      "text/plain": [
       "<Figure size 432x288 with 1 Axes>"
      ]
     },
     "metadata": {},
     "output_type": "display_data"
    }
   ],
   "source": [
    "plt.imshow(twopoint[0])"
   ]
  },
  {
   "cell_type": "code",
   "execution_count": 12,
   "metadata": {},
   "outputs": [
    {
     "data": {
      "text/plain": [
       "(1, 31, 31)"
      ]
     },
     "execution_count": 12,
     "metadata": {},
     "output_type": "execute_result"
    }
   ],
   "source": [
    "twopoint.shape"
   ]
  },
  {
   "cell_type": "code",
   "execution_count": 13,
   "metadata": {},
   "outputs": [
    {
     "data": {
      "text/plain": [
       "array([[[[1.],\n",
       "         [1.],\n",
       "         [1.],\n",
       "         ...,\n",
       "         [0.],\n",
       "         [0.],\n",
       "         [1.]],\n",
       "\n",
       "        [[1.],\n",
       "         [1.],\n",
       "         [1.],\n",
       "         ...,\n",
       "         [0.],\n",
       "         [0.],\n",
       "         [0.]],\n",
       "\n",
       "        [[0.],\n",
       "         [0.],\n",
       "         [0.],\n",
       "         ...,\n",
       "         [1.],\n",
       "         [1.],\n",
       "         [1.]],\n",
       "\n",
       "        ...,\n",
       "\n",
       "        [[0.],\n",
       "         [1.],\n",
       "         [1.],\n",
       "         ...,\n",
       "         [1.],\n",
       "         [1.],\n",
       "         [1.]],\n",
       "\n",
       "        [[0.],\n",
       "         [0.],\n",
       "         [0.],\n",
       "         ...,\n",
       "         [1.],\n",
       "         [0.],\n",
       "         [0.]],\n",
       "\n",
       "        [[0.],\n",
       "         [0.],\n",
       "         [1.],\n",
       "         ...,\n",
       "         [0.],\n",
       "         [0.],\n",
       "         [0.]]]])"
      ]
     },
     "execution_count": 13,
     "metadata": {},
     "output_type": "execute_result"
    }
   ],
   "source": [
    "NewMic"
   ]
  },
  {
   "cell_type": "code",
   "execution_count": 14,
   "metadata": {},
   "outputs": [
    {
     "data": {
      "text/plain": [
       "(21, 21)"
      ]
     },
     "execution_count": 14,
     "metadata": {},
     "output_type": "execute_result"
    }
   ],
   "source": [
    "return_slice(NewMic[0,:,:,0],10).shape"
   ]
  },
  {
   "cell_type": "code",
   "execution_count": 15,
   "metadata": {},
   "outputs": [
    {
     "data": {
      "text/plain": [
       "array([[[0.2533, 0.2573, 0.2571, 0.2563, 0.2578, 0.2584, 0.2604, 0.2618,\n",
       "         0.2596, 0.2569, 0.2567, 0.2579, 0.2541, 0.2585, 0.2502, 0.2575,\n",
       "         0.2584, 0.2604, 0.2593, 0.2574, 0.2572, 0.2592, 0.257 , 0.2577,\n",
       "         0.2558, 0.2634, 0.2575, 0.2559, 0.2599, 0.2575, 0.259 ],\n",
       "        [0.2499, 0.2564, 0.2605, 0.2575, 0.254 , 0.2583, 0.259 , 0.2532,\n",
       "         0.2577, 0.2594, 0.2544, 0.258 , 0.2575, 0.2585, 0.2628, 0.2563,\n",
       "         0.2589, 0.2604, 0.2657, 0.2595, 0.2562, 0.2552, 0.2586, 0.2586,\n",
       "         0.2575, 0.2588, 0.2565, 0.2585, 0.2591, 0.2611, 0.2638],\n",
       "        [0.261 , 0.2597, 0.2554, 0.258 , 0.2591, 0.2581, 0.2618, 0.2578,\n",
       "         0.2525, 0.2547, 0.2571, 0.2566, 0.2536, 0.2587, 0.255 , 0.2561,\n",
       "         0.256 , 0.2559, 0.2555, 0.2585, 0.2531, 0.2575, 0.2567, 0.258 ,\n",
       "         0.26  , 0.2591, 0.2598, 0.2608, 0.2593, 0.2578, 0.2598],\n",
       "        [0.2599, 0.2614, 0.2588, 0.2588, 0.2598, 0.2555, 0.2589, 0.2613,\n",
       "         0.2581, 0.2545, 0.2586, 0.2564, 0.2612, 0.2561, 0.2597, 0.2604,\n",
       "         0.2598, 0.257 , 0.2614, 0.2564, 0.2555, 0.2574, 0.2578, 0.2604,\n",
       "         0.253 , 0.2602, 0.2564, 0.2585, 0.258 , 0.2612, 0.2566],\n",
       "        [0.255 , 0.258 , 0.2606, 0.263 , 0.2569, 0.2584, 0.2631, 0.2595,\n",
       "         0.2587, 0.2566, 0.2566, 0.2576, 0.2546, 0.2589, 0.2562, 0.2552,\n",
       "         0.2588, 0.2565, 0.2569, 0.2572, 0.2568, 0.2562, 0.2542, 0.2577,\n",
       "         0.2568, 0.2582, 0.2607, 0.2565, 0.2617, 0.2595, 0.2549],\n",
       "        [0.2587, 0.258 , 0.2567, 0.2593, 0.2534, 0.2547, 0.2602, 0.2593,\n",
       "         0.2557, 0.2573, 0.2588, 0.2547, 0.2567, 0.2611, 0.2566, 0.2616,\n",
       "         0.2598, 0.2546, 0.2581, 0.2553, 0.2584, 0.2582, 0.2563, 0.2536,\n",
       "         0.26  , 0.26  , 0.257 , 0.259 , 0.2586, 0.256 , 0.2564],\n",
       "        [0.2616, 0.2552, 0.2557, 0.26  , 0.2613, 0.2654, 0.2587, 0.2601,\n",
       "         0.2551, 0.2552, 0.258 , 0.2612, 0.2573, 0.2538, 0.255 , 0.2561,\n",
       "         0.2591, 0.256 , 0.2563, 0.2571, 0.255 , 0.2595, 0.2601, 0.2563,\n",
       "         0.2583, 0.2592, 0.2582, 0.2554, 0.2574, 0.2601, 0.2561],\n",
       "        [0.2583, 0.2553, 0.2584, 0.2557, 0.2609, 0.2592, 0.2569, 0.2576,\n",
       "         0.2597, 0.2555, 0.2571, 0.2614, 0.2588, 0.259 , 0.2609, 0.26  ,\n",
       "         0.2567, 0.2601, 0.2611, 0.2583, 0.2547, 0.2534, 0.2536, 0.2589,\n",
       "         0.2543, 0.2591, 0.2527, 0.259 , 0.2563, 0.2639, 0.2545],\n",
       "        [0.2531, 0.2607, 0.257 , 0.262 , 0.2591, 0.2608, 0.2611, 0.2618,\n",
       "         0.2604, 0.2583, 0.2607, 0.2591, 0.2567, 0.2513, 0.2537, 0.253 ,\n",
       "         0.2597, 0.2549, 0.2531, 0.2572, 0.2557, 0.2602, 0.2576, 0.2552,\n",
       "         0.2599, 0.2607, 0.26  , 0.2547, 0.2598, 0.2586, 0.2597],\n",
       "        [0.2569, 0.2563, 0.2541, 0.2556, 0.2516, 0.2583, 0.2582, 0.2597,\n",
       "         0.2571, 0.2578, 0.2543, 0.2575, 0.2595, 0.2575, 0.2567, 0.2598,\n",
       "         0.2552, 0.2595, 0.2608, 0.2585, 0.2568, 0.2566, 0.2569, 0.2523,\n",
       "         0.2526, 0.2532, 0.258 , 0.2556, 0.258 , 0.2587, 0.2616],\n",
       "        [0.2578, 0.2572, 0.2532, 0.2545, 0.2562, 0.2598, 0.2557, 0.2589,\n",
       "         0.2542, 0.2585, 0.2566, 0.2594, 0.2586, 0.2577, 0.2595, 0.258 ,\n",
       "         0.2612, 0.2591, 0.256 , 0.2548, 0.2553, 0.258 , 0.2572, 0.2595,\n",
       "         0.2568, 0.2584, 0.2568, 0.259 , 0.2598, 0.2586, 0.258 ],\n",
       "        [0.2552, 0.2546, 0.2537, 0.2543, 0.2566, 0.2553, 0.2579, 0.2541,\n",
       "         0.2568, 0.256 , 0.2579, 0.2532, 0.2572, 0.2577, 0.2605, 0.2603,\n",
       "         0.2577, 0.2598, 0.2553, 0.2588, 0.2586, 0.2532, 0.2577, 0.2565,\n",
       "         0.2571, 0.255 , 0.2573, 0.2559, 0.2561, 0.2604, 0.2583],\n",
       "        [0.2575, 0.2623, 0.2578, 0.2636, 0.2589, 0.2559, 0.2574, 0.2618,\n",
       "         0.2623, 0.2528, 0.2552, 0.2576, 0.2581, 0.2546, 0.2548, 0.2578,\n",
       "         0.2564, 0.2538, 0.2523, 0.2587, 0.2555, 0.2595, 0.2576, 0.2574,\n",
       "         0.2587, 0.2596, 0.2578, 0.2574, 0.2568, 0.2535, 0.2608],\n",
       "        [0.2558, 0.2558, 0.2579, 0.2578, 0.2574, 0.2572, 0.2547, 0.2524,\n",
       "         0.2591, 0.2592, 0.2592, 0.2573, 0.2572, 0.2582, 0.2595, 0.2607,\n",
       "         0.2601, 0.2599, 0.2567, 0.2584, 0.2574, 0.2555, 0.2577, 0.2514,\n",
       "         0.2587, 0.2573, 0.2535, 0.2626, 0.2571, 0.2554, 0.2565],\n",
       "        [0.2602, 0.2563, 0.2573, 0.2598, 0.2578, 0.2559, 0.2565, 0.2574,\n",
       "         0.2569, 0.2598, 0.2572, 0.2596, 0.2535, 0.2626, 0.2601, 0.2567,\n",
       "         0.259 , 0.2595, 0.2577, 0.2562, 0.2606, 0.2566, 0.2582, 0.2629,\n",
       "         0.2569, 0.2589, 0.2626, 0.2568, 0.2582, 0.2576, 0.2571],\n",
       "        [0.2571, 0.2585, 0.2602, 0.2576, 0.2602, 0.2589, 0.2565, 0.2569,\n",
       "         0.2581, 0.257 , 0.2594, 0.2581, 0.2577, 0.2618, 0.2602, 0.5075,\n",
       "         0.2602, 0.2618, 0.2577, 0.2581, 0.2594, 0.257 , 0.2581, 0.2569,\n",
       "         0.2565, 0.2589, 0.2602, 0.2576, 0.2602, 0.2585, 0.2571],\n",
       "        [0.2571, 0.2576, 0.2582, 0.2568, 0.2626, 0.2589, 0.2569, 0.2629,\n",
       "         0.2582, 0.2566, 0.2606, 0.2562, 0.2577, 0.2595, 0.259 , 0.2567,\n",
       "         0.2601, 0.2626, 0.2535, 0.2596, 0.2572, 0.2598, 0.2569, 0.2574,\n",
       "         0.2565, 0.2559, 0.2578, 0.2598, 0.2573, 0.2563, 0.2602],\n",
       "        [0.2565, 0.2554, 0.2571, 0.2626, 0.2535, 0.2573, 0.2587, 0.2514,\n",
       "         0.2577, 0.2555, 0.2574, 0.2584, 0.2567, 0.2599, 0.2601, 0.2607,\n",
       "         0.2595, 0.2582, 0.2572, 0.2573, 0.2592, 0.2592, 0.2591, 0.2524,\n",
       "         0.2547, 0.2572, 0.2574, 0.2578, 0.2579, 0.2558, 0.2558],\n",
       "        [0.2608, 0.2535, 0.2568, 0.2574, 0.2578, 0.2596, 0.2587, 0.2574,\n",
       "         0.2576, 0.2595, 0.2555, 0.2587, 0.2523, 0.2538, 0.2564, 0.2578,\n",
       "         0.2548, 0.2546, 0.2581, 0.2576, 0.2552, 0.2528, 0.2623, 0.2618,\n",
       "         0.2574, 0.2559, 0.2589, 0.2636, 0.2578, 0.2623, 0.2575],\n",
       "        [0.2583, 0.2604, 0.2561, 0.2559, 0.2573, 0.255 , 0.2571, 0.2565,\n",
       "         0.2577, 0.2532, 0.2586, 0.2588, 0.2553, 0.2598, 0.2577, 0.2603,\n",
       "         0.2605, 0.2577, 0.2572, 0.2532, 0.2579, 0.256 , 0.2568, 0.2541,\n",
       "         0.2579, 0.2553, 0.2566, 0.2543, 0.2537, 0.2546, 0.2552],\n",
       "        [0.258 , 0.2586, 0.2598, 0.259 , 0.2568, 0.2584, 0.2568, 0.2595,\n",
       "         0.2572, 0.258 , 0.2553, 0.2548, 0.256 , 0.2591, 0.2612, 0.258 ,\n",
       "         0.2595, 0.2577, 0.2586, 0.2594, 0.2566, 0.2585, 0.2542, 0.2589,\n",
       "         0.2557, 0.2598, 0.2562, 0.2545, 0.2532, 0.2572, 0.2578],\n",
       "        [0.2616, 0.2587, 0.258 , 0.2556, 0.258 , 0.2532, 0.2526, 0.2523,\n",
       "         0.2569, 0.2566, 0.2568, 0.2585, 0.2608, 0.2595, 0.2552, 0.2598,\n",
       "         0.2567, 0.2575, 0.2595, 0.2575, 0.2543, 0.2578, 0.2571, 0.2597,\n",
       "         0.2582, 0.2583, 0.2516, 0.2556, 0.2541, 0.2563, 0.2569],\n",
       "        [0.2597, 0.2586, 0.2598, 0.2547, 0.26  , 0.2607, 0.2599, 0.2552,\n",
       "         0.2576, 0.2602, 0.2557, 0.2572, 0.2531, 0.2549, 0.2597, 0.253 ,\n",
       "         0.2537, 0.2513, 0.2567, 0.2591, 0.2607, 0.2583, 0.2604, 0.2618,\n",
       "         0.2611, 0.2608, 0.2591, 0.262 , 0.257 , 0.2607, 0.2531],\n",
       "        [0.2545, 0.2639, 0.2563, 0.259 , 0.2527, 0.2591, 0.2543, 0.2589,\n",
       "         0.2536, 0.2534, 0.2547, 0.2583, 0.2611, 0.2601, 0.2567, 0.26  ,\n",
       "         0.2609, 0.259 , 0.2588, 0.2614, 0.2571, 0.2555, 0.2597, 0.2576,\n",
       "         0.2569, 0.2592, 0.2609, 0.2557, 0.2584, 0.2553, 0.2583],\n",
       "        [0.2561, 0.2601, 0.2574, 0.2554, 0.2582, 0.2592, 0.2583, 0.2563,\n",
       "         0.2601, 0.2595, 0.255 , 0.2571, 0.2563, 0.256 , 0.2591, 0.2561,\n",
       "         0.255 , 0.2538, 0.2573, 0.2612, 0.258 , 0.2552, 0.2551, 0.2601,\n",
       "         0.2587, 0.2654, 0.2613, 0.26  , 0.2557, 0.2552, 0.2616],\n",
       "        [0.2564, 0.256 , 0.2586, 0.259 , 0.257 , 0.26  , 0.26  , 0.2536,\n",
       "         0.2563, 0.2582, 0.2584, 0.2553, 0.2581, 0.2546, 0.2598, 0.2616,\n",
       "         0.2566, 0.2611, 0.2567, 0.2547, 0.2588, 0.2573, 0.2557, 0.2593,\n",
       "         0.2602, 0.2547, 0.2534, 0.2593, 0.2567, 0.258 , 0.2587],\n",
       "        [0.2549, 0.2595, 0.2617, 0.2565, 0.2607, 0.2582, 0.2568, 0.2577,\n",
       "         0.2542, 0.2562, 0.2568, 0.2572, 0.2569, 0.2565, 0.2588, 0.2552,\n",
       "         0.2562, 0.2589, 0.2546, 0.2576, 0.2566, 0.2566, 0.2587, 0.2595,\n",
       "         0.2631, 0.2584, 0.2569, 0.263 , 0.2606, 0.258 , 0.255 ],\n",
       "        [0.2566, 0.2612, 0.258 , 0.2585, 0.2564, 0.2602, 0.253 , 0.2604,\n",
       "         0.2578, 0.2574, 0.2555, 0.2564, 0.2614, 0.257 , 0.2598, 0.2604,\n",
       "         0.2597, 0.2561, 0.2612, 0.2564, 0.2586, 0.2545, 0.2581, 0.2613,\n",
       "         0.2589, 0.2555, 0.2598, 0.2588, 0.2588, 0.2614, 0.2599],\n",
       "        [0.2598, 0.2578, 0.2593, 0.2608, 0.2598, 0.2591, 0.26  , 0.258 ,\n",
       "         0.2567, 0.2575, 0.2531, 0.2585, 0.2555, 0.2559, 0.256 , 0.2561,\n",
       "         0.255 , 0.2587, 0.2536, 0.2566, 0.2571, 0.2547, 0.2525, 0.2578,\n",
       "         0.2618, 0.2581, 0.2591, 0.258 , 0.2554, 0.2597, 0.261 ],\n",
       "        [0.2638, 0.2611, 0.2591, 0.2585, 0.2565, 0.2588, 0.2575, 0.2586,\n",
       "         0.2586, 0.2552, 0.2562, 0.2595, 0.2657, 0.2604, 0.2589, 0.2563,\n",
       "         0.2628, 0.2585, 0.2575, 0.258 , 0.2544, 0.2594, 0.2577, 0.2532,\n",
       "         0.259 , 0.2583, 0.254 , 0.2575, 0.2605, 0.2564, 0.2499],\n",
       "        [0.259 , 0.2575, 0.2599, 0.2559, 0.2575, 0.2634, 0.2558, 0.2577,\n",
       "         0.257 , 0.2592, 0.2572, 0.2574, 0.2593, 0.2604, 0.2584, 0.2575,\n",
       "         0.2502, 0.2585, 0.2541, 0.2579, 0.2567, 0.2569, 0.2596, 0.2618,\n",
       "         0.2604, 0.2584, 0.2578, 0.2563, 0.2571, 0.2573, 0.2533]]])"
      ]
     },
     "execution_count": 15,
     "metadata": {},
     "output_type": "execute_result"
    }
   ],
   "source": [
    "twopoint"
   ]
  },
  {
   "cell_type": "code",
   "execution_count": 16,
   "metadata": {},
   "outputs": [
    {
     "data": {
      "text/plain": [
       "<matplotlib.image.AxesImage at 0x7f6b1ae567b8>"
      ]
     },
     "execution_count": 16,
     "metadata": {},
     "output_type": "execute_result"
    },
    {
     "data": {
      "image/png": "[encoded data removed]",
      "text/plain": [
       "<Figure size 432x288 with 1 Axes>"
      ]
     },
     "metadata": {},
     "output_type": "display_data"
    }
   ],
   "source": [
    "aat=return_slice(twopoint,10)\n",
    "plt.imshow(aat[0])"
   ]
  },
  {
   "cell_type": "code",
   "execution_count": null,
   "metadata": {},
   "outputs": [],
   "source": []
  },
  {
   "cell_type": "code",
   "execution_count": null,
   "metadata": {},
   "outputs": [],
   "source": []
  }
 ],
 "metadata": {
  "kernelspec": {
   "display_name": "Python 3",
   "language": "python",
   "name": "python3"
  },
  "language_info": {
   "codemirror_mode": {
    "name": "ipython",
    "version": 3
   },
   "file_extension": ".py",
   "mimetype": "text/x-python",
   "name": "python",
   "nbconvert_exporter": "python",
   "pygments_lexer": "ipython3",
   "version": "3.6.6"
  }
 },
 "nbformat": 4,
 "nbformat_minor": 2
}
