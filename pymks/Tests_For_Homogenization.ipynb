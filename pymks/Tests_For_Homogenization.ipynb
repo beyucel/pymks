{
 "cells": [
  {
   "cell_type": "markdown",
   "metadata": {},
   "source": [
    "# Test 1\n",
    "  Below is an example of using MKSHomogenizationModel to predict (or\n",
    "    classify) the type of microstructure using PCA and Logistic Regression."
   ]
  },
  {
   "cell_type": "code",
   "execution_count": 1,
   "metadata": {},
   "outputs": [],
   "source": [
    "import ipdb\n"
   ]
  },
  {
   "cell_type": "code",
   "execution_count": 2,
   "metadata": {},
   "outputs": [
    {
     "name": "stdout",
     "output_type": "stream",
     "text": [
      "hello\n"
     ]
    }
   ],
   "source": [
    "from sklearn.linear_model import LinearRegression\n",
    "from sklearn.preprocessing import PolynomialFeatures\n",
    "from sklearn.pipeline import Pipeline\n",
    "import numpy as np\n",
    "from  pymks.mks_homogenization_model import MKSHomogenizationModel\n",
    "n_states = 3\n",
    "domain = [-1, 1]\n",
    "\n",
    "from pymks.bases import LegendreBasis\n",
    "leg_basis = LegendreBasis(n_states=n_states, domain=domain)\n",
    "from sklearn.decomposition import PCA\n",
    "from sklearn.linear_model import LogisticRegression\n",
    "reducer = PCA(n_components=3)\n",
    "linker = LogisticRegression()\n",
    "model = MKSHomogenizationModel(basis=leg_basis, dimension_reducer=reducer, property_linker=linker)\n",
    "from pymks.datasets import make_cahn_hilliard\n",
    "X0, X1 = make_cahn_hilliard(n_samples=50)\n",
    "y0 = np.zeros(X0.shape[0])\n",
    "y1 = np.ones(X1.shape[0])\n",
    "\n",
    "X = np.concatenate((X0, X1))\n",
    "y = np.concatenate((y0, y1))\n",
    "\n",
    "model.fit(X, y)\n",
    "\n",
    "X0_test, X1_test = make_cahn_hilliard(n_samples=3)\n",
    "y0_test = model.predict(X0_test)\n",
    "y1_test = model.predict(X1_test)\n",
    "assert np.allclose(y0_test, [0, 0, 0])\n",
    "assert np.allclose(y1_test, [1, 1, 1])\n",
    "# Basically what this does is it classifies the initial state of the  cahn hillard with the final state so ot gives 0 for the inital state and gives 1 for the final state\n"
   ]
  },
  {
   "cell_type": "code",
   "execution_count": null,
   "metadata": {},
   "outputs": [],
   "source": []
  },
  {
   "cell_type": "code",
   "execution_count": null,
   "metadata": {},
   "outputs": [],
   "source": []
  },
  {
   "cell_type": "code",
   "execution_count": null,
   "metadata": {},
   "outputs": [],
   "source": []
  },
  {
   "cell_type": "code",
   "execution_count": null,
   "metadata": {},
   "outputs": [],
   "source": []
  },
  {
   "cell_type": "code",
   "execution_count": 16,
   "metadata": {},
   "outputs": [],
   "source": [
    "# FMKS version\n",
    "from sklearn.linear_model import LinearRegression\n",
    "from sklearn.preprocessing import PolynomialFeatures\n",
    "from sklearn.pipeline import Pipeline\n",
    "from dask.multiprocessing import get\n",
    "import dask.array as da\n",
    "\n",
    "import numpy as np\n",
    "n_states = 3\n",
    "domain = [-1, 1]\n",
    "\n",
    "from pymks.bases import LegendreBasis\n",
    "from pymks.fmks.data.cahn_hilliard import generate, solve\n",
    "leg_basis = LegendreBasis(n_states=n_states, domain=domain)\n",
    "from sklearn.decomposition import PCA\n",
    "from sklearn.linear_model import LogisticRegression\n",
    "reducer = PCA(n_components=3)\n",
    "linker = LogisticRegression()\n",
    "\n",
    "\n"
   ]
  },
  {
   "cell_type": "code",
   "execution_count": 4,
   "metadata": {},
   "outputs": [],
   "source": [
    "da.random.seed(99)\n",
    "\n",
    "data = generate(shape=(100, 41, 41), chunks=(40, 41, 41), delta_t=1e-2)"
   ]
  },
  {
   "cell_type": "code",
   "execution_count": 5,
   "metadata": {},
   "outputs": [],
   "source": [
    "X0,X1= data\n",
    "y0 = np.zeros(X0.shape[0])\n",
    "y1 = np.ones(X1.shape[0])"
   ]
  },
  {
   "cell_type": "code",
   "execution_count": 17,
   "metadata": {},
   "outputs": [],
   "source": [
    "X = np.concatenate((X0, X1))\n",
    "y = np.concatenate((y0, y1))"
   ]
  },
  {
   "cell_type": "code",
   "execution_count": 38,
   "metadata": {},
   "outputs": [
    {
     "data": {
      "text/plain": [
       "<function matplotlib.pyplot.show>"
      ]
     },
     "execution_count": 38,
     "metadata": {},
     "output_type": "execute_result"
    },
    {
     "data": {
      "image/png": "[encoded data removed]",
      "text/plain": [
       "<matplotlib.figure.Figure at 0x7fd666c14518>"
      ]
     },
     "metadata": {},
     "output_type": "display_data"
    }
   ],
   "source": [
    "import matplotlib.pyplot as plt\n",
    "\n",
    "plt.imshow(X[20])\n",
    "plt.show"
   ]
  },
  {
   "cell_type": "code",
   "execution_count": 34,
   "metadata": {},
   "outputs": [],
   "source": [
    "# My own Primitiva bases\n",
    "# replaces Primitive transform nstate 2 min -1 max 1\n",
    "X[X>0]=0\n",
    "X[X<0]=1\n",
    "\n",
    "\n",
    "\n"
   ]
  },
  {
   "cell_type": "code",
   "execution_count": 40,
   "metadata": {},
   "outputs": [
    {
     "data": {
      "text/plain": [
       "(200, 41, 41)"
      ]
     },
     "execution_count": 40,
     "metadata": {},
     "output_type": "execute_result"
    }
   ],
   "source": [
    "X.shape\n"
   ]
  },
  {
   "cell_type": "code",
   "execution_count": 41,
   "metadata": {},
   "outputs": [],
   "source": [
    "from pymks.fmks.correlations import auto_correlation"
   ]
  },
  {
   "cell_type": "code",
   "execution_count": 43,
   "metadata": {},
   "outputs": [],
   "source": [
    "\n",
    "chunks=X.shape\n",
    "Xa= da.from_array(X, chunks=chunks)\n",
    "Stats=auto_correlation(Xa)"
   ]
  },
  {
   "cell_type": "code",
   "execution_count": 46,
   "metadata": {},
   "outputs": [
    {
     "data": {
      "image/png": "[encoded data removed]",
      "text/plain": [
       "<matplotlib.figure.Figure at 0x7fd666aa9cf8>"
      ]
     },
     "metadata": {},
     "output_type": "display_data"
    }
   ],
   "source": [
    "plt.imshow(Stats[100])\n",
    "plt.show()"
   ]
  },
  {
   "cell_type": "code",
   "execution_count": 53,
   "metadata": {},
   "outputs": [
    {
     "ename": "ValueError",
     "evalue": "sequence too large; cannot be greater than 32",
     "output_type": "error",
     "traceback": [
      "\u001b[0;31m---------------------------------------------------------------------------\u001b[0m",
      "\u001b[0;31mValueError\u001b[0m                                Traceback (most recent call last)",
      "\u001b[0;32m<ipython-input-53-f92307894612>\u001b[0m in \u001b[0;36m<module>\u001b[0;34m()\u001b[0m\n\u001b[1;32m      4\u001b[0m \u001b[0;34m\u001b[0m\u001b[0m\n\u001b[1;32m      5\u001b[0m \u001b[0;34m\u001b[0m\u001b[0m\n\u001b[0;32m----> 6\u001b[0;31m \u001b[0maa\u001b[0m\u001b[0;34m=\u001b[0m\u001b[0mnp\u001b[0m\u001b[0;34m.\u001b[0m\u001b[0mndarray\u001b[0m\u001b[0;34m(\u001b[0m\u001b[0mX\u001b[0m\u001b[0;34m)\u001b[0m\u001b[0;34m\u001b[0m\u001b[0m\n\u001b[0m\u001b[1;32m      7\u001b[0m \u001b[0;34m\u001b[0m\u001b[0m\n\u001b[1;32m      8\u001b[0m \u001b[0;31m#pca.fit(X)\u001b[0m\u001b[0;34m\u001b[0m\u001b[0;34m\u001b[0m\u001b[0m\n",
      "\u001b[0;31mValueError\u001b[0m: sequence too large; cannot be greater than 32"
     ]
    }
   ],
   "source": [
    "pca=PCA(n_components=3,svd_solver='Full')\n",
    "\n",
    "type(Stats)\n",
    "\n",
    "\n",
    "aa=np.ndarray(X)\n",
    "\n",
    "#pca.fit(X)\n"
   ]
  },
  {
   "cell_type": "code",
   "execution_count": 9,
   "metadata": {},
   "outputs": [],
   "source": [
    "from pymks.fmks.bases.legendre import discretize,LegendreTransformer"
   ]
  },
  {
   "cell_type": "code",
   "execution_count": 10,
   "metadata": {},
   "outputs": [],
   "source": [
    "from pymks.fmks.bases.primitive import PrimitiveTransformer, redundancy,discretize\n",
    "from pymks.fmks.localization import LocalizationRegressor, flatten, ReshapeTransformer, coeff_to_real\n",
    "from pymks.fmks.func import iterate_times"
   ]
  },
  {
   "cell_type": "code",
   "execution_count": 11,
   "metadata": {},
   "outputs": [
    {
     "data": {
      "text/plain": [
       "\"\\nmodel = Pipeline(steps=[\\n    ('reduce', reducer),\\n    ('discretize', LegendreTransformer(n_state=5, min_=-1.0, max_=1.0)),\\n    ('regressor', linker)\\n])  \\n\""
      ]
     },
     "execution_count": 11,
     "metadata": {},
     "output_type": "execute_result"
    }
   ],
   "source": [
    "'''\n",
    "model = Pipeline(steps=[\n",
    "    ('reduce', reducer),\n",
    "    ('discretize', LegendreTransformer(n_state=5, min_=-1.0, max_=1.0)),\n",
    "    ('regressor', linker)\n",
    "])  \n",
    "'''\n"
   ]
  },
  {
   "cell_type": "code",
   "execution_count": 58,
   "metadata": {},
   "outputs": [
    {
     "data": {
      "text/plain": [
       "0.9999933391850937"
      ]
     },
     "execution_count": 58,
     "metadata": {},
     "output_type": "execute_result"
    }
   ],
   "source": [
    "np.max(X[1])"
   ]
  },
  {
   "cell_type": "code",
   "execution_count": 64,
   "metadata": {},
   "outputs": [],
   "source": [
    " A=discretize(X,n_state=3, min_=-1.0, max_=1.0)"
   ]
  },
  {
   "cell_type": "code",
   "execution_count": 65,
   "metadata": {},
   "outputs": [
    {
     "data": {
      "text/plain": [
       "(200, 41, 41, 3)"
      ]
     },
     "execution_count": 65,
     "metadata": {},
     "output_type": "execute_result"
    }
   ],
   "source": [
    "A.shape"
   ]
  },
  {
   "cell_type": "code",
   "execution_count": 74,
   "metadata": {},
   "outputs": [
    {
     "name": "stdout",
     "output_type": "stream",
     "text": [
      "dask.array<getitem, shape=(41, 41), dtype=float64, chunksize=(41, 41)>\n"
     ]
    }
   ],
   "source": [
    "print(A[1,:,:,1])"
   ]
  },
  {
   "cell_type": "markdown",
   "metadata": {},
   "source": [
    "# B\n"
   ]
  },
  {
   "cell_type": "code",
   "execution_count": 59,
   "metadata": {},
   "outputs": [
    {
     "ename": "ImportError",
     "evalue": "cannot import name 'correlations'",
     "output_type": "error",
     "traceback": [
      "\u001b[0;31m---------------------------------------------------------------------------\u001b[0m",
      "\u001b[0;31mImportError\u001b[0m                               Traceback (most recent call last)",
      "\u001b[0;32m<ipython-input-59-87781f1c8ecc>\u001b[0m in \u001b[0;36m<module>\u001b[0;34m()\u001b[0m\n\u001b[1;32m      1\u001b[0m \u001b[0;32mfrom\u001b[0m \u001b[0mpymks\u001b[0m\u001b[0;34m.\u001b[0m\u001b[0mdatasets\u001b[0m \u001b[0;32mimport\u001b[0m \u001b[0mmake_cahn_hilliard\u001b[0m\u001b[0;34m\u001b[0m\u001b[0m\n\u001b[0;32m----> 2\u001b[0;31m \u001b[0;32mfrom\u001b[0m \u001b[0mpymks\u001b[0m\u001b[0;34m.\u001b[0m\u001b[0mfmks\u001b[0m\u001b[0;34m.\u001b[0m\u001b[0mcorrelations\u001b[0m \u001b[0;32mimport\u001b[0m \u001b[0mcorrelations\u001b[0m\u001b[0;34m\u001b[0m\u001b[0m\n\u001b[0m\u001b[1;32m      3\u001b[0m \u001b[0mX0\u001b[0m\u001b[0;34m,\u001b[0m \u001b[0mX1\u001b[0m \u001b[0;34m=\u001b[0m \u001b[0mmake_cahn_hilliard\u001b[0m\u001b[0;34m(\u001b[0m\u001b[0mn_samples\u001b[0m\u001b[0;34m=\u001b[0m\u001b[0;36m50\u001b[0m\u001b[0;34m)\u001b[0m\u001b[0;34m\u001b[0m\u001b[0m\n\u001b[1;32m      4\u001b[0m \u001b[0my0\u001b[0m \u001b[0;34m=\u001b[0m \u001b[0mnp\u001b[0m\u001b[0;34m.\u001b[0m\u001b[0mzeros\u001b[0m\u001b[0;34m(\u001b[0m\u001b[0mX0\u001b[0m\u001b[0;34m.\u001b[0m\u001b[0mshape\u001b[0m\u001b[0;34m[\u001b[0m\u001b[0;36m0\u001b[0m\u001b[0;34m]\u001b[0m\u001b[0;34m)\u001b[0m\u001b[0;34m\u001b[0m\u001b[0m\n\u001b[1;32m      5\u001b[0m \u001b[0my1\u001b[0m \u001b[0;34m=\u001b[0m \u001b[0mnp\u001b[0m\u001b[0;34m.\u001b[0m\u001b[0mones\u001b[0m\u001b[0;34m(\u001b[0m\u001b[0mX1\u001b[0m\u001b[0;34m.\u001b[0m\u001b[0mshape\u001b[0m\u001b[0;34m[\u001b[0m\u001b[0;36m0\u001b[0m\u001b[0;34m]\u001b[0m\u001b[0;34m)\u001b[0m\u001b[0;34m\u001b[0m\u001b[0m\n",
      "\u001b[0;31mImportError\u001b[0m: cannot import name 'correlations'"
     ]
    }
   ],
   "source": [
    "from pymks.datasets import make_cahn_hilliard\n",
    "from pymks.fmks.correlations import correlations\n",
    "X0, X1 = make_cahn_hilliard(n_samples=50)\n",
    "y0 = np.zeros(X0.shape[0])\n",
    "y1 = np.ones(X1.shape[0])\n",
    "\n",
    "\n",
    "X = np.concatenate((X0, X1))\n",
    "y = np.concatenate((y0, y1))\n",
    "\n",
    "model2=Pipeline(steps=[\n",
    "    ('reducer',reducer)\n",
    "])\n",
    "\n",
    "\n"
   ]
  },
  {
   "cell_type": "markdown",
   "metadata": {},
   "source": [
    "# Test 2.a\n",
    "Let's first start with using the microstructure and effective\n",
    "properties.\n"
   ]
  },
  {
   "cell_type": "code",
   "execution_count": 28,
   "metadata": {},
   "outputs": [],
   "source": [
    "import numpy as np\n",
    "from sklearn.decomposition import PCA\n",
    "from sklearn.linear_model import LinearRegression\n",
    "from pymks.bases import PrimitiveBasis\n",
    "from pymks.stats import correlate\n",
    "\n",
    "reducer = PCA(n_components=2)\n",
    "linker = LinearRegression()\n",
    "prim_basis = PrimitiveBasis(n_states=2, domain=[0, 1])\n",
    "correlations = [(0, 0), (1, 1), (0, 1)]\n",
    "model = MKSHomogenizationModel(prim_basis,dimension_reducer=reducer,property_linker=linker,correlations=correlations)\n",
    "np.random.seed(99)\n",
    "X = np.random.randint(2, size=(3, 15))\n",
    "y = np.array([1, 2, 3])\n",
    "model.fit(X, y)\n",
    "X_stats = correlate(X, prim_basis)\n",
    "X_reshaped = X_stats.reshape((X_stats.shape[0], -1))\n",
    "X_pca = reducer.fit_transform(X_reshaped - np.mean(X_reshaped, axis=1)[:, None])\n",
    "assert np.allclose(model.reduced_fit_data, X_pca)\n"
   ]
  },
  {
   "cell_type": "markdown",
   "metadata": {},
   "source": [
    "# Test 2.b\n",
    "Now let's use the same method with spatial correlations instead of microtructures."
   ]
  },
  {
   "cell_type": "code",
   "execution_count": 29,
   "metadata": {},
   "outputs": [],
   "source": [
    "        >>> from sklearn.decomposition import PCA\n",
    "        >>> from sklearn.linear_model import LinearRegression\n",
    "        >>> from pymks.bases import PrimitiveBasis\n",
    "        >>> from pymks.stats import correlate\n",
    "\n",
    "        >>> reducer = PCA(n_components=2)\n",
    "        >>> linker = LinearRegression()\n",
    "        >>> prim_basis = PrimitiveBasis(n_states=2, domain=[0, 1])\n",
    "        >>> correlations = [(0, 0), (1, 1), (0, 1)]\n",
    "        >>> model = MKSHomogenizationModel(dimension_reducer=reducer,\n",
    "        ...                                property_linker=linker,\n",
    "        ...                                compute_correlations=False)\n",
    "        >>> np.random.seed(99)\n",
    "        >>> X = np.random.randint(2, size=(3, 15))\n",
    "        >>> y = np.array([1, 2, 3])\n",
    "        >>> X_stats = correlate(X, prim_basis, correlations=correlations)\n",
    "        >>> model.fit(X_stats, y)\n",
    "        >>> X_reshaped = X_stats.reshape((X_stats.shape[0], X_stats[0].size))\n",
    "        >>> X_pca = reducer.fit_transform(X_reshaped - np.mean(X_reshaped,\n",
    "        ...                               axis=1)[:, None])\n",
    "        >>> assert np.allclose(model.reduced_fit_data, X_pca)\n"
   ]
  },
  {
   "cell_type": "markdown",
   "metadata": {},
   "source": [
    "# Test 3a\n",
    "\n",
    "Returns:\n",
    " The predicted macroscopic property for `X`.\n"
   ]
  },
  {
   "cell_type": "code",
   "execution_count": 33,
   "metadata": {},
   "outputs": [],
   "source": [
    "        >>> import numpy as np\n",
    "        >>> from sklearn.manifold import LocallyLinearEmbedding\n",
    "        >>> from sklearn.linear_model import BayesianRidge\n",
    "        >>> from pymks.bases import PrimitiveBasis\n",
    "        >>> np.random.seed(1)\n",
    "        >>> X = np.random.randint(2, size=(50, 100))\n",
    "        >>> y = np.random.random(50)\n",
    "        >>> reducer = LocallyLinearEmbedding()\n",
    "        >>> linker = BayesianRidge()\n",
    "        >>> prim_basis = PrimitiveBasis(2, domain=[0, 1])\n",
    "        >>> model = MKSHomogenizationModel(prim_basis, n_components=2,\n",
    "        ...                                dimension_reducer=reducer,\n",
    "        ...                                property_linker=linker)\n",
    "        >>> model.fit(X, y)\n",
    "        >>> X_test = np.random.randint(2, size=(1, 100))\n",
    "        >>> y_pred = model.predict(X_test)"
   ]
  },
  {
   "cell_type": "markdown",
   "metadata": {},
   "source": [
    "# Test 3b\n",
    "        Predict with spatial correlations\n"
   ]
  },
  {
   "cell_type": "code",
   "execution_count": 34,
   "metadata": {},
   "outputs": [],
   "source": [
    "        >>> from pymks.stats import correlate\n",
    "        >>> model.compute_correlations = False\n",
    "        >>> X_corr = correlate(X, prim_basis, correlations=[(0, 0)])\n",
    "        >>> model.fit(X_corr, y)\n",
    "        >>> X_corr_test = correlate(X_test, prim_basis,\n",
    "        ...                         correlations=[(0, 0)])\n",
    "        >>> y_pred_stats = model.predict(X_corr_test)\n",
    "        >>> assert np.allclose(y_pred_stats, y_pred, atol=1e-3)\n"
   ]
  },
  {
   "cell_type": "code",
   "execution_count": null,
   "metadata": {},
   "outputs": [],
   "source": []
  },
  {
   "cell_type": "code",
   "execution_count": null,
   "metadata": {},
   "outputs": [],
   "source": []
  },
  {
   "cell_type": "code",
   "execution_count": null,
   "metadata": {},
   "outputs": [],
   "source": []
  }
 ],
 "metadata": {
  "kernelspec": {
   "display_name": "Python 3",
   "language": "python",
   "name": "python3"
  },
  "language_info": {
   "codemirror_mode": {
    "name": "ipython",
    "version": 3
   },
   "file_extension": ".py",
   "mimetype": "text/x-python",
   "name": "python",
   "nbconvert_exporter": "python",
   "pygments_lexer": "ipython3",
   "version": "3.6.4"
  }
 },
 "nbformat": 4,
 "nbformat_minor": 2
}
