{
 "cells": [
  {
   "cell_type": "code",
   "execution_count": 1,
   "metadata": {},
   "outputs": [],
   "source": [
    "from pymks.mks_homogenization_model import *"
   ]
  },
  {
   "cell_type": "code",
   "execution_count": 2,
   "metadata": {},
   "outputs": [
    {
     "name": "stdout",
     "output_type": "stream",
     "text": [
      "(0, 1)\n",
      "(0,)\n",
      "((0, 1, 0), (0, 1, 1))\n"
     ]
    }
   ],
   "source": [
    "        >>> import numpy as np\n",
    "        >>> from sklearn.decomposition import PCA\n",
    "        >>> from sklearn.linear_model import LinearRegression\n",
    "        >>> from pymks.bases import PrimitiveBasis\n",
    "        >>> from pymks.stats import correlate\n",
    "\n",
    "        >>> reducer = PCA(n_components=2)\n",
    "        >>> linker = LinearRegression()\n",
    "        >>> prim_basis = PrimitiveBasis(n_states=2, domain=[0, 1])\n",
    "        >>> correlations = [(0, 0), (1, 1), (0, 1)]\n",
    "        >>> model = MKSHomogenizationModel(prim_basis,\n",
    "        ...                                dimension_reducer=reducer,\n",
    "        ...                                property_linker=linker,\n",
    "        ...                                correlations=correlations)\n",
    "        >>> np.random.seed(99)\n",
    "        >>> X = np.random.randint(2, size=(3, 15))\n",
    "        >>> y = np.array([1, 2, 3])\n",
    "        >>> model.fit(X, y)\n",
    "        >>> X_stats = correlate(X, prim_basis)\n",
    "        >>> X_reshaped = X_stats.reshape((X_stats.shape[0], -1))\n",
    "        >>> X_pca = reducer.fit_transform(X_reshaped - np.mean(X_reshaped,\n",
    "        ...                               axis=1)[:, None])\n",
    "        >>> assert np.allclose(model.reduced_fit_data, X_pca)\n",
    "# This Basically checks if PCA works\n"
   ]
  },
  {
   "cell_type": "code",
   "execution_count": 3,
   "metadata": {},
   "outputs": [
    {
     "data": {
      "text/plain": [
       "(3, 15)"
      ]
     },
     "execution_count": 3,
     "metadata": {},
     "output_type": "execute_result"
    }
   ],
   "source": [
    "X.shape"
   ]
  },
  {
   "cell_type": "code",
   "execution_count": 4,
   "metadata": {},
   "outputs": [
    {
     "data": {
      "text/plain": [
       "array([1., 1., 1., 0., 1., 0., 0., 0., 1., 0., 1., 1., 0., 1., 1.])"
      ]
     },
     "execution_count": 4,
     "metadata": {},
     "output_type": "execute_result"
    }
   ],
   "source": [
    "prim_basis.discretize(X)[0,:,1]"
   ]
  },
  {
   "cell_type": "code",
   "execution_count": 5,
   "metadata": {},
   "outputs": [
    {
     "data": {
      "text/plain": [
       "array([1, 1, 1, 0, 1, 0, 0, 0, 1, 0, 1, 1, 0, 1, 1])"
      ]
     },
     "execution_count": 5,
     "metadata": {},
     "output_type": "execute_result"
    }
   ],
   "source": [
    "X[0,:]"
   ]
  },
  {
   "cell_type": "code",
   "execution_count": 6,
   "metadata": {},
   "outputs": [
    {
     "data": {
      "text/plain": [
       "array([[-0.44593102, -0.27448737],\n",
       "       [ 0.75160018, -0.03641466],\n",
       "       [-0.30566916,  0.31090204]])"
      ]
     },
     "execution_count": 6,
     "metadata": {},
     "output_type": "execute_result"
    }
   ],
   "source": [
    "model.reduced_fit_data"
   ]
  },
  {
   "cell_type": "code",
   "execution_count": 7,
   "metadata": {},
   "outputs": [
    {
     "data": {
      "text/plain": [
       "array([[-0.44593102, -0.27448737],\n",
       "       [ 0.75160018, -0.03641466],\n",
       "       [-0.30566916,  0.31090204]])"
      ]
     },
     "execution_count": 7,
     "metadata": {},
     "output_type": "execute_result"
    }
   ],
   "source": [
    "X_pca"
   ]
  },
  {
   "cell_type": "code",
   "execution_count": 14,
   "metadata": {},
   "outputs": [],
   "source": [
    "from pymks.stats import _auto_correlations,_cross_correlations"
   ]
  },
  {
   "cell_type": "code",
   "execution_count": 15,
   "metadata": {},
   "outputs": [],
   "source": [
    "    >>> l = _auto_correlations(np.arange(3))\n",
    "    >>> assert l == ((0, 1, 2), (0, 1, 2))"
   ]
  },
  {
   "cell_type": "code",
   "execution_count": 16,
   "metadata": {},
   "outputs": [],
   "source": [
    "    >>> l = _cross_correlations(np.arange(3))\n",
    "    >>> assert l == ((0, 0, 1), (1, 2, 2))"
   ]
  },
  {
   "cell_type": "code",
   "execution_count": 11,
   "metadata": {},
   "outputs": [
    {
     "name": "stdout",
     "output_type": "stream",
     "text": [
      "(0, 1)\n",
      "(0,)\n",
      "((0, 1, 0), (0, 1, 1))\n"
     ]
    }
   ],
   "source": [
    "    >>> from pymks import PrimitiveBasis\n",
    "    >>> prim_basis = PrimitiveBasis(2, [0, 1])\n",
    "    >>>\n",
    "    >>> np.random.seed(0)\n",
    "    >>> X = np.random.randint(2, size=(1, 3))\n",
    "    >>> X_corr = correlate(X, prim_basis)\n",
    "    >>> X_result = np.array([[0, 0.5, 0],\n",
    "    ...                      [1 / 3., 2 / 3., 0],\n",
    "    ...                      [0, 0.5, 0.5]])\n",
    "    >>> assert np.allclose(X_corr, X_result)"
   ]
  },
  {
   "cell_type": "code",
   "execution_count": 12,
   "metadata": {},
   "outputs": [
    {
     "data": {
      "text/plain": [
       "array([[0, 1, 1]])"
      ]
     },
     "execution_count": 12,
     "metadata": {},
     "output_type": "execute_result"
    }
   ],
   "source": [
    "X"
   ]
  },
  {
   "cell_type": "code",
   "execution_count": null,
   "metadata": {},
   "outputs": [],
   "source": []
  }
 ],
 "metadata": {
  "kernelspec": {
   "display_name": "Python 3",
   "language": "python",
   "name": "python3"
  },
  "language_info": {
   "codemirror_mode": {
    "name": "ipython",
    "version": 3
   },
   "file_extension": ".py",
   "mimetype": "text/x-python",
   "name": "python",
   "nbconvert_exporter": "python",
   "pygments_lexer": "ipython3",
   "version": "3.6.4"
  }
 },
 "nbformat": 4,
 "nbformat_minor": 2
}
