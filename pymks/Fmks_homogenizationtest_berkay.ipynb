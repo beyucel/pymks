{
 "cells": [
  {
   "cell_type": "code",
   "execution_count": 6,
   "metadata": {},
   "outputs": [],
   "source": [
    "from sklearn.linear_model import LinearRegression\n",
    "from sklearn.preprocessing import PolynomialFeatures\n",
    "from sklearn.pipeline import Pipeline\n",
    "from dask.multiprocessing import get\n",
    "import dask.array as da\n",
    "from pymks.fmks.bases.legendre import LegendreTransformer\n",
    "import numpy as np\n",
    "n_states = 3\n",
    "domain = [-1, 1]\n",
    "\n",
    "from pymks.bases import LegendreBasis\n",
    "from pymks.fmks.data.cahn_hilliard import generate, solve\n",
    "leg_basis = LegendreBasis(n_states=n_states, domain=domain)\n",
    "from sklearn.decomposition import PCA\n",
    "from sklearn.linear_model import LogisticRegression\n",
    "reducer = PCA(n_components=3)\n",
    "linker = LogisticRegression()"
   ]
  },
  {
   "cell_type": "code",
   "execution_count": 7,
   "metadata": {},
   "outputs": [],
   "source": [
    "data = generate(shape=(100, 41, 41), chunks=(40, 41, 41), delta_t=1e-2)"
   ]
  },
  {
   "cell_type": "code",
   "execution_count": 8,
   "metadata": {},
   "outputs": [],
   "source": [
    "X0,X1= data\n",
    "y0 = np.zeros(X0.shape[0])\n",
    "y1 = np.ones(X1.shape[0])\n",
    "X = np.concatenate((X0, X1))\n",
    "y = np.concatenate((y0, y1))"
   ]
  },
  {
   "cell_type": "code",
   "execution_count": 9,
   "metadata": {},
   "outputs": [],
   "source": [
    "aaa=LegendreTransformer(n_state=3,min_=domain[0],max_=domain[1]).transform(X1)"
   ]
  },
  {
   "cell_type": "code",
   "execution_count": 13,
   "metadata": {},
   "outputs": [
    {
     "data": {
      "text/plain": [
       "<matplotlib.image.AxesImage at 0x7fd0943a9a90>"
      ]
     },
     "execution_count": 13,
     "metadata": {},
     "output_type": "execute_result"
    },
    {
     "data": {
      "image/png": "[encoded data removed]",
      "text/plain": [
       "<matplotlib.figure.Figure at 0x7fd09443e518>"
      ]
     },
     "metadata": {},
     "output_type": "display_data"
    }
   ],
   "source": [
    "import matplotlib.pyplot as plt\n",
    "\n",
    "plt.subplot(131)\n",
    "plt.imshow(aaa[0,:,:,0])\n",
    "plt.subplot(132)\n",
    "plt.imshow(aaa[0,:,:,1])\n",
    "plt.subplot(133)\n",
    "plt.imshow(aaa[0,:,:,2])\n"
   ]
  },
  {
   "cell_type": "code",
   "execution_count": 24,
   "metadata": {},
   "outputs": [
    {
     "data": {
      "text/plain": [
       "array([[-0.18336003, -0.10396436, -0.07879285, ..., -0.12013544,\n",
       "        -0.22740154, -0.23101409],\n",
       "       [-0.11662808, -0.11447337, -0.1584342 , ..., -0.08685772,\n",
       "        -0.22414353, -0.23867674],\n",
       "       [-0.10802399, -0.17290015, -0.21241056, ..., -0.08738205,\n",
       "        -0.14348812, -0.16721413],\n",
       "       ...,\n",
       "       [-0.10882273, -0.10718828, -0.04304691, ..., -0.14683324,\n",
       "        -0.04203467,  0.01244876],\n",
       "       [-0.11972769, -0.06655921,  0.05691418, ..., -0.17299878,\n",
       "        -0.04445113, -0.00821481],\n",
       "       [-0.15779722, -0.10558066,  0.02631669, ..., -0.18833836,\n",
       "        -0.18382168, -0.13541006]])"
      ]
     },
     "execution_count": 24,
     "metadata": {},
     "output_type": "execute_result"
    }
   ],
   "source": [
    "np.array(aaa[0,:,:,1])"
   ]
  },
  {
   "cell_type": "code",
   "execution_count": null,
   "metadata": {},
   "outputs": [],
   "source": []
  },
  {
   "cell_type": "code",
   "execution_count": null,
   "metadata": {},
   "outputs": [],
   "source": []
  }
 ],
 "metadata": {
  "kernelspec": {
   "display_name": "Python 3",
   "language": "python",
   "name": "python3"
  },
  "language_info": {
   "codemirror_mode": {
    "name": "ipython",
    "version": 3
   },
   "file_extension": ".py",
   "mimetype": "text/x-python",
   "name": "python",
   "nbconvert_exporter": "python",
   "pygments_lexer": "ipython3",
   "version": "3.6.4"
  }
 },
 "nbformat": 4,
 "nbformat_minor": 2
}
