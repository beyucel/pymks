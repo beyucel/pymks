{
 "cells": [
  {
   "cell_type": "code",
   "execution_count": 11,
   "metadata": {},
   "outputs": [],
   "source": [
    "from pymks.mks_homogenization_model import *"
   ]
  },
  {
   "cell_type": "code",
   "execution_count": 12,
   "metadata": {},
   "outputs": [],
   "source": [
    "    >>> import numpy as np\n",
    "    >>> n_states = 3\n",
    "    >>> domain = [-1, 1]\n",
    "\n",
    "    >>> from pymks.bases import LegendreBasis\n",
    "    >>> leg_basis = LegendreBasis(n_states=n_states, domain=domain)\n",
    "    >>> from sklearn.decomposition import PCA\n",
    "    >>> from sklearn.linear_model import LogisticRegression\n",
    "    >>> reducer = PCA(n_components=3)\n",
    "    >>> linker = LogisticRegression()\n",
    "    >>> model = MKSHomogenizationModel(\n",
    "    ...     basis=leg_basis, dimension_reducer=reducer, property_linker=linker)\n",
    "    >>> from pymks.datasets import make_cahn_hilliard\n",
    "    >>> X0, X1 = make_cahn_hilliard(n_samples=50)\n",
    "    >>> y0 = np.zeros(X0.shape[0])\n",
    "    >>> y1 = np.ones(X1.shape[0])\n",
    "\n",
    "    >>> X = np.concatenate((X0, X1))\n",
    "    >>> y = np.concatenate((y0, y1))\n",
    "\n",
    "    >>> model.fit(X, y)\n",
    "\n",
    "    >>> X0_test, X1_test = make_cahn_hilliard(n_samples=3)\n",
    "    >>> y0_test = model.predict(X0_test)\n",
    "    >>> y1_test = model.predict(X1_test)\n",
    "    >>> assert np.allclose(y0_test, [0, 0, 0])\n",
    "    >>> assert np.allclose(y1_test, [1, 1, 1])\n",
    "    \n"
   ]
  },
  {
   "cell_type": "code",
   "execution_count": null,
   "metadata": {},
   "outputs": [],
   "source": []
  },
  {
   "cell_type": "code",
   "execution_count": null,
   "metadata": {},
   "outputs": [],
   "source": []
  }
 ],
 "metadata": {
  "kernelspec": {
   "display_name": "Python 3",
   "language": "python",
   "name": "python3"
  },
  "language_info": {
   "codemirror_mode": {
    "name": "ipython",
    "version": 3
   },
   "file_extension": ".py",
   "mimetype": "text/x-python",
   "name": "python",
   "nbconvert_exporter": "python",
   "pygments_lexer": "ipython3",
   "version": "3.6.4"
  }
 },
 "nbformat": 4,
 "nbformat_minor": 2
}
